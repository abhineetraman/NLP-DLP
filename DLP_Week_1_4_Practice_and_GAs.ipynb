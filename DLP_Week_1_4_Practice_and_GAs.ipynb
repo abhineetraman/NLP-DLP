{
  "cells": [
    {
      "cell_type": "markdown",
      "metadata": {
        "id": "y0oPqNYHqB21"
      },
      "source": [
        "# Hello Everyone,\n",
        "\n",
        "This is the DLP Course Notebook. This will be used for first 4 weeks of the courses in continuation. GA will be added below. It will be fun to learn and connect together.\n",
        "\n",
        "> By Abhineet Raman\n",
        "\n"
      ]
    },
    {
      "cell_type": "markdown",
      "metadata": {
        "id": "9g4uwpFrpyT0"
      },
      "source": [
        "# Learning the HuggingFace Library and using PyTorch library for training and testing Deep Learning Models.\n"
      ]
    },
    {
      "cell_type": "markdown",
      "metadata": {
        "id": "iW96zlNv5Lf5"
      },
      "source": [
        "## Installing Modules"
      ]
    },
    {
      "cell_type": "code",
      "execution_count": null,
      "metadata": {
        "colab": {
          "base_uri": "https://localhost:8080/"
        },
        "id": "92DL_aF_5N0y",
        "outputId": "a7c2ab41-5c80-4e9c-d148-f446bb064ae0"
      },
      "outputs": [
        {
          "name": "stdout",
          "output_type": "stream",
          "text": [
            "Collecting datasets\n",
            "  Downloading datasets-3.2.0-py3-none-any.whl.metadata (20 kB)\n",
            "Requirement already satisfied: filelock in /usr/local/lib/python3.11/dist-packages (from datasets) (3.17.0)\n",
            "Requirement already satisfied: numpy>=1.17 in /usr/local/lib/python3.11/dist-packages (from datasets) (1.26.4)\n",
            "Requirement already satisfied: pyarrow>=15.0.0 in /usr/local/lib/python3.11/dist-packages (from datasets) (17.0.0)\n",
            "Collecting dill<0.3.9,>=0.3.0 (from datasets)\n",
            "  Downloading dill-0.3.8-py3-none-any.whl.metadata (10 kB)\n",
            "Requirement already satisfied: pandas in /usr/local/lib/python3.11/dist-packages (from datasets) (2.2.2)\n",
            "Requirement already satisfied: requests>=2.32.2 in /usr/local/lib/python3.11/dist-packages (from datasets) (2.32.3)\n",
            "Requirement already satisfied: tqdm>=4.66.3 in /usr/local/lib/python3.11/dist-packages (from datasets) (4.67.1)\n",
            "Collecting xxhash (from datasets)\n",
            "  Downloading xxhash-3.5.0-cp311-cp311-manylinux_2_17_x86_64.manylinux2014_x86_64.whl.metadata (12 kB)\n",
            "Collecting multiprocess<0.70.17 (from datasets)\n",
            "  Downloading multiprocess-0.70.16-py311-none-any.whl.metadata (7.2 kB)\n",
            "Collecting fsspec<=2024.9.0,>=2023.1.0 (from fsspec[http]<=2024.9.0,>=2023.1.0->datasets)\n",
            "  Downloading fsspec-2024.9.0-py3-none-any.whl.metadata (11 kB)\n",
            "Requirement already satisfied: aiohttp in /usr/local/lib/python3.11/dist-packages (from datasets) (3.11.11)\n",
            "Requirement already satisfied: huggingface-hub>=0.23.0 in /usr/local/lib/python3.11/dist-packages (from datasets) (0.27.1)\n",
            "Requirement already satisfied: packaging in /usr/local/lib/python3.11/dist-packages (from datasets) (24.2)\n",
            "Requirement already satisfied: pyyaml>=5.1 in /usr/local/lib/python3.11/dist-packages (from datasets) (6.0.2)\n",
            "Requirement already satisfied: aiohappyeyeballs>=2.3.0 in /usr/local/lib/python3.11/dist-packages (from aiohttp->datasets) (2.4.4)\n",
            "Requirement already satisfied: aiosignal>=1.1.2 in /usr/local/lib/python3.11/dist-packages (from aiohttp->datasets) (1.3.2)\n",
            "Requirement already satisfied: attrs>=17.3.0 in /usr/local/lib/python3.11/dist-packages (from aiohttp->datasets) (24.3.0)\n",
            "Requirement already satisfied: frozenlist>=1.1.1 in /usr/local/lib/python3.11/dist-packages (from aiohttp->datasets) (1.5.0)\n",
            "Requirement already satisfied: multidict<7.0,>=4.5 in /usr/local/lib/python3.11/dist-packages (from aiohttp->datasets) (6.1.0)\n",
            "Requirement already satisfied: propcache>=0.2.0 in /usr/local/lib/python3.11/dist-packages (from aiohttp->datasets) (0.2.1)\n",
            "Requirement already satisfied: yarl<2.0,>=1.17.0 in /usr/local/lib/python3.11/dist-packages (from aiohttp->datasets) (1.18.3)\n",
            "Requirement already satisfied: typing-extensions>=3.7.4.3 in /usr/local/lib/python3.11/dist-packages (from huggingface-hub>=0.23.0->datasets) (4.12.2)\n",
            "Requirement already satisfied: charset-normalizer<4,>=2 in /usr/local/lib/python3.11/dist-packages (from requests>=2.32.2->datasets) (3.4.1)\n",
            "Requirement already satisfied: idna<4,>=2.5 in /usr/local/lib/python3.11/dist-packages (from requests>=2.32.2->datasets) (3.10)\n",
            "Requirement already satisfied: urllib3<3,>=1.21.1 in /usr/local/lib/python3.11/dist-packages (from requests>=2.32.2->datasets) (2.3.0)\n",
            "Requirement already satisfied: certifi>=2017.4.17 in /usr/local/lib/python3.11/dist-packages (from requests>=2.32.2->datasets) (2024.12.14)\n",
            "Requirement already satisfied: python-dateutil>=2.8.2 in /usr/local/lib/python3.11/dist-packages (from pandas->datasets) (2.8.2)\n",
            "Requirement already satisfied: pytz>=2020.1 in /usr/local/lib/python3.11/dist-packages (from pandas->datasets) (2024.2)\n",
            "Requirement already satisfied: tzdata>=2022.7 in /usr/local/lib/python3.11/dist-packages (from pandas->datasets) (2025.1)\n",
            "Requirement already satisfied: six>=1.5 in /usr/local/lib/python3.11/dist-packages (from python-dateutil>=2.8.2->pandas->datasets) (1.17.0)\n",
            "Downloading datasets-3.2.0-py3-none-any.whl (480 kB)\n",
            "\u001b[2K   \u001b[90m━━━━━━━━━━━━━━━━━━━━━━━━━━━━━━━━━━━━━━━━\u001b[0m \u001b[32m480.6/480.6 kB\u001b[0m \u001b[31m12.4 MB/s\u001b[0m eta \u001b[36m0:00:00\u001b[0m\n",
            "\u001b[?25hDownloading dill-0.3.8-py3-none-any.whl (116 kB)\n",
            "\u001b[2K   \u001b[90m━━━━━━━━━━━━━━━━━━━━━━━━━━━━━━━━━━━━━━━━\u001b[0m \u001b[32m116.3/116.3 kB\u001b[0m \u001b[31m9.4 MB/s\u001b[0m eta \u001b[36m0:00:00\u001b[0m\n",
            "\u001b[?25hDownloading fsspec-2024.9.0-py3-none-any.whl (179 kB)\n",
            "\u001b[2K   \u001b[90m━━━━━━━━━━━━━━━━━━━━━━━━━━━━━━━━━━━━━━━━\u001b[0m \u001b[32m179.3/179.3 kB\u001b[0m \u001b[31m12.4 MB/s\u001b[0m eta \u001b[36m0:00:00\u001b[0m\n",
            "\u001b[?25hDownloading multiprocess-0.70.16-py311-none-any.whl (143 kB)\n",
            "\u001b[2K   \u001b[90m━━━━━━━━━━━━━━━━━━━━━━━━━━━━━━━━━━━━━━━━\u001b[0m \u001b[32m143.5/143.5 kB\u001b[0m \u001b[31m10.1 MB/s\u001b[0m eta \u001b[36m0:00:00\u001b[0m\n",
            "\u001b[?25hDownloading xxhash-3.5.0-cp311-cp311-manylinux_2_17_x86_64.manylinux2014_x86_64.whl (194 kB)\n",
            "\u001b[2K   \u001b[90m━━━━━━━━━━━━━━━━━━━━━━━━━━━━━━━━━━━━━━━━\u001b[0m \u001b[32m194.8/194.8 kB\u001b[0m \u001b[31m14.4 MB/s\u001b[0m eta \u001b[36m0:00:00\u001b[0m\n",
            "\u001b[?25hInstalling collected packages: xxhash, fsspec, dill, multiprocess, datasets\n",
            "  Attempting uninstall: fsspec\n",
            "    Found existing installation: fsspec 2024.10.0\n",
            "    Uninstalling fsspec-2024.10.0:\n",
            "      Successfully uninstalled fsspec-2024.10.0\n"
          ]
        }
      ],
      "source": [
        "!pip install datasets"
      ]
    },
    {
      "cell_type": "markdown",
      "metadata": {
        "id": "7NLTE40uIcAR"
      },
      "source": [
        "# Importing modules dataset to load, understand and play with dataset library of Huggingface"
      ]
    },
    {
      "cell_type": "code",
      "execution_count": null,
      "metadata": {
        "id": "lIEyamutmXom"
      },
      "outputs": [],
      "source": [
        "# prompt: import datasets module from huggingface\n",
        "from datasets import load_dataset, get_dataset_config_names, get_dataset_split_names, load_from_disk\n",
        "from pprint import pprint\n",
        "\n",
        "# Example usage (replace with your desired dataset)\n",
        "dataset = load_dataset(\"stanfordnlp/imdb\")\n",
        "dataset"
      ]
    },
    {
      "cell_type": "code",
      "execution_count": null,
      "metadata": {
        "id": "njplgpGuvppi"
      },
      "outputs": [],
      "source": [
        "from datasets import get_dataset_infos\n",
        "\n",
        "dataset_infos = get_dataset_infos(\"stanfordnlp/imdb\")\n",
        "pprint(dataset_infos['plain_text'].dataset_size/(1024*1024))"
      ]
    },
    {
      "cell_type": "markdown",
      "metadata": {
        "id": "H3J431PepVcA"
      },
      "source": [
        "## Selecting the train dataset from the whole Dataset\n",
        "\n",
        "Specific dataset is required when we wnat task specific fine-tuning of model or training models with standard dataset additionly."
      ]
    },
    {
      "cell_type": "code",
      "execution_count": null,
      "metadata": {
        "id": "XQQBiQJ9n7ZE"
      },
      "outputs": [],
      "source": [
        "#method -1\n",
        "train_dataset = dataset[\"train\"]\n",
        "train_dataset\n",
        "\n",
        "#Method-2\n",
        "train_imbd = load_dataset(\"stanfordnlp/imdb\", split=\"train\")\n",
        "train_imbd"
      ]
    },
    {
      "cell_type": "markdown",
      "metadata": {
        "id": "jd3PRhcTu0b3"
      },
      "source": [
        "Checking type of train data"
      ]
    },
    {
      "cell_type": "code",
      "execution_count": null,
      "metadata": {
        "id": "Wc2Bi0MNuzUt"
      },
      "outputs": [],
      "source": [
        "print(type(train_imbd))\n",
        "\n",
        "# data inside this type\n",
        "pprint(train_imbd.features)\n",
        "print(type(train_imbd.features))"
      ]
    },
    {
      "cell_type": "markdown",
      "metadata": {
        "id": "-L7iyN75peLI"
      },
      "source": [
        "## Deleting the unsupervised part\n",
        "\n",
        "Delecting specific part of dataset to be more precise towards training or testing."
      ]
    },
    {
      "cell_type": "code",
      "execution_count": null,
      "metadata": {
        "id": "PxTQMgRWpjCL"
      },
      "outputs": [],
      "source": [
        "_ = dataset.pop('unsupervised')\n",
        "dataset"
      ]
    },
    {
      "cell_type": "code",
      "execution_count": null,
      "metadata": {
        "id": "hsXMVrEhpnoh"
      },
      "outputs": [],
      "source": [
        "idx = [i for i in range(100)]\n",
        "\n",
        "selected_data = dataset['train'].select(idx)\n",
        "selected_data"
      ]
    },
    {
      "cell_type": "markdown",
      "metadata": {
        "id": "TCPRD3BJocs8"
      },
      "source": [
        "## Saving data into local system"
      ]
    },
    {
      "cell_type": "code",
      "execution_count": null,
      "metadata": {
        "id": "GQmH44-RogX-"
      },
      "outputs": [],
      "source": [
        "dataset.save_to_disk(\"pyarrow_dataset/imdb_dataset\")"
      ]
    },
    {
      "cell_type": "markdown",
      "metadata": {
        "id": "K9loriCAo5Kx"
      },
      "source": [
        "## Loading from disk"
      ]
    },
    {
      "cell_type": "code",
      "execution_count": null,
      "metadata": {
        "id": "5N8MyV9bo7iX"
      },
      "outputs": [],
      "source": [
        "loaded_dataset = load_from_disk(\"pyarrow_dataset/imdb_dataset\")\n",
        "loaded_dataset"
      ]
    },
    {
      "cell_type": "markdown",
      "metadata": {
        "id": "kPQgxsW0RRae"
      },
      "source": [
        "# Loading Translation Dataset"
      ]
    },
    {
      "cell_type": "code",
      "execution_count": null,
      "metadata": {
        "id": "E-0a4P7h5x9h"
      },
      "outputs": [],
      "source": [
        "print(get_dataset_config_names(\"wmt/wmt14\"))\n",
        "print(get_dataset_split_names(\"wmt/wmt14\", \"hi-en\"))"
      ]
    },
    {
      "cell_type": "code",
      "execution_count": null,
      "metadata": {
        "id": "p5gNrmUPSw56"
      },
      "outputs": [],
      "source": [
        "trans_data = load_dataset(\"wmt14\", \"hi-en\")\n",
        "trans_data"
      ]
    },
    {
      "cell_type": "markdown",
      "metadata": {
        "id": "FyN91mUSx72X"
      },
      "source": [
        "## Comman Methods"
      ]
    },
    {
      "cell_type": "code",
      "execution_count": null,
      "metadata": {
        "id": "LIFXMRF5x-1P"
      },
      "outputs": [],
      "source": [
        "import multiprocessing\n",
        "print(multiprocessing.cpu_count())"
      ]
    },
    {
      "cell_type": "markdown",
      "metadata": {
        "id": "cNwyF6duy_lA"
      },
      "source": [
        "## Filtering"
      ]
    },
    {
      "cell_type": "code",
      "execution_count": null,
      "metadata": {
        "id": "E37NJSbmy-13"
      },
      "outputs": [],
      "source": [
        "print(\"Before Filtering\")\n",
        "print(20*'=')\n",
        "print(dataset)"
      ]
    },
    {
      "cell_type": "code",
      "execution_count": null,
      "metadata": {
        "id": "U9nVGe_Xzx6m"
      },
      "outputs": [],
      "source": [
        "num_words = 100\n",
        "dataset = dataset.filter(lambda x: len(x['text'].split(' ')) >= num_words)\n",
        "print(\"After Filtering\")\n",
        "print(20*'=')\n",
        "print(dataset)"
      ]
    },
    {
      "cell_type": "markdown",
      "metadata": {
        "id": "_ra0CNxTLqto"
      },
      "source": [
        "### Mapping"
      ]
    },
    {
      "cell_type": "code",
      "execution_count": null,
      "metadata": {
        "id": "WgwKDZs6Ltg4"
      },
      "outputs": [],
      "source": [
        "def add_prefix(ex):\n",
        "  ex['text'] = 'IMDB' + ex['text']\n",
        "  return ex\n",
        "\n",
        "dataset = dataset.map(add_prefix)\n",
        "dataset"
      ]
    },
    {
      "cell_type": "markdown",
      "metadata": {
        "id": "QyhvnCbuXYJl"
      },
      "source": [
        "## Printing the few samples from book Corpus\n"
      ]
    },
    {
      "cell_type": "code",
      "execution_count": null,
      "metadata": {
        "id": "5AZkYkOeMNJN"
      },
      "outputs": [],
      "source": [
        "print(dataset['train']['text'][1000])"
      ]
    },
    {
      "cell_type": "markdown",
      "metadata": {
        "id": "uqH-4srtPO9_"
      },
      "source": [
        "# Week-1 GAs"
      ]
    },
    {
      "cell_type": "markdown",
      "metadata": {
        "id": "NyOtquVdSkDL"
      },
      "source": [
        "## Question-1"
      ]
    },
    {
      "cell_type": "code",
      "execution_count": null,
      "metadata": {
        "id": "F4Gkq3rmPS4H"
      },
      "outputs": [],
      "source": [
        "#Getting Configration and training sample details of Naamapadam Dataset\n",
        "print(get_dataset_config_names('ai4bharat/naamapadam'))\n",
        "print(get_dataset_split_names('ai4bharat/naamapadam', 'hi'))\n",
        "\n",
        "\n",
        "# importing dataset\n",
        "hindi_dataset = load_dataset('ai4bharat/naamapadam', 'hi')\n",
        "hindi_dataset.save_to_disk('pyarrow_dataset/hindi_dataset')\n",
        "tamil_dataset = load_dataset('ai4bharat/naamapadam', 'ta')\n",
        "tamil_dataset.save_to_disk('pyarrow_dataset/tamil_dataset')\n",
        "print(hindi_dataset)\n",
        "print(tamil_dataset)\n",
        "\n",
        "\n",
        "# Checking labels and tags\n",
        "print(hindi_dataset['train'].features)\n",
        "print(tamil_dataset['train'].features)"
      ]
    },
    {
      "cell_type": "markdown",
      "metadata": {
        "id": "cLpJyLP0SjEn"
      },
      "source": [
        "## Question-2"
      ]
    },
    {
      "cell_type": "code",
      "execution_count": null,
      "metadata": {
        "id": "OtAi0tsdSinE"
      },
      "outputs": [],
      "source": [
        "ds = load_dataset('ai4bharat/naamapadam', 'ta')\n",
        "\n",
        "#locating the cache directory\n",
        "print(ds.cache_files)"
      ]
    },
    {
      "cell_type": "markdown",
      "metadata": {
        "id": "XTUmKT3orVlT"
      },
      "source": [
        "## Question-3 and Question-4"
      ]
    },
    {
      "cell_type": "code",
      "execution_count": null,
      "metadata": {
        "id": "Eq2pqOjArKva"
      },
      "outputs": [],
      "source": [
        "# Calculating size of the directory\n",
        "\n",
        "import os\n",
        "\n",
        "ds = load_from_disk('pyarrow_dataset/tamil_dataset')\n",
        "print(ds)\n",
        "\n",
        "# Calculate the total size of the directory\n",
        "def calculate_directory_size(directory):\n",
        "    total_size = 0\n",
        "    for dirpath, dirnames, filenames in os.walk(directory):\n",
        "        for filename in filenames:\n",
        "            filepath = os.path.join(dirpath, filename)\n",
        "            total_size += os.path.getsize(filepath)\n",
        "    return total_size\n",
        "\n",
        "# Get the size of the 'pyarrow_dataset/tamil_dataset' directory\n",
        "dataset_directory = 'pyarrow_dataset/tamil_dataset'\n",
        "total_size_bytes = calculate_directory_size(dataset_directory)\n",
        "\n",
        "# Convert size to MB\n",
        "total_size_mb = total_size_bytes / (1024 * 1024)\n",
        "print(f\"Total size of the directory: {total_size_mb:.2f} MB\")\n",
        "\n",
        "# 2nd method\n",
        "\n",
        "#ds = load_dataset('ai4bharat/naamapadam', 'ta', download_mode=\"force_redownload\")\n",
        "dataset_infos = get_dataset_infos(\"ai4bharat/naamapadam\")['ta']\n",
        "#pprint(dataset_infos)\n",
        "pprint(f\"Tamil dataset size in MB:  {dataset_infos.dataset_size/(1024*1024)}\")\n",
        "\n",
        "dataset_infos = get_dataset_infos(\"ai4bharat/naamapadam\")['hi']\n",
        "pprint(f\"Hindi dataset size in MB: {dataset_infos.dataset_size/(1024*1024)}\")"
      ]
    },
    {
      "cell_type": "markdown",
      "metadata": {
        "id": "Lm9kMSQrUVCC"
      },
      "source": [
        "## Question-5"
      ]
    },
    {
      "cell_type": "code",
      "execution_count": null,
      "metadata": {
        "id": "wyGCMo9wTvAU"
      },
      "outputs": [],
      "source": [
        "# Create a new column named “num tokens”. Compute the number of tokens (words) in each sample and store the results in the newly created column. Reassign the modified dataset to the same variable “ds”. How many tokens (in millions) are there in the entire dataset?\n",
        "\n",
        "ds = load_dataset('ai4bharat/naamapadam', 'ta')\n",
        "# The map function should return a dictionary with the new column and its value.\n",
        "ds = ds.map(lambda x: {'num_tokens': len(x['tokens'])})\n",
        "ds\n",
        "\n",
        "# Calculate the sum of 'num_tokens' for the 'train' split\n",
        "total_tokens = sum(x['num_tokens'] for x in ds['train']) + sum(x['num_tokens'] for x in ds['test']) + sum(x['num_tokens'] for x in ds['validation'])\n",
        "\n",
        "# Convert to millions\n",
        "total_tokens_millions = total_tokens / 1000000\n",
        "\n",
        "print(total_tokens)"
      ]
    },
    {
      "cell_type": "markdown",
      "metadata": {
        "id": "skBzdEeEewHR"
      },
      "source": [
        "## Question-7"
      ]
    },
    {
      "cell_type": "code",
      "execution_count": null,
      "metadata": {
        "id": "hcI6M45TMxeM"
      },
      "outputs": [],
      "source": [
        "# Concatenate all the samples across the splits in the following order: [train:test:validation].\n",
        "# Currently, each sample contains a list of words (tokens).\n",
        "# Create a sentence by joining the individual words (tokens) in each sample using a single white space as a delimiter and store the resulting sample in a new column named “text”.\n",
        "# Create a new dataset by removing the columns “ner tags” and “tokens”.\n",
        "# Store the new dataset in the same variable “ds”.\n",
        "# Enter the total number of samples in “ds”\n",
        "\n",
        "from datasets import concatenate_datasets, interleave_datasets\n",
        "\n",
        "ds = concatenate_datasets([ds['train'], ds['test'], ds['validation']])\n",
        "# The map function should return a dictionary with the new column and its value.\n",
        "ds = ds.map(lambda x: {'text': ' '.join(x['tokens'])})\n",
        "new_dataset = ds.remove_columns(['ner_tags', 'tokens'])\n",
        "ds = new_dataset\n",
        "print(\"The total number of samples: \" , len(ds))"
      ]
    },
    {
      "cell_type": "code",
      "execution_count": null,
      "metadata": {
        "id": "6KBw82SBVYH0"
      },
      "outputs": [],
      "source": [
        "ds.cache_files"
      ]
    },
    {
      "cell_type": "markdown",
      "metadata": {
        "id": "wFTJsKamNs02"
      },
      "source": [
        "## Question-9"
      ]
    },
    {
      "cell_type": "code",
      "execution_count": null,
      "metadata": {
        "id": "1Uv8KRUZNsD8"
      },
      "outputs": [],
      "source": [
        "# Filter the dataset so that all the samples in the dataset should have at least six tokens (any symbol separated by a white space is considered a token).\n",
        "# Enter the number of samples in the dataset after filtering.\n",
        "# Enter the exact number. If the answer is 123456, enter it as 123456.\n",
        "\n",
        "# ds = load_dataset('ai4bharat/naamapadam', 'ta')\n",
        "ds = ds.filter(lambda x: len(x['text']) >= 6)\n",
        "print(ds)"
      ]
    },
    {
      "cell_type": "markdown",
      "metadata": {
        "id": "l_-r15OFPw6C"
      },
      "source": [
        "## Question-10"
      ]
    },
    {
      "cell_type": "code",
      "execution_count": null,
      "metadata": {
        "id": "UWJGwIraP0M6"
      },
      "outputs": [],
      "source": [
        "# Download all the splits of Tamil sub-dataset “inltkh.ta” of https://huggingface.co/datasets/ai4bharat/indic_glue .\n",
        "# Filter the dataset so that each sample contains at least six words (separated by a single white space).\n",
        "# Then Interleave the resultant dataset with the above filtered dataset of naamapadam.\n",
        "# Take 80% of samples from naamapadam and 20% from indic glue. Enter the number of samples after interleaving the datasets.\n",
        "# Note: Set the value of the seed argument to 42.\n",
        "\n",
        "ds1 = load_dataset('ai4bharat/indic_glue', 'inltkh.ta', split=\"train+test+validation\")\n",
        "#ds1 = concatenate_datasets([ds1['train'], ds1['test'], ds1['validation']])\n",
        "print(ds1)\n",
        "filtered_data = ds1.filter(lambda x: len(x['text']) >= 6)\n",
        "interleaved_dataset = interleave_datasets([filtered_data, ds], probabilities=[0.2, 0.8], seed=42)\n",
        "print(interleaved_dataset)"
      ]
    },
    {
      "cell_type": "markdown",
      "metadata": {
        "id": "fBBBg9wQrV-z"
      },
      "source": [
        "So, You are here after completing *week-1*. I hope you enjoyed learning this. If not, Let's Practice more and understand better."
      ]
    },
    {
      "cell_type": "markdown",
      "metadata": {
        "id": "ZdKLjEOPWCwJ"
      },
      "source": [
        "# Week-2\n",
        "\n",
        "\n",
        "# Tokenizer building\n",
        "\n",
        "Welcome to Tokenization World where we build tokens for everything that enters in this world. How to build is a question.  Together, we can learn and understand about the tokens and all the things related to that."
      ]
    },
    {
      "cell_type": "code",
      "execution_count": null,
      "metadata": {
        "id": "JGW0F5lzWFCG"
      },
      "outputs": [],
      "source": [
        "book_corp = load_dataset('bookcorpus', split=\"all\", trust_remote_code=True)\n",
        "print(book_corp)"
      ]
    },
    {
      "cell_type": "markdown",
      "metadata": {
        "id": "3ekcwQTbX30g"
      },
      "source": [
        "## Enumerating the few Samples"
      ]
    },
    {
      "cell_type": "code",
      "execution_count": null,
      "metadata": {
        "id": "SBjGkOQTX7Im"
      },
      "outputs": [],
      "source": [
        "num_samples = 6\n",
        "for idx, sample in enumerate(book_corp[0:num_samples]['text']):\n",
        "  print(f\"Sample {idx}: {sample}\")"
      ]
    },
    {
      "cell_type": "markdown",
      "metadata": {
        "id": "Abzo2Eu7PNXj"
      },
      "source": []
    },
    {
      "cell_type": "markdown",
      "metadata": {
        "id": "dMnzbfJhXxNP"
      },
      "source": [
        "## Building the tokenizer"
      ]
    },
    {
      "cell_type": "code",
      "execution_count": null,
      "metadata": {
        "id": "5uq7MeYOYWZQ"
      },
      "outputs": [],
      "source": [
        "from tokenizers import Tokenizer\n",
        "from tokenizers.models import BPE\n",
        "from tokenizers.pre_tokenizers import Whitespace\n",
        "from tokenizers.normalizers import Lowercase"
      ]
    },
    {
      "cell_type": "markdown",
      "metadata": {
        "id": "uWQzwlruQFqU"
      },
      "source": [
        "Handling Unknown token during **predition**."
      ]
    },
    {
      "cell_type": "code",
      "execution_count": null,
      "metadata": {
        "id": "UQ8Qz2nfZD1w"
      },
      "outputs": [],
      "source": [
        "model = BPE(unk_token=\"[UNK]\")\n",
        "tokenizer = Tokenizer(model)"
      ]
    },
    {
      "cell_type": "markdown",
      "metadata": {
        "id": "aqPcM1_TYWEl"
      },
      "source": [
        "Adding normalizer and pre_tokenizer into the tokenizer"
      ]
    },
    {
      "cell_type": "code",
      "execution_count": null,
      "metadata": {
        "id": "ReUgNoglQaEd"
      },
      "outputs": [],
      "source": [
        "tokenizer.normalizers = Lowercase()\n",
        "tokenizer.pre_tokenizer = Whitespace()"
      ]
    },
    {
      "cell_type": "markdown",
      "metadata": {
        "id": "WnmNGdzLQlgr"
      },
      "source": [
        "Creating a trainer for the given Vocab size and special tokens"
      ]
    },
    {
      "cell_type": "code",
      "execution_count": null,
      "metadata": {
        "id": "dQRM3qv-QwCJ"
      },
      "outputs": [],
      "source": [
        "from tokenizers.trainers import BpeTrainer\n",
        "\n",
        "# vocab size = 32K, when there is subword(word broken into multiple parts) prefix include ##\n",
        "trainer = BpeTrainer(vocab_size=32000, special_tokens=[\"[PAD]\",\"[UNK]\"],continuing_subword_prefix='##')"
      ]
    },
    {
      "cell_type": "markdown",
      "metadata": {
        "id": "Hfntg1XERZ5m"
      },
      "source": [
        "Batch based training to avoid storage error."
      ]
    },
    {
      "cell_type": "code",
      "execution_count": null,
      "metadata": {
        "id": "p27h1mNYRa19"
      },
      "outputs": [],
      "source": [
        "def get_examples(batch_size=1000):\n",
        "    for i in range(0, len(ds), batch_size):\n",
        "        yield book_corp[i : i + batch_size]['text']"
      ]
    },
    {
      "cell_type": "code",
      "execution_count": null,
      "metadata": {
        "id": "Q6r4QvPtR3ep"
      },
      "outputs": [],
      "source": [
        "#2nd Method\n",
        "tokenizer.train_from_iterator(get_examples(batch_size=10000),trainer=trainer,length=len(book_corp))"
      ]
    },
    {
      "cell_type": "markdown",
      "metadata": {
        "id": "Vf3fO3MbR_aK"
      },
      "source": [
        "## Saving token for Exploration"
      ]
    },
    {
      "cell_type": "code",
      "execution_count": null,
      "metadata": {
        "id": "5mwWbm6xSJGh"
      },
      "outputs": [],
      "source": [
        "import os\n",
        "\n",
        "# Create the 'model' directory if it doesn't exist\n",
        "os.makedirs('model', exist_ok=True)\n",
        "\n",
        "tokenizer.model.save('model', prefix='hopper')"
      ]
    },
    {
      "cell_type": "code",
      "execution_count": null,
      "metadata": {
        "id": "EtlJa3BNSXau"
      },
      "outputs": [],
      "source": [
        "with open('model/hopper-merges.txt','r') as file:\n",
        "    row = 0\n",
        "    num_lines = 10\n",
        "    for line in file.readlines():\n",
        "        print(line)\n",
        "        row+=1\n",
        "        if row >= num_lines:\n",
        "            break"
      ]
    },
    {
      "cell_type": "code",
      "execution_count": null,
      "metadata": {
        "id": "x9cuiPHISj2n"
      },
      "outputs": [],
      "source": [
        "# Displaying n merges.\n",
        "with open('model/hopper-merges.txt','r') as file:\n",
        "    row = 0\n",
        "    num_lines = 10\n",
        "    for line in reversed(file.readlines()):\n",
        "        print(line)\n",
        "        row+=1\n",
        "        if row >= num_lines:\n",
        "            break"
      ]
    },
    {
      "cell_type": "markdown",
      "metadata": {
        "id": "auBQ_ntRSSuk"
      },
      "source": [
        "# Vocabulary"
      ]
    },
    {
      "cell_type": "code",
      "execution_count": null,
      "metadata": {
        "id": "25MC0NasSpIe"
      },
      "outputs": [],
      "source": [
        "# Printing no of merges and vocab sizes.\n",
        "\n",
        "with open('model/hopper-merges.txt','r') as file:\n",
        "    lines = file.readlines()\n",
        "\n",
        "print(f'Number of merges:{len(lines)}')\n",
        "print(f'vocab size:{tokenizer.get_vocab_size()}')"
      ]
    },
    {
      "cell_type": "markdown",
      "metadata": {
        "id": "XZgv_vxMTI8C"
      },
      "source": [
        "## Saving vocab to explores what it returns"
      ]
    },
    {
      "cell_type": "code",
      "execution_count": null,
      "metadata": {
        "id": "gjCZYSC-TOZk"
      },
      "outputs": [],
      "source": [
        "vocab = tokenizer.get_vocab()\n",
        "\n",
        "vocab_sorted = sorted(vocab.items(), key=lambda item: item[1])"
      ]
    },
    {
      "cell_type": "markdown",
      "metadata": {
        "id": "-fsCiVWWUCH6"
      },
      "source": [
        "# Encoding"
      ]
    },
    {
      "cell_type": "code",
      "execution_count": null,
      "metadata": {
        "id": "SkbpHkN_UEYZ"
      },
      "outputs": [],
      "source": [
        "sample = book_corp[0]['text']\n",
        "print(f'sample: {sample}')\n",
        "encoding = tokenizer.encode(sample)\n",
        "print(encoding)"
      ]
    },
    {
      "cell_type": "code",
      "execution_count": null,
      "metadata": {
        "id": "C0fSeA9WUOWs"
      },
      "outputs": [],
      "source": [
        "token_ids = encoding.ids\n",
        "tokens = encoding.tokens\n",
        "type_ids = encoding.type_ids\n",
        "attention_mask = encoding.attention_mask"
      ]
    },
    {
      "cell_type": "code",
      "execution_count": null,
      "metadata": {
        "id": "KDMiQP7RUSqC"
      },
      "outputs": [],
      "source": [
        "from tokenizers.tools import EncodingVisualizer\n",
        "visualizer = EncodingVisualizer(tokenizer=tokenizer)\n",
        "visualizer(text=sample)"
      ]
    },
    {
      "cell_type": "markdown",
      "metadata": {
        "id": "uZE2EKm_UPj9"
      },
      "source": [
        "## Converting encoding into dataframe to look out at anytime"
      ]
    },
    {
      "cell_type": "code",
      "execution_count": null,
      "metadata": {
        "id": "wlDk3rOHUbrQ"
      },
      "outputs": [],
      "source": [
        "import pandas as pd\n",
        "\n",
        "out_dict = {'tokens':tokens,'ids':token_ids,'type_ids':type_ids,'attention_mask':attention_mask}\n",
        "df = pd.DataFrame.from_dict(out_dict)\n",
        "df"
      ]
    },
    {
      "cell_type": "markdown",
      "metadata": {
        "id": "3Z-s4a_YUxk4"
      },
      "source": [
        "## Batch encoding"
      ]
    },
    {
      "cell_type": "code",
      "execution_count": null,
      "metadata": {
        "id": "bdVpbojiUz-w"
      },
      "outputs": [],
      "source": [
        "samples = book_corp[0:4]['text']\n",
        "\n",
        "batch_encoding = tokenizer.encode_batch(samples)\n",
        "pprint(batch_encoding)"
      ]
    },
    {
      "cell_type": "code",
      "execution_count": null,
      "metadata": {
        "id": "dgT4rrLvVBsT"
      },
      "outputs": [],
      "source": [
        "# all default args\n",
        "tokenizer.enable_padding(direction = 'right',\n",
        "                         pad_id = 0,\n",
        "                         pad_type_id = 0,\n",
        "                         pad_token = '[PAD]',\n",
        "                         length = None, # None default to max_len in the batch\n",
        "                         pad_to_multiple_of = None)\n",
        "\n",
        "tokenizer.enable_truncation(max_length=512)\n",
        "\n",
        "batch_encoding = tokenizer.encode_batch(samples)\n",
        "pprint(batch_encoding)"
      ]
    },
    {
      "cell_type": "markdown",
      "metadata": {
        "id": "TfgurZkNVIBq"
      },
      "source": [
        "#### Quick Test as an example"
      ]
    },
    {
      "cell_type": "code",
      "execution_count": null,
      "metadata": {
        "id": "Ptbp5c1wVIZP"
      },
      "outputs": [],
      "source": [
        "text = \"All this is so simple to do in HF இ😊.\"\n",
        "encoded = tokenizer.encode(text).tokens\n",
        "print(encoded)"
      ]
    },
    {
      "cell_type": "markdown",
      "metadata": {
        "id": "kuywXMVfVaWk"
      },
      "source": [
        "## Saving and loading the tokenizers"
      ]
    },
    {
      "cell_type": "code",
      "execution_count": null,
      "metadata": {
        "id": "6b8ngGZFVh04"
      },
      "outputs": [],
      "source": [
        "tokenizer.save('hopper.json')\n",
        "\n",
        "import json\n",
        "with open('hopper.json','r') as file:\n",
        "    data = json.load(file)\n",
        "\n",
        "pprint(data, depth=1)\n",
        "\n",
        "trained_tokenizer = Tokenizer(BPE())\n",
        "trained_tokenizer = trained_tokenizer.from_file('hopper.json')\n",
        "tokens = trained_tokenizer.encode(text).tokens\n",
        "print(tokens)"
      ]
    },
    {
      "cell_type": "markdown",
      "metadata": {
        "id": "REFgJKO7fOfE"
      },
      "source": [
        "## Bert Tokenizer"
      ]
    },
    {
      "cell_type": "code",
      "execution_count": null,
      "metadata": {
        "id": "TG_iShn2fN_i"
      },
      "outputs": [],
      "source": [
        "bert_tokenizer = Tokenizer(BPE(unk_token=\"[UNK]\"))\n",
        "bert_tokenizer.normalizer = Lowercase()\n",
        "bert_tokenizer.pre_tokenizer = Whitespace()\n",
        "bert_trainer = BpeTrainer(vocab_size=32000, special_tokens=[\"[PAD]\",\"[UNK]\",\"[CLS]\",\"[SEP]\",\"[MASK]\"], continuing_subword_prefix='##')"
      ]
    },
    {
      "cell_type": "code",
      "execution_count": null,
      "metadata": {
        "id": "nH1ZqdEPfvYT"
      },
      "outputs": [],
      "source": [
        "from tokenizers.processors import TemplateProcessing\n",
        "\n",
        "bert_tokenizer.post_processor = TemplateProcessing(single=\"[CLS] $A [SEP]\", pair=\"[CLS] $A [SEP] $B:1 [SEP]:1\", special_tokens=[(\"[CLS]\", 2), (\"[SEP]\", 3)])\n",
        "\n",
        "bert_tokenizer.train_from_iterator(get_examples(batch_size=10000), trainer=bert_trainer, length=len(book_corp))"
      ]
    },
    {
      "cell_type": "code",
      "execution_count": null,
      "metadata": {
        "id": "Mg9PpRMdgilP"
      },
      "outputs": [],
      "source": [
        "# Example Text\n",
        "\n",
        "text = \"All these are so simple to do in HF. Let's do more\"\n",
        "encoded = bert_tokenizer.encode(text)\n",
        "tokens = encoded.tokens\n",
        "ids = encoded.ids\n",
        "out_dict = {'tokens':tokens,'ids':ids}\n",
        "pprint(out_dict,depth=2,compact=True)\n"
      ]
    },
    {
      "cell_type": "code",
      "execution_count": null,
      "metadata": {
        "id": "RgEipIIYgjlK"
      },
      "outputs": [],
      "source": [
        "# More Examples\n",
        "\n",
        "text = \"All these are so simple to do in HF. Let's do more\"\n",
        "pair = \"We have a long way to go!\"\n",
        "encoded = bert_tokenizer.encode(text,pair)\n",
        "tokens = encoded.tokens\n",
        "ids = encoded.ids\n",
        "out_dict = {'tokens':tokens,'ids':ids}\n",
        "pprint(out_dict,depth=2,compact=True)"
      ]
    },
    {
      "cell_type": "markdown",
      "metadata": {
        "id": "fcZF9VjxhN_k"
      },
      "source": [
        "## Decoding"
      ]
    },
    {
      "cell_type": "code",
      "execution_count": null,
      "metadata": {
        "id": "QthdjWduhPuE"
      },
      "outputs": [],
      "source": [
        "plane_tokens = bert_tokenizer.decode(ids)\n",
        "print(plane_tokens)\n",
        "\n",
        "from tokenizers.decoders import WordPiece\n",
        "\n",
        "bert_tokenizer.decoder = WordPiece()\n",
        "plane_tokens = bert_tokenizer.decode(ids)\n",
        "print(plane_tokens)"
      ]
    },
    {
      "cell_type": "markdown",
      "metadata": {
        "id": "6VItKzCRkpcH"
      },
      "source": [
        "## Pre Trained Tokenizer\n",
        "\n",
        "There are few tokenizer class which are already be trained and can be directly used to encode and decode the tokens."
      ]
    },
    {
      "cell_type": "code",
      "execution_count": null,
      "metadata": {
        "id": "vHWLFAxxk-56"
      },
      "outputs": [],
      "source": [
        "encoding = tokenizer.encode(text)\n",
        "print(encoding)"
      ]
    },
    {
      "cell_type": "markdown",
      "metadata": {
        "id": "D5VwRqqrvUdq"
      },
      "source": [
        "### PreTrained Tokenizer class"
      ]
    },
    {
      "cell_type": "code",
      "execution_count": null,
      "metadata": {
        "id": "s6uM9L2QvaxX"
      },
      "outputs": [],
      "source": [
        "from transformers import PreTrainedTokenizerFast\n",
        "\n",
        "pt_tokenizer = PreTrainedTokenizerFast(tokenizer_file='hopper.json', unk_token='[UNK]', pad_token='[PAD]', model_input_names=[\"input_ids\",\"token_type_ids\",\"attention_mask\"],)\n",
        "\n",
        "model_input = pt_tokenizer(text)\n",
        "pprint(model_input, compact=True)\n",
        "\n",
        "model_input = pt_tokenizer(text, text_pair=pair)\n",
        "pprint(model_input, compact=True)"
      ]
    },
    {
      "cell_type": "markdown",
      "metadata": {
        "id": "tcmPdp3oEgO0"
      },
      "source": [
        "# GA - 2"
      ]
    },
    {
      "cell_type": "markdown",
      "metadata": {
        "id": "wse4fgLVExqo"
      },
      "source": [
        "Download the BookCorpus dataset. Take every 7-th sample (the indices are multiple of 7:[0,7,14,21,...]) from the entire dataset. This will result in a dataset with 10 million samples (exactly, 10,572,033). Use these samples to build a tokenizer with the BPE tokenization algorithm by varying the vocabulary size.\n",
        "\n",
        "Normalizer: LowerCase\n",
        "\n",
        "PreTokenizer: WhiteSpace\n",
        "\n",
        "Model: BPE\n",
        "\n",
        "Special tokens: [GO],[UNK],[PAD],[EOS]\n",
        "\n",
        "PostProcessing: None\n",
        "\n",
        "Tokenize the input text: “SEBI study finds 93% of individual F&O traders made losses between FY22 and FY24.” using the following configurations."
      ]
    },
    {
      "cell_type": "code",
      "execution_count": null,
      "metadata": {
        "id": "fw8o-pRweJoN"
      },
      "outputs": [],
      "source": [
        "!pip install datasets\n",
        "\n",
        "from datasets import load_dataset, load_from_disk"
      ]
    },
    {
      "cell_type": "code",
      "execution_count": null,
      "metadata": {
        "id": "bCPlT0I-h-7R"
      },
      "outputs": [],
      "source": [
        "book_corpus = load_dataset(\"bookcorpus\", split=\"all\", trust_remote_code=True)\n",
        "book_corpus.save_to_disk(\"pyarrow_dataset/book_corpus\")\n",
        "\n",
        "book_corpus = load_from_disk(\"pyarrow_dataset/book_corpus\")\n",
        "#print(book_corpus)\n",
        "\n",
        "# Loading and selecting 7th sample\n",
        "indices = range(0, book_corpus.num_rows, 7)\n",
        "\n",
        "# Use the select function to create a subset\n",
        "selected_dataset = book_corpus.select(indices)\n",
        "print(selected_dataset)"
      ]
    },
    {
      "cell_type": "code",
      "execution_count": null,
      "metadata": {
        "id": "vkSP51d-8sc_"
      },
      "outputs": [],
      "source": [
        "# Initializing the tokenization alogorithm\n",
        "\n",
        "from tokenizers import Tokenizer\n",
        "from tokenizers.models import BPE\n",
        "from tokenizers.pre_tokenizers import Whitespace\n",
        "from tokenizers.normalizers import Lowercase\n",
        "\n",
        "model = BPE(unk_token=\"[UNK]\")\n",
        "tokenizer = Tokenizer(model)\n",
        "\n",
        "# Adding normalizer and pre_tokenizer into the tokenizer\n",
        "tokenizer.normalizer = Lowercase()\n",
        "tokenizer.pre_tokenizer = Whitespace()\n",
        "\n",
        "from tokenizers.trainers import BpeTrainer\n",
        "\n",
        "# initializing the trainer\n",
        "tokenizer_trainer = BpeTrainer(vocab_size=5000, special_tokens=[\"[GO]\",\"[UNK]\",\"[PAD]\",\"[EOS]\"], continuing_subword_prefix='##')\n",
        "\n",
        "def get_examples(batch_size=1000):\n",
        "    for i in range(0, len(selected_dataset), batch_size):\n",
        "        yield selected_dataset[i : i + batch_size]['text']\n",
        "\n",
        "#batch-based Tokenization\n",
        "tokenizer.train_from_iterator(get_examples(batch_size=1000),trainer=tokenizer_trainer,length=len(selected_dataset))\n",
        "\n",
        "#Encoding the sample\n",
        "sample = \"SEBI study finds 93% of individual F&O traders made losses between FY22 and FY24.\"\n",
        "print(f'sample: {sample}')\n",
        "encoding = tokenizer.encode(sample)\n",
        "print(encoding)\n",
        "\n",
        "from tokenizers.tools import EncodingVisualizer\n",
        "visualizer = EncodingVisualizer(tokenizer=tokenizer)\n",
        "visualizer(text=sample)\n",
        "\n"
      ]
    },
    {
      "cell_type": "markdown",
      "metadata": {
        "id": "-M4hmLKjElCe"
      },
      "source": [
        "## Question-1"
      ]
    },
    {
      "cell_type": "code",
      "execution_count": null,
      "metadata": {
        "id": "Hpxx6Ch3Ejeh"
      },
      "outputs": [],
      "source": [
        "# Keep the vocabulary size at 5000 and tokenize the input text using the learned vocabulary.\n",
        "# Choose the number of tokens returned by the tokenizer.\n",
        "tokens = encoding.tokens\n",
        "print(len(tokens))\n",
        "print(tokens)"
      ]
    },
    {
      "cell_type": "markdown",
      "metadata": {
        "id": "ivcyorVJmd2U"
      },
      "source": [
        "## Question-2"
      ]
    },
    {
      "cell_type": "markdown",
      "metadata": {
        "id": "zbcEfbZuhTE0"
      },
      "source": [
        "Increase the vocabulary size to 10K, 15K and 32K.\n",
        "\n",
        "For each case, tokenize the same input with the newly learned vocabulary"
      ]
    },
    {
      "cell_type": "code",
      "execution_count": null,
      "metadata": {
        "id": "2v-hphQamgTV"
      },
      "outputs": [],
      "source": [
        "# for vocab_size = 10K\n",
        "model = BPE(unk_token=\"[UNK]\")\n",
        "tokenizer = Tokenizer(model)\n",
        "\n",
        "# Adding normalizer and pre_tokenizer into the tokenizer\n",
        "tokenizer.normalizer = Lowercase()\n",
        "tokenizer.pre_tokenizer = Whitespace()\n",
        "\n",
        "from tokenizers.trainers import BpeTrainer\n",
        "\n",
        "tokenizer_trainer2 = BpeTrainer(vocab_size=10000, special_tokens=[\"[GO]\",\"[UNK]\",\"[PAD]\",\"[EOS]\"], continuing_subword_prefix='##')\n",
        "\n",
        "def get_examples(batch_size=1000):\n",
        "    for i in range(0, len(selected_dataset), batch_size):\n",
        "        yield selected_dataset[i : i + batch_size]['text']\n",
        "\n",
        "#batch-based Tokenization\n",
        "tokenizer.train_from_iterator(get_examples(batch_size=1000),trainer=tokenizer_trainer2,length=len(selected_dataset))\n",
        "\n",
        "#Encoding the sample\n",
        "sample = \"SEBI study finds 93% of individual F&O traders made losses between FY22 and FY24.\"\n",
        "print(f'sample: {sample}')\n",
        "encoding = tokenizer.encode(sample)\n",
        "print(encoding)\n",
        "\n",
        "visualizer = EncodingVisualizer(tokenizer=tokenizer)\n",
        "visualizer(text=sample)\n",
        "\n",
        "tokens = encoding.tokens\n",
        "print(len(tokens))\n",
        "print(tokens)"
      ]
    },
    {
      "cell_type": "code",
      "execution_count": null,
      "metadata": {
        "id": "bHt8tYPrhof3"
      },
      "outputs": [],
      "source": [
        "# for vocab_size = 15K\n",
        "model = BPE(unk_token=\"[UNK]\")\n",
        "tokenizer = Tokenizer(model)\n",
        "\n",
        "# Adding normalizer and pre_tokenizer into the tokenizer\n",
        "tokenizer.normalizer = Lowercase()\n",
        "tokenizer.pre_tokenizer = Whitespace()\n",
        "\n",
        "from tokenizers.trainers import BpeTrainer\n",
        "tokenizer_trainer3 = BpeTrainer(vocab_size=15000, special_tokens=[\"[GO]\",\"[UNK]\",\"[PAD]\",\"[EOS]\"], continuing_subword_prefix='##')\n",
        "\n",
        "def get_examples(batch_size=1000):\n",
        "    for i in range(0, len(selected_dataset), batch_size):\n",
        "        yield selected_dataset[i : i + batch_size]['text']\n",
        "\n",
        "#batch-based Tokenization\n",
        "tokenizer.train_from_iterator(get_examples(batch_size=1000),trainer=tokenizer_trainer3,length=len(selected_dataset))\n",
        "\n",
        "#Encoding the sample\n",
        "sample = \"SEBI study finds 93% of individual F&O traders made losses between FY22 and FY24.\"\n",
        "print(f'sample: {sample}')\n",
        "encoding = tokenizer.encode(sample)\n",
        "print(encoding)\n",
        "\n",
        "visualizer = EncodingVisualizer(tokenizer=tokenizer)\n",
        "visualizer(text=sample)\n",
        "\n",
        "tokens = encoding.tokens\n",
        "print(len(tokens))\n",
        "print(tokens)"
      ]
    },
    {
      "cell_type": "code",
      "execution_count": null,
      "metadata": {
        "id": "t83ODH3BhyRx"
      },
      "outputs": [],
      "source": [
        "# for vocab_size = 32K\n",
        "model = BPE(unk_token=\"[UNK]\")\n",
        "tokenizer = Tokenizer(model)\n",
        "\n",
        "# Adding normalizer and pre_tokenizer into the tokenizer\n",
        "tokenizer.normalizer = Lowercase()\n",
        "tokenizer.pre_tokenizer = Whitespace()\n",
        "\n",
        "from tokenizers.trainers import BpeTrainer\n",
        "tokenizer_trainer4 = BpeTrainer(vocab_size=32000, special_tokens=[\"[GO]\",\"[UNK]\",\"[PAD]\",\"[EOS]\"], continuing_subword_prefix='##')\n",
        "\n",
        "def get_examples(batch_size=1000):\n",
        "    for i in range(0, len(selected_dataset), batch_size):\n",
        "        yield selected_dataset[i : i + batch_size]['text']\n",
        "\n",
        "#batch-based Tokenization\n",
        "tokenizer.train_from_iterator(get_examples(batch_size=1000),trainer=tokenizer_trainer4,length=len(selected_dataset))\n",
        "\n",
        "#Encoding the sample\n",
        "sample = \"SEBI study finds 93% of individual F&O traders made losses between FY22 and FY24.\"\n",
        "print(f'sample: {sample}')\n",
        "encoding = tokenizer.encode(sample)\n",
        "print(encoding)\n",
        "\n",
        "visualizer = EncodingVisualizer(tokenizer=tokenizer)\n",
        "visualizer(text=sample)\n",
        "\n",
        "tokens = encoding.tokens\n",
        "print(len(tokens))\n",
        "print(tokens)"
      ]
    },
    {
      "cell_type": "markdown",
      "metadata": {
        "id": "0cIDnQLtwrti"
      },
      "source": [
        "## Question-3"
      ]
    },
    {
      "cell_type": "code",
      "execution_count": null,
      "metadata": {
        "id": "F66pK4R0g8kt"
      },
      "outputs": [],
      "source": [
        "# Download the pre-trained tokenizer file “hopper.json” used in the lecture, from here .\n",
        "# The tokenizer was trained on all 70 million samples in the BookCorpus dataset.\n",
        "# Tokenize the same input text using this “hopper” tokenizer. How many tokens are there?\n",
        "\n",
        "hf_tokenizer = Tokenizer.from_file(\"hopper.json\")\n",
        "\n",
        "# Input text\n",
        "input_text = \"SEBI study finds 93% of individual F&O traders made losses between FY22 and FY24.\"\n",
        "\n",
        "# Tokenize the input text\n",
        "encoding = hf_tokenizer.encode(input_text)\n",
        "\n",
        "# Print the tokens and their count\n",
        "print(f\"Tokens: {encoding.tokens}\")\n",
        "print(f\"Number of tokens: {len(encoding.tokens)}\")"
      ]
    },
    {
      "cell_type": "markdown",
      "metadata": {
        "id": "lPCIH0peMjP2"
      },
      "source": [
        "## Question-4"
      ]
    },
    {
      "cell_type": "code",
      "execution_count": null,
      "metadata": {
        "id": "T7IYkH-vMixm"
      },
      "outputs": [],
      "source": [
        "# Suppose we know that the acronym “FY” will likely appear very frequently in most of the input text (assume the text comes from the financial domain).\n",
        "# Therefore, we hope that adding it manually to the vocabulary might help.\n",
        "# Add the token “FY” to the vocabulary and tokenize (use the Hopper tokenizer) the input text.\n",
        "# Enter the number of tokens produced.\n",
        "\n",
        "# Add the token \"FY\" to the vocabulary\n",
        "hf_tokenizer.add_tokens([\"FY\"])\n",
        "\n",
        "# Tokenize the input text\n",
        "encoding = hf_tokenizer.encode(input_text)\n",
        "\n",
        "# Print the tokens and their count\n",
        "print(f\"Tokens: {encoding.tokens}\")\n",
        "print(f\"Number of tokens: {len(encoding.tokens)}\")"
      ]
    },
    {
      "cell_type": "markdown",
      "metadata": {
        "id": "T6lp0o5iPm8u"
      },
      "source": [
        "## Question-5"
      ]
    },
    {
      "cell_type": "code",
      "execution_count": null,
      "metadata": {
        "id": "86v-TV0xPpp2"
      },
      "outputs": [],
      "source": [
        "# Load the “bert-base-uncased” and \"gpt2” tokenizers (use AutoTokenizer function from transformers).\n",
        "# Which of the following special tokens are used in these tokenizers?\n",
        "\n",
        "from transformers import AutoTokenizer\n",
        "\n",
        "bert_tokenizer = AutoTokenizer.from_pretrained(\"bert-base-uncased\")\n",
        "gpt2_tokenizer = AutoTokenizer.from_pretrained(\"gpt2\")\n",
        "\n",
        "print(bert_tokenizer.special_tokens_map)\n",
        "print(gpt2_tokenizer.special_tokens_map)"
      ]
    },
    {
      "cell_type": "markdown",
      "metadata": {
        "id": "Cmtobc_mQbJu"
      },
      "source": [
        "## Question-6"
      ]
    },
    {
      "cell_type": "code",
      "execution_count": null,
      "metadata": {
        "id": "2DPgVdtRQdq8"
      },
      "outputs": [],
      "source": [
        "# By now, we have four tokenizers.\n",
        "\n",
        "# 1. Custom tokenizer (vocab size 32K, trained on 10 million samples)\n",
        "# 2. bert-base-uncased\n",
        "# 3. gpt2\n",
        "# 4. hopper\n",
        "\n",
        "# Use these four tokenizers to count the number of tokens for the entire “imdb” dataset (drop the “unsupervised” part of the dataset).\n",
        "# Enter the tokenizers in order such that the size of the dataset (measured in tokens) as returned by the tokenizers is in ascending order. For example, if the first tokenizer yields the smallest number of tokens and the fourth tokenizer yields the largest, you would enter 1234 (without any spaces).”\n",
        "\n",
        "from datasets import load_dataset, concatenate_datasets\n",
        "from transformers import AutoTokenizer\n",
        "from tokenizers import models\n",
        "\n",
        "\n",
        "# Load IMDb dataset (dropping \"unsupervised\" part)\n",
        "imdb_dataset = load_dataset(\"imdb\", split=\"train+test\")\n",
        "\n",
        "# Helper function to count tokens\n",
        "def count_tokens(tokenizer, dataset):\n",
        "    total_tokens = 0\n",
        "    for text in dataset[\"text\"]:\n",
        "        tokens = tokenizer.encode(text)\n",
        "        total_tokens += len(tokens)\n",
        "    return total_tokens\n",
        "\n",
        "# 1. Custom Tokenizer (BPE with vocab size 32K)\n",
        "custom_tokenizer = tokenizer\n",
        "custom_token_count = count_tokens(tokenizer, imdb_dataset)\n",
        "\n",
        "\n",
        "# 2. bert-base-uncased\n",
        "bert_tokenizer = AutoTokenizer.from_pretrained(\"bert-base-uncased\")\n",
        "bert_token_count = count_tokens(bert_tokenizer, imdb_dataset)\n",
        "\n",
        "# 3. gpt2\n",
        "gpt2_tokenizer = AutoTokenizer.from_pretrained(\"gpt2\")\n",
        "gpt2_token_count = count_tokens(gpt2_tokenizer, imdb_dataset)\n",
        "\n",
        "# 4. Hopper tokenizer (assumed to be loaded from 'hopper.json')\n",
        "hopper_tokenizer = Tokenizer.from_file(\"hopper.json\")\n",
        "hopper_token_count = count_tokens(hopper_tokenizer, imdb_dataset)\n",
        "\n",
        "# Combine results and sort by token count\n",
        "tokenizer_counts = [\n",
        "    (\"Custom Tokenizer\", custom_token_count),\n",
        "    (\"bert-base-uncased\", bert_token_count),\n",
        "    (\"gpt2\", gpt2_token_count),\n",
        "    (\"Hopper\", hopper_token_count),\n",
        "]\n",
        "sorted_counts = sorted(tokenizer_counts, key=lambda x: x[1])\n",
        "\n",
        "# Print the sorted results\n",
        "print(\"Token counts in ascending order:\")\n",
        "for i, (name, count) in enumerate(sorted_counts, 1):\n",
        "    print(f\"{i}. {name}: {count} tokens\")\n",
        "\n",
        "# Output the order as per the example\n",
        "tokenizer_order = \"\".join(str(i + 1) for i in range(len(sorted_counts)))\n",
        "print(f\"Order of tokenizers: {tokenizer_order}\")\n"
      ]
    },
    {
      "cell_type": "code",
      "execution_count": null,
      "metadata": {
        "id": "W6tD3tl4_o57"
      },
      "outputs": [],
      "source": [
        "tokenizer.normalizers = Lowercase()\n",
        "?tokenizer.normalizers\n"
      ]
    },
    {
      "cell_type": "code",
      "execution_count": null,
      "metadata": {
        "id": "tYzNu7PUCgML"
      },
      "outputs": [],
      "source": [
        "tokenizer.normalizer = Lowercase()\n",
        "?tokenizer.normalizer"
      ]
    },
    {
      "cell_type": "markdown",
      "metadata": {
        "id": "RlQliNd9dzUw"
      },
      "source": [
        "So Far, It require more practice than we thought i need to be. Structure your above program."
      ]
    },
    {
      "cell_type": "markdown",
      "metadata": {
        "id": "_4kMpxn3d-Cf"
      },
      "source": [
        "# Week - 3\n",
        "\n",
        "You have reached this milestone. This week we will learn to train and fine-tune the LLM models. There are multiple ways to do it. We will use **Hugging Face** for these tasks.\n",
        "\n",
        "Good Luck and Keep learning."
      ]
    },
    {
      "cell_type": "markdown",
      "metadata": {
        "id": "HfTSJI5A8nJI"
      },
      "source": [
        "## Importing necessary Modules to understand pretraining of GPT2"
      ]
    },
    {
      "cell_type": "code",
      "execution_count": null,
      "metadata": {
        "colab": {
          "base_uri": "https://localhost:8080/"
        },
        "collapsed": true,
        "id": "CkMhol5X99S1",
        "outputId": "a0f30881-267e-44c9-b905-5ede2c70a6d7"
      },
      "outputs": [
        {
          "name": "stdout",
          "output_type": "stream",
          "text": [
            "Collecting datasets\n",
            "  Downloading datasets-3.2.0-py3-none-any.whl.metadata (20 kB)\n",
            "Requirement already satisfied: filelock in /usr/local/lib/python3.11/dist-packages (from datasets) (3.17.0)\n",
            "Requirement already satisfied: numpy>=1.17 in /usr/local/lib/python3.11/dist-packages (from datasets) (1.26.4)\n",
            "Requirement already satisfied: pyarrow>=15.0.0 in /usr/local/lib/python3.11/dist-packages (from datasets) (17.0.0)\n",
            "Collecting dill<0.3.9,>=0.3.0 (from datasets)\n",
            "  Downloading dill-0.3.8-py3-none-any.whl.metadata (10 kB)\n",
            "Requirement already satisfied: pandas in /usr/local/lib/python3.11/dist-packages (from datasets) (2.2.2)\n",
            "Requirement already satisfied: requests>=2.32.2 in /usr/local/lib/python3.11/dist-packages (from datasets) (2.32.3)\n",
            "Requirement already satisfied: tqdm>=4.66.3 in /usr/local/lib/python3.11/dist-packages (from datasets) (4.67.1)\n",
            "Collecting xxhash (from datasets)\n",
            "  Downloading xxhash-3.5.0-cp311-cp311-manylinux_2_17_x86_64.manylinux2014_x86_64.whl.metadata (12 kB)\n",
            "Collecting multiprocess<0.70.17 (from datasets)\n",
            "  Downloading multiprocess-0.70.16-py311-none-any.whl.metadata (7.2 kB)\n",
            "Collecting fsspec<=2024.9.0,>=2023.1.0 (from fsspec[http]<=2024.9.0,>=2023.1.0->datasets)\n",
            "  Downloading fsspec-2024.9.0-py3-none-any.whl.metadata (11 kB)\n",
            "Requirement already satisfied: aiohttp in /usr/local/lib/python3.11/dist-packages (from datasets) (3.11.11)\n",
            "Requirement already satisfied: huggingface-hub>=0.23.0 in /usr/local/lib/python3.11/dist-packages (from datasets) (0.27.1)\n",
            "Requirement already satisfied: packaging in /usr/local/lib/python3.11/dist-packages (from datasets) (24.2)\n",
            "Requirement already satisfied: pyyaml>=5.1 in /usr/local/lib/python3.11/dist-packages (from datasets) (6.0.2)\n",
            "Requirement already satisfied: aiohappyeyeballs>=2.3.0 in /usr/local/lib/python3.11/dist-packages (from aiohttp->datasets) (2.4.4)\n",
            "Requirement already satisfied: aiosignal>=1.1.2 in /usr/local/lib/python3.11/dist-packages (from aiohttp->datasets) (1.3.2)\n",
            "Requirement already satisfied: attrs>=17.3.0 in /usr/local/lib/python3.11/dist-packages (from aiohttp->datasets) (24.3.0)\n",
            "Requirement already satisfied: frozenlist>=1.1.1 in /usr/local/lib/python3.11/dist-packages (from aiohttp->datasets) (1.5.0)\n",
            "Requirement already satisfied: multidict<7.0,>=4.5 in /usr/local/lib/python3.11/dist-packages (from aiohttp->datasets) (6.1.0)\n",
            "Requirement already satisfied: propcache>=0.2.0 in /usr/local/lib/python3.11/dist-packages (from aiohttp->datasets) (0.2.1)\n",
            "Requirement already satisfied: yarl<2.0,>=1.17.0 in /usr/local/lib/python3.11/dist-packages (from aiohttp->datasets) (1.18.3)\n",
            "Requirement already satisfied: typing-extensions>=3.7.4.3 in /usr/local/lib/python3.11/dist-packages (from huggingface-hub>=0.23.0->datasets) (4.12.2)\n",
            "Requirement already satisfied: charset-normalizer<4,>=2 in /usr/local/lib/python3.11/dist-packages (from requests>=2.32.2->datasets) (3.4.1)\n",
            "Requirement already satisfied: idna<4,>=2.5 in /usr/local/lib/python3.11/dist-packages (from requests>=2.32.2->datasets) (3.10)\n",
            "Requirement already satisfied: urllib3<3,>=1.21.1 in /usr/local/lib/python3.11/dist-packages (from requests>=2.32.2->datasets) (2.3.0)\n",
            "Requirement already satisfied: certifi>=2017.4.17 in /usr/local/lib/python3.11/dist-packages (from requests>=2.32.2->datasets) (2024.12.14)\n",
            "Requirement already satisfied: python-dateutil>=2.8.2 in /usr/local/lib/python3.11/dist-packages (from pandas->datasets) (2.8.2)\n",
            "Requirement already satisfied: pytz>=2020.1 in /usr/local/lib/python3.11/dist-packages (from pandas->datasets) (2024.2)\n",
            "Requirement already satisfied: tzdata>=2022.7 in /usr/local/lib/python3.11/dist-packages (from pandas->datasets) (2025.1)\n",
            "Requirement already satisfied: six>=1.5 in /usr/local/lib/python3.11/dist-packages (from python-dateutil>=2.8.2->pandas->datasets) (1.17.0)\n",
            "Downloading datasets-3.2.0-py3-none-any.whl (480 kB)\n",
            "\u001b[2K   \u001b[90m━━━━━━━━━━━━━━━━━━━━━━━━━━━━━━━━━━━━━━━━\u001b[0m \u001b[32m480.6/480.6 kB\u001b[0m \u001b[31m7.9 MB/s\u001b[0m eta \u001b[36m0:00:00\u001b[0m\n",
            "\u001b[?25hDownloading dill-0.3.8-py3-none-any.whl (116 kB)\n",
            "\u001b[2K   \u001b[90m━━━━━━━━━━━━━━━━━━━━━━━━━━━━━━━━━━━━━━━━\u001b[0m \u001b[32m116.3/116.3 kB\u001b[0m \u001b[31m6.8 MB/s\u001b[0m eta \u001b[36m0:00:00\u001b[0m\n",
            "\u001b[?25hDownloading fsspec-2024.9.0-py3-none-any.whl (179 kB)\n",
            "\u001b[2K   \u001b[90m━━━━━━━━━━━━━━━━━━━━━━━━━━━━━━━━━━━━━━━━\u001b[0m \u001b[32m179.3/179.3 kB\u001b[0m \u001b[31m9.5 MB/s\u001b[0m eta \u001b[36m0:00:00\u001b[0m\n",
            "\u001b[?25hDownloading multiprocess-0.70.16-py311-none-any.whl (143 kB)\n",
            "\u001b[2K   \u001b[90m━━━━━━━━━━━━━━━━━━━━━━━━━━━━━━━━━━━━━━━━\u001b[0m \u001b[32m143.5/143.5 kB\u001b[0m \u001b[31m4.9 MB/s\u001b[0m eta \u001b[36m0:00:00\u001b[0m\n",
            "\u001b[?25hDownloading xxhash-3.5.0-cp311-cp311-manylinux_2_17_x86_64.manylinux2014_x86_64.whl (194 kB)\n",
            "\u001b[2K   \u001b[90m━━━━━━━━━━━━━━━━━━━━━━━━━━━━━━━━━━━━━━━━\u001b[0m \u001b[32m194.8/194.8 kB\u001b[0m \u001b[31m6.7 MB/s\u001b[0m eta \u001b[36m0:00:00\u001b[0m\n",
            "\u001b[?25hInstalling collected packages: xxhash, fsspec, dill, multiprocess, datasets\n",
            "  Attempting uninstall: fsspec\n",
            "    Found existing installation: fsspec 2024.10.0\n",
            "    Uninstalling fsspec-2024.10.0:\n",
            "      Successfully uninstalled fsspec-2024.10.0\n",
            "\u001b[31mERROR: pip's dependency resolver does not currently take into account all the packages that are installed. This behaviour is the source of the following dependency conflicts.\n",
            "gcsfs 2024.10.0 requires fsspec==2024.10.0, but you have fsspec 2024.9.0 which is incompatible.\u001b[0m\u001b[31m\n",
            "\u001b[0mSuccessfully installed datasets-3.2.0 dill-0.3.8 fsspec-2024.9.0 multiprocess-0.70.16 xxhash-3.5.0\n",
            "Requirement already satisfied: transformers in /usr/local/lib/python3.11/dist-packages (4.47.1)\n",
            "Requirement already satisfied: filelock in /usr/local/lib/python3.11/dist-packages (from transformers) (3.17.0)\n",
            "Requirement already satisfied: huggingface-hub<1.0,>=0.24.0 in /usr/local/lib/python3.11/dist-packages (from transformers) (0.27.1)\n",
            "Requirement already satisfied: numpy>=1.17 in /usr/local/lib/python3.11/dist-packages (from transformers) (1.26.4)\n",
            "Requirement already satisfied: packaging>=20.0 in /usr/local/lib/python3.11/dist-packages (from transformers) (24.2)\n",
            "Requirement already satisfied: pyyaml>=5.1 in /usr/local/lib/python3.11/dist-packages (from transformers) (6.0.2)\n",
            "Requirement already satisfied: regex!=2019.12.17 in /usr/local/lib/python3.11/dist-packages (from transformers) (2024.11.6)\n",
            "Requirement already satisfied: requests in /usr/local/lib/python3.11/dist-packages (from transformers) (2.32.3)\n",
            "Requirement already satisfied: tokenizers<0.22,>=0.21 in /usr/local/lib/python3.11/dist-packages (from transformers) (0.21.0)\n",
            "Requirement already satisfied: safetensors>=0.4.1 in /usr/local/lib/python3.11/dist-packages (from transformers) (0.5.2)\n",
            "Requirement already satisfied: tqdm>=4.27 in /usr/local/lib/python3.11/dist-packages (from transformers) (4.67.1)\n",
            "Requirement already satisfied: fsspec>=2023.5.0 in /usr/local/lib/python3.11/dist-packages (from huggingface-hub<1.0,>=0.24.0->transformers) (2024.9.0)\n",
            "Requirement already satisfied: typing-extensions>=3.7.4.3 in /usr/local/lib/python3.11/dist-packages (from huggingface-hub<1.0,>=0.24.0->transformers) (4.12.2)\n",
            "Requirement already satisfied: charset-normalizer<4,>=2 in /usr/local/lib/python3.11/dist-packages (from requests->transformers) (3.4.1)\n",
            "Requirement already satisfied: idna<4,>=2.5 in /usr/local/lib/python3.11/dist-packages (from requests->transformers) (3.10)\n",
            "Requirement already satisfied: urllib3<3,>=1.21.1 in /usr/local/lib/python3.11/dist-packages (from requests->transformers) (2.3.0)\n",
            "Requirement already satisfied: certifi>=2017.4.17 in /usr/local/lib/python3.11/dist-packages (from requests->transformers) (2024.12.14)\n",
            "Requirement already satisfied: wandb in /usr/local/lib/python3.11/dist-packages (0.19.4)\n",
            "Requirement already satisfied: click!=8.0.0,>=7.1 in /usr/local/lib/python3.11/dist-packages (from wandb) (8.1.8)\n",
            "Requirement already satisfied: docker-pycreds>=0.4.0 in /usr/local/lib/python3.11/dist-packages (from wandb) (0.4.0)\n",
            "Requirement already satisfied: gitpython!=3.1.29,>=1.0.0 in /usr/local/lib/python3.11/dist-packages (from wandb) (3.1.44)\n",
            "Requirement already satisfied: platformdirs in /usr/local/lib/python3.11/dist-packages (from wandb) (4.3.6)\n",
            "Requirement already satisfied: protobuf!=4.21.0,!=5.28.0,<6,>=3.19.0 in /usr/local/lib/python3.11/dist-packages (from wandb) (4.25.6)\n",
            "Requirement already satisfied: psutil>=5.0.0 in /usr/local/lib/python3.11/dist-packages (from wandb) (5.9.5)\n",
            "Requirement already satisfied: pydantic<3,>=2.6 in /usr/local/lib/python3.11/dist-packages (from wandb) (2.10.6)\n",
            "Requirement already satisfied: pyyaml in /usr/local/lib/python3.11/dist-packages (from wandb) (6.0.2)\n",
            "Requirement already satisfied: requests<3,>=2.0.0 in /usr/local/lib/python3.11/dist-packages (from wandb) (2.32.3)\n",
            "Requirement already satisfied: sentry-sdk>=2.0.0 in /usr/local/lib/python3.11/dist-packages (from wandb) (2.20.0)\n",
            "Requirement already satisfied: setproctitle in /usr/local/lib/python3.11/dist-packages (from wandb) (1.3.4)\n",
            "Requirement already satisfied: setuptools in /usr/local/lib/python3.11/dist-packages (from wandb) (75.1.0)\n",
            "Requirement already satisfied: typing-extensions<5,>=4.4 in /usr/local/lib/python3.11/dist-packages (from wandb) (4.12.2)\n",
            "Requirement already satisfied: six>=1.4.0 in /usr/local/lib/python3.11/dist-packages (from docker-pycreds>=0.4.0->wandb) (1.17.0)\n",
            "Requirement already satisfied: gitdb<5,>=4.0.1 in /usr/local/lib/python3.11/dist-packages (from gitpython!=3.1.29,>=1.0.0->wandb) (4.0.12)\n",
            "Requirement already satisfied: annotated-types>=0.6.0 in /usr/local/lib/python3.11/dist-packages (from pydantic<3,>=2.6->wandb) (0.7.0)\n",
            "Requirement already satisfied: pydantic-core==2.27.2 in /usr/local/lib/python3.11/dist-packages (from pydantic<3,>=2.6->wandb) (2.27.2)\n",
            "Requirement already satisfied: charset-normalizer<4,>=2 in /usr/local/lib/python3.11/dist-packages (from requests<3,>=2.0.0->wandb) (3.4.1)\n",
            "Requirement already satisfied: idna<4,>=2.5 in /usr/local/lib/python3.11/dist-packages (from requests<3,>=2.0.0->wandb) (3.10)\n",
            "Requirement already satisfied: urllib3<3,>=1.21.1 in /usr/local/lib/python3.11/dist-packages (from requests<3,>=2.0.0->wandb) (2.3.0)\n",
            "Requirement already satisfied: certifi>=2017.4.17 in /usr/local/lib/python3.11/dist-packages (from requests<3,>=2.0.0->wandb) (2024.12.14)\n",
            "Requirement already satisfied: smmap<6,>=3.0.1 in /usr/local/lib/python3.11/dist-packages (from gitdb<5,>=4.0.1->gitpython!=3.1.29,>=1.0.0->wandb) (5.0.2)\n"
          ]
        }
      ],
      "source": [
        "!pip install datasets\n",
        "!pip install transformers\n",
        "!pip install wandb"
      ]
    },
    {
      "cell_type": "code",
      "execution_count": null,
      "metadata": {
        "id": "H9hMHYNSe_d6"
      },
      "outputs": [],
      "source": [
        "from datasets import load_dataset, load_from_disk\n",
        "from transformers import AutoTokenizer\n",
        "\n",
        "#for training\n",
        "from transformers import DataCollatorForLanguageModeling, GPT2Config, GPT2LMHeadModel\n",
        "from transformers import Trainer, TrainingArguments\n",
        "\n",
        "#for experiment tracking\n",
        "import wandb\n",
        "\n",
        "#common packages\n",
        "import pandas as pd\n",
        "from pprint import pprint\n",
        "import json\n",
        "import numpy as np\n",
        "import matplotlib.pyplot as plt"
      ]
    },
    {
      "cell_type": "markdown",
      "metadata": {
        "id": "QHTFVgKl-Ind"
      },
      "source": [
        "## Dataset"
      ]
    },
    {
      "cell_type": "code",
      "execution_count": null,
      "metadata": {
        "colab": {
          "base_uri": "https://localhost:8080/",
          "height": 371,
          "referenced_widgets": [
            "1f537e44c4f545aa85f502fee1e517aa",
            "059a88a79d0b4ec791dcccc8c5fc5ecb",
            "432617b48aa745cc9d3a49854fa48dec",
            "a356f88058dc4d74a501d6319257ec32",
            "fe418bde5c6f4f979104d31cea3bb282",
            "7042c51d45e046a1b37a75a23e096356",
            "bdb755b81efc40a68ea604397c46371a",
            "24b11f98c42f4232ad171ec743799818",
            "896616b3b642485bbad41c2bb4e0320b",
            "ee77b00f2cd44610bb6fb7e1cea7356e",
            "2bd3fe68cd4749e69e44b3ef215c47b7",
            "ff99c29cc5844ad6ac432cdb7d4735fd",
            "18ddd56ce78144c89073a7993489878f",
            "4b405a1223f74142a706e35fdc6092cb",
            "830c30db18924e36a84cf119679e68c7",
            "24c9aa62de59442fa1e95f30a1b73990",
            "523059754011418b9dc78c487c35910a",
            "00581cf64d6b488f9558568f6e6bd0e6",
            "8dbd7bbe1e954310ade70b18396f28f5",
            "60bf61b28c684508bc802d6d55164db6",
            "1bd157ab698a49c6b43d75c80d42e45c",
            "da22b956318249b899574aa02c6ebb91",
            "40578dd80dfc472892b2722655107ecd",
            "4606aa58cc8845cdbb94968341bc65e1",
            "44f8bb66b1c748989d545700d7fa65d3",
            "c5e17c2c22bd460ba0167acd78fd484e",
            "2f7036c182c64a02ab9ee8676af79c5d",
            "e1827698351c45ba85427f66ac818d77",
            "44ef35b7a52a48e294e030fcc2d0b3e3",
            "7772e7ab690c491081463643378670a3",
            "1fe3ee12338540a4978997f13276320a",
            "3db001783b3c4763ba7d3cd0dcbf93ba",
            "5593c1a60f4e4554933d0806605196cb",
            "adac847fe57044d3beb877dc51f77696",
            "848ded2238d648ceb04b358d4f97ec86",
            "f556f466ffdd4772bf7a9598bbbc262f",
            "9cd3f04385ed49049fde5a6517ea1ac9",
            "64ba6909111545689de261547eed1b3e",
            "ca45d33d7fee497a9c46a3f5e552be2b",
            "636b06239bb74392b77ac39c8992d85c",
            "a935245e4513431b95a006fb3a723783",
            "60e6205ec5cc4cd59a6e0641f863f5b0",
            "5583a421238e467b9a937c9e3df1815f",
            "b5c3b9db2a334f6bb6cc49cd532734f7",
            "8b4028ddd01844b69c5d1b0896dc8ffe",
            "8d486335bddb4763bf2327e811a1174f",
            "31b16485f8224319af34c6a31046b3df",
            "11f62ed4fd7045e0b48b4312a03f5bf7",
            "6c93debe79224524a4f6b6aeedcef727",
            "1c6b25412d3d4893a7963cd9046ea4dc",
            "4528dece0faa4ca787ddb3fc933b174b",
            "8499241a59c34ead8010412cb7238150",
            "b46efd97c211457baffc8ac5dc1b1f43",
            "379504965cb544ffb4355d6bf8752865",
            "de6b6f034a63462d866d67f296229aad"
          ]
        },
        "id": "U7dKA1b4-KxI",
        "outputId": "3e928634-c77e-44f8-e050-a5a5b2926762"
      },
      "outputs": [
        {
          "name": "stderr",
          "output_type": "stream",
          "text": [
            "/usr/local/lib/python3.11/dist-packages/huggingface_hub/utils/_auth.py:94: UserWarning: \n",
            "The secret `HF_TOKEN` does not exist in your Colab secrets.\n",
            "To authenticate with the Hugging Face Hub, create a token in your settings tab (https://huggingface.co/settings/tokens), set it as secret in your Google Colab and restart your session.\n",
            "You will be able to reuse this secret in all of your notebooks.\n",
            "Please note that authentication is recommended but still optional to access public models or datasets.\n",
            "  warnings.warn(\n"
          ]
        },
        {
          "data": {
            "application/vnd.jupyter.widget-view+json": {
              "model_id": "1f537e44c4f545aa85f502fee1e517aa",
              "version_major": 2,
              "version_minor": 0
            },
            "text/plain": [
              "README.md:   0%|          | 0.00/18.5k [00:00<?, ?B/s]"
            ]
          },
          "metadata": {},
          "output_type": "display_data"
        },
        {
          "data": {
            "application/vnd.jupyter.widget-view+json": {
              "model_id": "ff99c29cc5844ad6ac432cdb7d4735fd",
              "version_major": 2,
              "version_minor": 0
            },
            "text/plain": [
              "bookcorpus.py:   0%|          | 0.00/3.25k [00:00<?, ?B/s]"
            ]
          },
          "metadata": {},
          "output_type": "display_data"
        },
        {
          "data": {
            "application/vnd.jupyter.widget-view+json": {
              "model_id": "40578dd80dfc472892b2722655107ecd",
              "version_major": 2,
              "version_minor": 0
            },
            "text/plain": [
              "Downloading data:   0%|          | 0.00/1.18G [00:00<?, ?B/s]"
            ]
          },
          "metadata": {},
          "output_type": "display_data"
        },
        {
          "data": {
            "application/vnd.jupyter.widget-view+json": {
              "model_id": "adac847fe57044d3beb877dc51f77696",
              "version_major": 2,
              "version_minor": 0
            },
            "text/plain": [
              "Generating train split:   0%|          | 0/74004228 [00:00<?, ? examples/s]"
            ]
          },
          "metadata": {},
          "output_type": "display_data"
        },
        {
          "data": {
            "application/vnd.jupyter.widget-view+json": {
              "model_id": "8b4028ddd01844b69c5d1b0896dc8ffe",
              "version_major": 2,
              "version_minor": 0
            },
            "text/plain": [
              "Saving the dataset (0/10 shards):   0%|          | 0/74004228 [00:00<?, ? examples/s]"
            ]
          },
          "metadata": {},
          "output_type": "display_data"
        },
        {
          "name": "stdout",
          "output_type": "stream",
          "text": [
            "Dataset({\n",
            "    features: ['text'],\n",
            "    num_rows: 74004228\n",
            "})\n"
          ]
        }
      ],
      "source": [
        "ds_full = load_dataset(\"bookcorpus\", split=\"all\", trust_remote_code=True)\n",
        "\n",
        "ds_full.save_to_disk(\"pyarrow_dataset/book_corpus\")\n",
        "ds_full = load_from_disk(\"pyarrow_dataset/book_corpus\")\n",
        "\n",
        "pprint(ds_full)"
      ]
    },
    {
      "cell_type": "markdown",
      "metadata": {
        "id": "GpYYSfI_-chw"
      },
      "source": [
        "### Selecting 1 million random samples"
      ]
    },
    {
      "cell_type": "code",
      "execution_count": null,
      "metadata": {
        "colab": {
          "base_uri": "https://localhost:8080/",
          "height": 158
        },
        "id": "2sQ3KfWE-sjk",
        "outputId": "708abe0c-ffa4-4ad0-c35f-2e5d1c6cfebc"
      },
      "outputs": [
        {
          "ename": "TypeError",
          "evalue": "'tuple' object does not support the context manager protocol",
          "output_type": "error",
          "traceback": [
            "\u001b[0;31m---------------------------------------------------------------------------\u001b[0m",
            "\u001b[0;31mTypeError\u001b[0m                                 Traceback (most recent call last)",
            "\u001b[0;32m<ipython-input-6-2f24c1779196>\u001b[0m in \u001b[0;36m<cell line: 0>\u001b[0;34m()\u001b[0m\n\u001b[0;32m----> 1\u001b[0;31m \u001b[0;32mwith\u001b[0m \u001b[0;34m(\u001b[0m\u001b[0;34m'bc_stats.json'\u001b[0m\u001b[0;34m,\u001b[0m \u001b[0;34m'r'\u001b[0m\u001b[0;34m)\u001b[0m \u001b[0;32mas\u001b[0m \u001b[0mf\u001b[0m\u001b[0;34m:\u001b[0m\u001b[0;34m\u001b[0m\u001b[0;34m\u001b[0m\u001b[0m\n\u001b[0m\u001b[1;32m      2\u001b[0m   \u001b[0mbc_stats\u001b[0m \u001b[0;34m=\u001b[0m \u001b[0mjson\u001b[0m\u001b[0;34m.\u001b[0m\u001b[0mload\u001b[0m\u001b[0;34m(\u001b[0m\u001b[0mf\u001b[0m\u001b[0;34m)\u001b[0m\u001b[0;34m\u001b[0m\u001b[0;34m\u001b[0m\u001b[0m\n",
            "\u001b[0;31mTypeError\u001b[0m: 'tuple' object does not support the context manager protocol"
          ]
        }
      ],
      "source": [
        "with ('bc_stats.json', 'r') as f:\n",
        "  bc_stats = json.load(f)"
      ]
    },
    {
      "cell_type": "code",
      "execution_count": null,
      "metadata": {
        "id": "1WBc20og-7Rk"
      },
      "outputs": [],
      "source": [
        "# plot the data\n",
        "\n",
        "import random\n",
        "sorted_len = bc_stats['len_samples_sorted']\n",
        "bins = np.unique(sorted_len)\n",
        "plt.figure(figsize=(10,4))\n",
        "plt.hist(random.sample(sorted_len[0:-50],k=10**6),bins=bins[0:150])\n",
        "plt.xlabel('Sequence length')\n",
        "plt.ylabel('count')\n",
        "plt.grid()\n",
        "plt.show()"
      ]
    },
    {
      "cell_type": "markdown",
      "metadata": {
        "id": "ZmIG2zXm_Ivt"
      },
      "source": [
        "## Tokenization"
      ]
    },
    {
      "cell_type": "code",
      "execution_count": null,
      "metadata": {
        "id": "TFrM5Ygp_L_8"
      },
      "outputs": [],
      "source": [
        "hopper_tokenizer = AutoTokenizer.from_pretrained(\"../week_2/hopper\")\n",
        "print(hopper_tokenizer)"
      ]
    },
    {
      "cell_type": "markdown",
      "metadata": {
        "id": "y_6cZiCH_gNp"
      },
      "source": [
        "### few samples to test"
      ]
    },
    {
      "cell_type": "code",
      "execution_count": null,
      "metadata": {
        "id": "o1M4hUHu_f9B"
      },
      "outputs": [],
      "source": [
        "bs = 4 # batch_size\n",
        "model_inputs = hopper_tokenizer(ds_full[0:bs]['text'],padding=True)\n",
        "pprint(model_inputs['input_ids'],compact=True)"
      ]
    },
    {
      "cell_type": "code",
      "execution_count": null,
      "metadata": {
        "id": "jZ9KWgC-_0az"
      },
      "outputs": [],
      "source": [
        "pprint({id:example for id,example in enumerate(ds_full[ ]['text'])})"
      ]
    },
    {
      "cell_type": "markdown",
      "metadata": {
        "id": "nb9f6Ed4_8Fl"
      },
      "source": [
        "### GPT2-Tokenizer initialization"
      ]
    },
    {
      "cell_type": "code",
      "execution_count": null,
      "metadata": {
        "id": "30rc6tJ-AAYw"
      },
      "outputs": [],
      "source": [
        "tokenizer = AutoTokenizer.from_pretrained(\"gpt2\")\n",
        "print(tokenizer)"
      ]
    },
    {
      "cell_type": "code",
      "execution_count": null,
      "metadata": {
        "id": "GdFHMcm9AteB"
      },
      "outputs": [],
      "source": [
        "tokenizer.pad_token = '<|endoftext|>'"
      ]
    },
    {
      "cell_type": "markdown",
      "metadata": {
        "id": "3LSPvn4kDRlZ"
      },
      "source": [
        "#### Defining mapping function"
      ]
    },
    {
      "cell_type": "code",
      "execution_count": null,
      "metadata": {
        "id": "47NE4YaEDVGg"
      },
      "outputs": [],
      "source": [
        "# Define a mapping function that takes a batch of samples and returns input_ids and attention_mask such that the length of input_ids is 1024 for all samples\n",
        "\n",
        "def preprocess_function(examples):\n",
        "  \"\"\"\n",
        "  Takes a batch of text samples and returns input_ids and attention_mask\n",
        "  with a length of 1024 for all samples.\n",
        "  \"\"\"\n",
        "  tokenizer(\n",
        "      examples[\"text\"],\n",
        "      padding=\"max_length\",  # Pad to max_length\n",
        "      truncation=True,       # Truncate if longer than max_length\n",
        "      max_length=1024,      # Set max_length to 1024\n",
        "  )\n",
        "\n",
        "  return (tokenizer.input_ids,tokenizer.attention_mask)"
      ]
    },
    {
      "cell_type": "code",
      "execution_count": null,
      "metadata": {
        "id": "vY15jdl5DuSM"
      },
      "outputs": [],
      "source": [
        "tokenized_dataset = ds_full.map(preprocess_function, batched=True)\n",
        "\n",
        "tokenized_dataset.save_to_disk(\"data/BC_Chunked\")"
      ]
    },
    {
      "cell_type": "markdown",
      "metadata": {
        "id": "Tk6ZgpgjCj8q"
      },
      "source": [
        "### Taking smaller dataset for processing"
      ]
    },
    {
      "cell_type": "code",
      "execution_count": null,
      "metadata": {
        "id": "mmMi1w47CozL"
      },
      "outputs": [],
      "source": [
        "ds_chunked = load_from_disk(\"pyarrow_dataset/BC_Chunked\")\n",
        "ds_chunked"
      ]
    },
    {
      "cell_type": "markdown",
      "metadata": {
        "id": "r-2x7nOqEgSs"
      },
      "source": [
        "## Data Loader\n",
        "\n",
        "Spliting in train and test set with seed = 42"
      ]
    },
    {
      "cell_type": "code",
      "execution_count": null,
      "metadata": {
        "id": "Ptebh3cqEm_X"
      },
      "outputs": [],
      "source": [
        "ds_split = ds_chunked.train_test_split(test_size=0.007,seed=42)\n",
        "print(ds_split)"
      ]
    },
    {
      "cell_type": "markdown",
      "metadata": {
        "id": "vrqCO_9EFFzj"
      },
      "source": [
        "### Loading DataColletor"
      ]
    },
    {
      "cell_type": "code",
      "execution_count": null,
      "metadata": {
        "id": "HOH3DkK4FJ9E"
      },
      "outputs": [],
      "source": [
        "data_collator = DataCollatorForLanguageModeling(tokenizer=tokenizer, mlm=False)"
      ]
    },
    {
      "cell_type": "markdown",
      "metadata": {
        "id": "EOO9LxwsFQm2"
      },
      "source": [
        "## Initialize the Model"
      ]
    },
    {
      "cell_type": "code",
      "execution_count": null,
      "metadata": {
        "id": "OA5RkehuFTLr"
      },
      "outputs": [],
      "source": [
        "configration = GPT2Config()\n",
        "pprint(configration)"
      ]
    },
    {
      "cell_type": "markdown",
      "metadata": {
        "id": "8oQIpPidFe6W"
      },
      "source": [
        "Building the model"
      ]
    },
    {
      "cell_type": "code",
      "execution_count": null,
      "metadata": {
        "id": "XJ3vDKj7FhKe"
      },
      "outputs": [],
      "source": [
        "model = GPT2LMHeadModel(configration)\n",
        "print(model)"
      ]
    },
    {
      "cell_type": "markdown",
      "metadata": {
        "id": "iTTLZ_NZFo7H"
      },
      "source": [
        "No. of parameters"
      ]
    },
    {
      "cell_type": "code",
      "execution_count": null,
      "metadata": {
        "id": "k3EW7eSBFrKE"
      },
      "outputs": [],
      "source": [
        "num_parameters = 0\n",
        "for param in model.parameters():\n",
        "    num_parameters += param.numel()\n",
        "print(f'Number of Parameters:{num_parameters/10**6:.2f}M')"
      ]
    },
    {
      "cell_type": "markdown",
      "metadata": {
        "id": "QooOcEa_VeQl"
      },
      "source": [
        "## Train the Model"
      ]
    },
    {
      "cell_type": "markdown",
      "metadata": {
        "id": "eT3kH2ZmVlff"
      },
      "source": [
        "#### Initializing the wandb"
      ]
    },
    {
      "cell_type": "code",
      "execution_count": null,
      "metadata": {
        "id": "VrRWwCswVhMZ"
      },
      "outputs": [],
      "source": [
        "wandb.init(\n",
        "    project=\"DLP-GPT2-Node-1\",\n",
        "    config={\n",
        "        \"batch_size\":16,\n",
        "        \"dataset\": \"Bookcorpus-74M\",\n",
        "    },\n",
        ")"
      ]
    },
    {
      "cell_type": "markdown",
      "metadata": {
        "id": "D1tHcdQ-VqQx"
      },
      "source": [
        "### Adding the training arguements"
      ]
    },
    {
      "cell_type": "code",
      "execution_count": null,
      "metadata": {
        "id": "7yryxuahVtdz"
      },
      "outputs": [],
      "source": [
        "training_args = TrainingArguments( output_dir='out',\n",
        "                                  eval_strategy=\"steps\",\n",
        "                                  eval_steps=500,\n",
        "                                  num_train_epochs=1,\n",
        "                                  per_device_train_batch_size=8,\n",
        "                                  per_device_eval_batch_size=8,\n",
        "                                  bf16=False,\n",
        "                                  fp16=False,\n",
        "                                  tf32=False,\n",
        "                                  adam_beta1=0.9,\n",
        "                                  adam_beta2=0.999,\n",
        "                                  learning_rate=2e-5,\n",
        "                                  weight_decay=0.01,\n",
        "                                  gradient_accumulation_steps=1,\n",
        "                                  logging_strategy=\"steps\",\n",
        "                                  logging_steps = 500,\n",
        "                                  save_steps=1000,\n",
        "                                  save_total_limit=15,\n",
        "                                  report_to='wandb',\n",
        "                                 )"
      ]
    },
    {
      "cell_type": "markdown",
      "metadata": {
        "id": "sNqHsByUVz_v"
      },
      "source": [
        "### Adding Training Pipelines"
      ]
    },
    {
      "cell_type": "code",
      "execution_count": null,
      "metadata": {
        "id": "3Ias_xQrV2X6"
      },
      "outputs": [],
      "source": [
        "trainer = Trainer(model=model,\n",
        "                 args = training_args,\n",
        "                 train_dataset=ds_split[\"train\"],\n",
        "                 eval_dataset= ds_split[\"test\"],\n",
        "                 data_collator = data_collator)"
      ]
    },
    {
      "cell_type": "markdown",
      "metadata": {
        "id": "V5-xCf2AWB47"
      },
      "source": [
        "### Training the model"
      ]
    },
    {
      "cell_type": "code",
      "execution_count": null,
      "metadata": {
        "id": "RmVC7VofWHnM"
      },
      "outputs": [],
      "source": [
        "results = trainer.train()"
      ]
    },
    {
      "cell_type": "markdown",
      "metadata": {
        "id": "kCWhUWtIxNhP"
      },
      "source": [
        "## Efficient Training"
      ]
    },
    {
      "cell_type": "code",
      "execution_count": null,
      "metadata": {
        "id": "frzqwHOfxP0d"
      },
      "outputs": [],
      "source": [
        "rom IPython.display import IFrame\n",
        "IFrame(\"https://wandb.ai/a-arun283-iit-madras/DLP-GPT2-Node-1/reports/DLP-PreTraining-GPT-2--Vmlldzo5NTgxMTUx\", width=\"100%\", height=600)"
      ]
    },
    {
      "cell_type": "markdown",
      "metadata": {
        "id": "Uh20l8KYxesP"
      },
      "source": [
        "## Text Generation"
      ]
    },
    {
      "cell_type": "code",
      "execution_count": null,
      "metadata": {
        "id": "WcIwtS_wxeer"
      },
      "outputs": [],
      "source": [
        "#after seeing 128(bs)*1024(n_ctxt)*1000(steps)=131 million tokens\n",
        "model =GPT2LMHeadModel.from_pretrained('out/checkpoint-1000/')"
      ]
    },
    {
      "cell_type": "code",
      "execution_count": null,
      "metadata": {
        "id": "BIpbzJ65x6bT"
      },
      "outputs": [],
      "source": [
        "prompt = \"let us have a fun today. What do you say?\"\n",
        "inputs = tokenizer(prompt,return_tensors='pt',padding=True) # return torch tensor\n",
        "print(inputs)"
      ]
    },
    {
      "cell_type": "markdown",
      "metadata": {
        "id": "xV9tgvNkx3VL"
      },
      "source": [
        "Generate Method to generate token ids."
      ]
    },
    {
      "cell_type": "code",
      "execution_count": null,
      "metadata": {
        "id": "gtF7QU2Cx-fD"
      },
      "outputs": [],
      "source": [
        "outputs = model.generate(**inputs, max_new_tokens=100, do_sample=True, top_k=10, top_p=0.95)\n",
        "print(outputs)"
      ]
    },
    {
      "cell_type": "markdown",
      "metadata": {
        "id": "_q9uj-3myFA1"
      },
      "source": [
        "Batch Decoding"
      ]
    },
    {
      "cell_type": "code",
      "execution_count": null,
      "metadata": {
        "id": "1SZUoqVjyIDE"
      },
      "outputs": [],
      "source": [
        "tokenizer.batch_decode(outputs, skip_special_tokens=True)"
      ]
    },
    {
      "cell_type": "markdown",
      "metadata": {
        "id": "pGMlQAHTyLal"
      },
      "source": [
        "Checkpoint 4000"
      ]
    },
    {
      "cell_type": "code",
      "execution_count": null,
      "metadata": {
        "id": "60LR97X_yNZl"
      },
      "outputs": [],
      "source": [
        "model =GPT2LMHeadModel.from_pretrained('out/checkpoint-4000/')\n",
        "prompt = \"let us have a fun today. What do you say?\"\n",
        "inputs = tokenizer(prompt,return_tensors='pt',padding=True)\n",
        "outputs = model.generate(**inputs, max_new_tokens=100, do_sample=True, top_k=10, top_p=0.95)\n",
        "tokenizer.batch_decode(outputs, skip_special_tokens=True)"
      ]
    },
    {
      "cell_type": "markdown",
      "metadata": {
        "id": "QIU2al8qyQLn"
      },
      "source": [
        "Checkpoint 8000"
      ]
    },
    {
      "cell_type": "code",
      "execution_count": null,
      "metadata": {
        "id": "032xDfCQyR__"
      },
      "outputs": [],
      "source": [
        "model =GPT2LMHeadModel.from_pretrained('out/checkpoint-8185/')\n",
        "prompt = \"let us have a fun today. What do you say?\"\n",
        "inputs = tokenizer(prompt,return_tensors='pt',padding=True)\n",
        "outputs = model.generate(**inputs, max_new_tokens=100, do_sample=True, top_k=10, top_p=0.95)\n",
        "tokenizer.batch_decode(outputs, skip_special_tokens=True)"
      ]
    },
    {
      "cell_type": "markdown",
      "metadata": {
        "id": "ApjeR7lHyVAO"
      },
      "source": [
        "So, You have learnt about the pretraining of GPT-2.\n",
        "\n",
        "Let's hands-on with some problems of the GA"
      ]
    },
    {
      "cell_type": "markdown",
      "metadata": {
        "id": "AncabGIiyfvH"
      },
      "source": [
        "# GA-3"
      ]
    },
    {
      "cell_type": "code",
      "execution_count": 1,
      "metadata": {
        "colab": {
          "base_uri": "https://localhost:8080/"
        },
        "collapsed": true,
        "id": "8eCISutMzQlV",
        "outputId": "332c16e9-71f0-4433-f23b-21d70999b5c3"
      },
      "outputs": [
        {
          "output_type": "stream",
          "name": "stdout",
          "text": [
            "Collecting datasets\n",
            "  Downloading datasets-3.2.0-py3-none-any.whl.metadata (20 kB)\n",
            "Requirement already satisfied: filelock in /usr/local/lib/python3.11/dist-packages (from datasets) (3.17.0)\n",
            "Requirement already satisfied: numpy>=1.17 in /usr/local/lib/python3.11/dist-packages (from datasets) (1.26.4)\n",
            "Requirement already satisfied: pyarrow>=15.0.0 in /usr/local/lib/python3.11/dist-packages (from datasets) (17.0.0)\n",
            "Collecting dill<0.3.9,>=0.3.0 (from datasets)\n",
            "  Downloading dill-0.3.8-py3-none-any.whl.metadata (10 kB)\n",
            "Requirement already satisfied: pandas in /usr/local/lib/python3.11/dist-packages (from datasets) (2.2.2)\n",
            "Requirement already satisfied: requests>=2.32.2 in /usr/local/lib/python3.11/dist-packages (from datasets) (2.32.3)\n",
            "Requirement already satisfied: tqdm>=4.66.3 in /usr/local/lib/python3.11/dist-packages (from datasets) (4.67.1)\n",
            "Collecting xxhash (from datasets)\n",
            "  Downloading xxhash-3.5.0-cp311-cp311-manylinux_2_17_x86_64.manylinux2014_x86_64.whl.metadata (12 kB)\n",
            "Collecting multiprocess<0.70.17 (from datasets)\n",
            "  Downloading multiprocess-0.70.16-py311-none-any.whl.metadata (7.2 kB)\n",
            "Collecting fsspec<=2024.9.0,>=2023.1.0 (from fsspec[http]<=2024.9.0,>=2023.1.0->datasets)\n",
            "  Downloading fsspec-2024.9.0-py3-none-any.whl.metadata (11 kB)\n",
            "Requirement already satisfied: aiohttp in /usr/local/lib/python3.11/dist-packages (from datasets) (3.11.11)\n",
            "Requirement already satisfied: huggingface-hub>=0.23.0 in /usr/local/lib/python3.11/dist-packages (from datasets) (0.27.1)\n",
            "Requirement already satisfied: packaging in /usr/local/lib/python3.11/dist-packages (from datasets) (24.2)\n",
            "Requirement already satisfied: pyyaml>=5.1 in /usr/local/lib/python3.11/dist-packages (from datasets) (6.0.2)\n",
            "Requirement already satisfied: aiohappyeyeballs>=2.3.0 in /usr/local/lib/python3.11/dist-packages (from aiohttp->datasets) (2.4.4)\n",
            "Requirement already satisfied: aiosignal>=1.1.2 in /usr/local/lib/python3.11/dist-packages (from aiohttp->datasets) (1.3.2)\n",
            "Requirement already satisfied: attrs>=17.3.0 in /usr/local/lib/python3.11/dist-packages (from aiohttp->datasets) (25.1.0)\n",
            "Requirement already satisfied: frozenlist>=1.1.1 in /usr/local/lib/python3.11/dist-packages (from aiohttp->datasets) (1.5.0)\n",
            "Requirement already satisfied: multidict<7.0,>=4.5 in /usr/local/lib/python3.11/dist-packages (from aiohttp->datasets) (6.1.0)\n",
            "Requirement already satisfied: propcache>=0.2.0 in /usr/local/lib/python3.11/dist-packages (from aiohttp->datasets) (0.2.1)\n",
            "Requirement already satisfied: yarl<2.0,>=1.17.0 in /usr/local/lib/python3.11/dist-packages (from aiohttp->datasets) (1.18.3)\n",
            "Requirement already satisfied: typing-extensions>=3.7.4.3 in /usr/local/lib/python3.11/dist-packages (from huggingface-hub>=0.23.0->datasets) (4.12.2)\n",
            "Requirement already satisfied: charset-normalizer<4,>=2 in /usr/local/lib/python3.11/dist-packages (from requests>=2.32.2->datasets) (3.4.1)\n",
            "Requirement already satisfied: idna<4,>=2.5 in /usr/local/lib/python3.11/dist-packages (from requests>=2.32.2->datasets) (3.10)\n",
            "Requirement already satisfied: urllib3<3,>=1.21.1 in /usr/local/lib/python3.11/dist-packages (from requests>=2.32.2->datasets) (2.3.0)\n",
            "Requirement already satisfied: certifi>=2017.4.17 in /usr/local/lib/python3.11/dist-packages (from requests>=2.32.2->datasets) (2024.12.14)\n",
            "Requirement already satisfied: python-dateutil>=2.8.2 in /usr/local/lib/python3.11/dist-packages (from pandas->datasets) (2.8.2)\n",
            "Requirement already satisfied: pytz>=2020.1 in /usr/local/lib/python3.11/dist-packages (from pandas->datasets) (2024.2)\n",
            "Requirement already satisfied: tzdata>=2022.7 in /usr/local/lib/python3.11/dist-packages (from pandas->datasets) (2025.1)\n",
            "Requirement already satisfied: six>=1.5 in /usr/local/lib/python3.11/dist-packages (from python-dateutil>=2.8.2->pandas->datasets) (1.17.0)\n",
            "Downloading datasets-3.2.0-py3-none-any.whl (480 kB)\n",
            "\u001b[2K   \u001b[90m━━━━━━━━━━━━━━━━━━━━━━━━━━━━━━━━━━━━━━━━\u001b[0m \u001b[32m480.6/480.6 kB\u001b[0m \u001b[31m15.9 MB/s\u001b[0m eta \u001b[36m0:00:00\u001b[0m\n",
            "\u001b[?25hDownloading dill-0.3.8-py3-none-any.whl (116 kB)\n",
            "\u001b[2K   \u001b[90m━━━━━━━━━━━━━━━━━━━━━━━━━━━━━━━━━━━━━━━━\u001b[0m \u001b[32m116.3/116.3 kB\u001b[0m \u001b[31m11.3 MB/s\u001b[0m eta \u001b[36m0:00:00\u001b[0m\n",
            "\u001b[?25hDownloading fsspec-2024.9.0-py3-none-any.whl (179 kB)\n",
            "\u001b[2K   \u001b[90m━━━━━━━━━━━━━━━━━━━━━━━━━━━━━━━━━━━━━━━━\u001b[0m \u001b[32m179.3/179.3 kB\u001b[0m \u001b[31m17.0 MB/s\u001b[0m eta \u001b[36m0:00:00\u001b[0m\n",
            "\u001b[?25hDownloading multiprocess-0.70.16-py311-none-any.whl (143 kB)\n",
            "\u001b[2K   \u001b[90m━━━━━━━━━━━━━━━━━━━━━━━━━━━━━━━━━━━━━━━━\u001b[0m \u001b[32m143.5/143.5 kB\u001b[0m \u001b[31m13.6 MB/s\u001b[0m eta \u001b[36m0:00:00\u001b[0m\n",
            "\u001b[?25hDownloading xxhash-3.5.0-cp311-cp311-manylinux_2_17_x86_64.manylinux2014_x86_64.whl (194 kB)\n",
            "\u001b[2K   \u001b[90m━━━━━━━━━━━━━━━━━━━━━━━━━━━━━━━━━━━━━━━━\u001b[0m \u001b[32m194.8/194.8 kB\u001b[0m \u001b[31m19.7 MB/s\u001b[0m eta \u001b[36m0:00:00\u001b[0m\n",
            "\u001b[?25hInstalling collected packages: xxhash, fsspec, dill, multiprocess, datasets\n",
            "  Attempting uninstall: fsspec\n",
            "    Found existing installation: fsspec 2024.10.0\n",
            "    Uninstalling fsspec-2024.10.0:\n",
            "      Successfully uninstalled fsspec-2024.10.0\n",
            "\u001b[31mERROR: pip's dependency resolver does not currently take into account all the packages that are installed. This behaviour is the source of the following dependency conflicts.\n",
            "torch 2.5.1+cu124 requires nvidia-cublas-cu12==12.4.5.8; platform_system == \"Linux\" and platform_machine == \"x86_64\", but you have nvidia-cublas-cu12 12.5.3.2 which is incompatible.\n",
            "torch 2.5.1+cu124 requires nvidia-cuda-cupti-cu12==12.4.127; platform_system == \"Linux\" and platform_machine == \"x86_64\", but you have nvidia-cuda-cupti-cu12 12.5.82 which is incompatible.\n",
            "torch 2.5.1+cu124 requires nvidia-cuda-nvrtc-cu12==12.4.127; platform_system == \"Linux\" and platform_machine == \"x86_64\", but you have nvidia-cuda-nvrtc-cu12 12.5.82 which is incompatible.\n",
            "torch 2.5.1+cu124 requires nvidia-cuda-runtime-cu12==12.4.127; platform_system == \"Linux\" and platform_machine == \"x86_64\", but you have nvidia-cuda-runtime-cu12 12.5.82 which is incompatible.\n",
            "torch 2.5.1+cu124 requires nvidia-cudnn-cu12==9.1.0.70; platform_system == \"Linux\" and platform_machine == \"x86_64\", but you have nvidia-cudnn-cu12 9.3.0.75 which is incompatible.\n",
            "torch 2.5.1+cu124 requires nvidia-cufft-cu12==11.2.1.3; platform_system == \"Linux\" and platform_machine == \"x86_64\", but you have nvidia-cufft-cu12 11.2.3.61 which is incompatible.\n",
            "torch 2.5.1+cu124 requires nvidia-curand-cu12==10.3.5.147; platform_system == \"Linux\" and platform_machine == \"x86_64\", but you have nvidia-curand-cu12 10.3.6.82 which is incompatible.\n",
            "torch 2.5.1+cu124 requires nvidia-cusolver-cu12==11.6.1.9; platform_system == \"Linux\" and platform_machine == \"x86_64\", but you have nvidia-cusolver-cu12 11.6.3.83 which is incompatible.\n",
            "torch 2.5.1+cu124 requires nvidia-cusparse-cu12==12.3.1.170; platform_system == \"Linux\" and platform_machine == \"x86_64\", but you have nvidia-cusparse-cu12 12.5.1.3 which is incompatible.\n",
            "torch 2.5.1+cu124 requires nvidia-nvjitlink-cu12==12.4.127; platform_system == \"Linux\" and platform_machine == \"x86_64\", but you have nvidia-nvjitlink-cu12 12.5.82 which is incompatible.\n",
            "gcsfs 2024.10.0 requires fsspec==2024.10.0, but you have fsspec 2024.9.0 which is incompatible.\u001b[0m\u001b[31m\n",
            "\u001b[0mSuccessfully installed datasets-3.2.0 dill-0.3.8 fsspec-2024.9.0 multiprocess-0.70.16 xxhash-3.5.0\n",
            "Requirement already satisfied: transformers in /usr/local/lib/python3.11/dist-packages (4.47.1)\n",
            "Requirement already satisfied: filelock in /usr/local/lib/python3.11/dist-packages (from transformers) (3.17.0)\n",
            "Requirement already satisfied: huggingface-hub<1.0,>=0.24.0 in /usr/local/lib/python3.11/dist-packages (from transformers) (0.27.1)\n",
            "Requirement already satisfied: numpy>=1.17 in /usr/local/lib/python3.11/dist-packages (from transformers) (1.26.4)\n",
            "Requirement already satisfied: packaging>=20.0 in /usr/local/lib/python3.11/dist-packages (from transformers) (24.2)\n",
            "Requirement already satisfied: pyyaml>=5.1 in /usr/local/lib/python3.11/dist-packages (from transformers) (6.0.2)\n",
            "Requirement already satisfied: regex!=2019.12.17 in /usr/local/lib/python3.11/dist-packages (from transformers) (2024.11.6)\n",
            "Requirement already satisfied: requests in /usr/local/lib/python3.11/dist-packages (from transformers) (2.32.3)\n",
            "Requirement already satisfied: tokenizers<0.22,>=0.21 in /usr/local/lib/python3.11/dist-packages (from transformers) (0.21.0)\n",
            "Requirement already satisfied: safetensors>=0.4.1 in /usr/local/lib/python3.11/dist-packages (from transformers) (0.5.2)\n",
            "Requirement already satisfied: tqdm>=4.27 in /usr/local/lib/python3.11/dist-packages (from transformers) (4.67.1)\n",
            "Requirement already satisfied: fsspec>=2023.5.0 in /usr/local/lib/python3.11/dist-packages (from huggingface-hub<1.0,>=0.24.0->transformers) (2024.9.0)\n",
            "Requirement already satisfied: typing-extensions>=3.7.4.3 in /usr/local/lib/python3.11/dist-packages (from huggingface-hub<1.0,>=0.24.0->transformers) (4.12.2)\n",
            "Requirement already satisfied: charset-normalizer<4,>=2 in /usr/local/lib/python3.11/dist-packages (from requests->transformers) (3.4.1)\n",
            "Requirement already satisfied: idna<4,>=2.5 in /usr/local/lib/python3.11/dist-packages (from requests->transformers) (3.10)\n",
            "Requirement already satisfied: urllib3<3,>=1.21.1 in /usr/local/lib/python3.11/dist-packages (from requests->transformers) (2.3.0)\n",
            "Requirement already satisfied: certifi>=2017.4.17 in /usr/local/lib/python3.11/dist-packages (from requests->transformers) (2024.12.14)\n"
          ]
        }
      ],
      "source": [
        "!pip install datasets\n",
        "!pip install transformers"
      ]
    },
    {
      "cell_type": "code",
      "execution_count": 2,
      "metadata": {
        "id": "btvIkZAjzZGx"
      },
      "outputs": [],
      "source": [
        "from datasets import load_dataset, load_from_disk, Dataset\n",
        "from transformers import AutoTokenizer\n",
        "\n",
        "from transformers import DataCollatorForLanguageModeling, GPT2Config, GPT2LMHeadModel\n",
        "from transformers import Trainer, TrainingArguments\n",
        "import wandb\n",
        "\n",
        "#common packages\n",
        "import pandas as pd\n",
        "from pprint import pprint\n",
        "import json\n",
        "import numpy as np\n",
        "import matplotlib.pyplot as plt\n",
        "import os\n",
        "from pprint import pprint"
      ]
    },
    {
      "cell_type": "markdown",
      "metadata": {
        "id": "fC8FJ9r1zL62"
      },
      "source": [
        "## Question-1"
      ]
    },
    {
      "cell_type": "code",
      "execution_count": 3,
      "metadata": {
        "colab": {
          "base_uri": "https://localhost:8080/",
          "height": 350,
          "referenced_widgets": [
            "0b57cc74378841aca4f93ca0826ede50",
            "2bb2493c250b416b86421de93dbad992",
            "57493c620b99460bbdb6adfa33db6521",
            "fd11fb31c65d4eccb09ae3391de328c1",
            "4768c43b3cca49c9a35d7fee9f738045",
            "83efbb6531664acaa7ea8841342770c7",
            "c029480a73d24c7d8e265ade16502a63",
            "a24dcca8d3034a2e83a210fabbacfb0a",
            "35101e0f55664546aa3047626e95170e",
            "ff4456779e194d968ab6bd8b74845c7a",
            "d810e7b93d904dc5962f91e94db5eab2",
            "0c00c0d31f744bf38ee470f78a954228",
            "04d0f1729d0949679b0cf3f8e8af403d",
            "c7e98cfd7b9d41a59205afd82728e36f",
            "21796bbff7724f5d964c2c1585dd457d",
            "14ec81bfdea34e229a121f93e3ecfa76",
            "08931f3f37b1401288396a13f4c5271f",
            "ab0517afd3de4221bbf1cea81bc0e106",
            "1b8b400dc2af4a6aaccb88927949cb01",
            "30b9a1bc6dbb49399315adbd79d0f593",
            "b4e2f63631a04493a2e4cfe030831995",
            "c80ee60cb5c7486aadf9d6ef7e5a010a",
            "7f21c98408884bf1a135626233a93a1b",
            "53c2da1abff344aabef269f4dfa1197e",
            "5787a771c2b74a1e93095f08d4296dc0",
            "0a38953120a44340a1bad5971985a350",
            "4db7c61c55784add8da2e0475bd72aba",
            "f06827af39ca4febb1eaf892005ea5da",
            "53dc210a678d4c1ab35506b0ed346993",
            "78d0bb3ac45d43a4a3d34eac853ff49d",
            "63cc8c00f70a42bbafa79a9cc8db8a4c",
            "ad51919835134771abbecda32d46295a",
            "17e617e926194bbba4729510004e4f38",
            "b313767411aa46f6bdddf157c423cd5d",
            "a8969d1994024e7995545a3d15135411",
            "8c7a11efe7694360b7d2db33a2123915",
            "115cf7a2c5934da291b51c56ba88d080",
            "149baf33f2df492fbbc7ade6e3b85505",
            "6a03761428794ae59c86f7e5c66df731",
            "c4088c4666954228992c4abe67b7207f",
            "528a04a3487e4ebea47dd34ef63e0911",
            "9e14378c99f34a97944f4440bf0c9dfd",
            "33dead08b3a044ea947efb73e0952f4e",
            "36ec05c0e4494cd09267621d4beefc0b",
            "3e50391d2648412cb48e5a582ba85589",
            "665a1859c2334fdc87edc15c75efd8a3",
            "4b06bf9cb433421791fb723110e25a2c",
            "9a32c8c2aab1429bb22ea8bb2cb8c6e6",
            "adcc53b042fb4959bedc706134d89391",
            "1db49e7f7ac94a05b8b79338e55080d9",
            "5b3297791a9c4206b480c66362ce74c6",
            "b10d6c66db214aa5b556812cd260ef11",
            "d3b12bff15134081aa11289dae922e5d",
            "d84a0ff226a243678fdac4fc80feb4da",
            "2709dd520a544336b6d56d3f21e22eac",
            "a5a99977bf184a5296f790090fd5d46b",
            "6b007ba786874bb88e32b4934043d260",
            "e881360c81b0423987052efc8914f896",
            "3a6f325eea0d4f86807f81f5d4f15214",
            "27cb96112ce64bddbd88b368000490f4",
            "fadbd37eb50a4fa49e0954bbd55b86bc",
            "a04d95e71c2841128b7b6ca4fe355661",
            "7382736bb8a644678693208725d53334",
            "5cf9793813ae4e60bee44bff78a4f327",
            "243271a0261d4229b22e49b2968a76b9",
            "1116ade6ed0e4878aab24bea1e2f77d2"
          ]
        },
        "id": "rkwr0GuIyfV3",
        "outputId": "22f45291-021b-4f64-fe8f-861c85cea347"
      },
      "outputs": [
        {
          "output_type": "stream",
          "name": "stderr",
          "text": [
            "/usr/local/lib/python3.11/dist-packages/huggingface_hub/utils/_auth.py:94: UserWarning: \n",
            "The secret `HF_TOKEN` does not exist in your Colab secrets.\n",
            "To authenticate with the Hugging Face Hub, create a token in your settings tab (https://huggingface.co/settings/tokens), set it as secret in your Google Colab and restart your session.\n",
            "You will be able to reuse this secret in all of your notebooks.\n",
            "Please note that authentication is recommended but still optional to access public models or datasets.\n",
            "  warnings.warn(\n"
          ]
        },
        {
          "output_type": "display_data",
          "data": {
            "text/plain": [
              "README.md:   0%|          | 0.00/6.72k [00:00<?, ?B/s]"
            ],
            "application/vnd.jupyter.widget-view+json": {
              "version_major": 2,
              "version_minor": 0,
              "model_id": "0b57cc74378841aca4f93ca0826ede50"
            }
          },
          "metadata": {}
        },
        {
          "output_type": "display_data",
          "data": {
            "text/plain": [
              "train-00000-of-00001.parquet:   0%|          | 0.00/299M [00:00<?, ?B/s]"
            ],
            "application/vnd.jupyter.widget-view+json": {
              "version_major": 2,
              "version_minor": 0,
              "model_id": "0c00c0d31f744bf38ee470f78a954228"
            }
          },
          "metadata": {}
        },
        {
          "output_type": "display_data",
          "data": {
            "text/plain": [
              "test-00000-of-00001.parquet:   0%|          | 0.00/23.5M [00:00<?, ?B/s]"
            ],
            "application/vnd.jupyter.widget-view+json": {
              "version_major": 2,
              "version_minor": 0,
              "model_id": "7f21c98408884bf1a135626233a93a1b"
            }
          },
          "metadata": {}
        },
        {
          "output_type": "display_data",
          "data": {
            "text/plain": [
              "Generating train split:   0%|          | 0/650000 [00:00<?, ? examples/s]"
            ],
            "application/vnd.jupyter.widget-view+json": {
              "version_major": 2,
              "version_minor": 0,
              "model_id": "b313767411aa46f6bdddf157c423cd5d"
            }
          },
          "metadata": {}
        },
        {
          "output_type": "display_data",
          "data": {
            "text/plain": [
              "Generating test split:   0%|          | 0/50000 [00:00<?, ? examples/s]"
            ],
            "application/vnd.jupyter.widget-view+json": {
              "version_major": 2,
              "version_minor": 0,
              "model_id": "3e50391d2648412cb48e5a582ba85589"
            }
          },
          "metadata": {}
        },
        {
          "output_type": "display_data",
          "data": {
            "text/plain": [
              "Saving the dataset (0/2 shards):   0%|          | 0/700000 [00:00<?, ? examples/s]"
            ],
            "application/vnd.jupyter.widget-view+json": {
              "version_major": 2,
              "version_minor": 0,
              "model_id": "a5a99977bf184a5296f790090fd5d46b"
            }
          },
          "metadata": {}
        },
        {
          "output_type": "stream",
          "name": "stdout",
          "text": [
            "Dataset downloaded and saved successfully.\n"
          ]
        }
      ],
      "source": [
        "# Download the Yelp review dataset “Yelp/yelp_review_full”. Split each sample by calling the string method “.split()” and choose the correct statements about the dataset.\n",
        "#  A. The dataset contains close to 99 million words\n",
        "#  B. There are more than 300 samples that contain a single word\n",
        "#  C. There are less than 300 samples that contain only a single word\n",
        "#  D. “Cheesy-melty-roasted-cauliflower-with-fresh-bread-crumbs-on top.\\\\nTo-die-for.” is one of the single words in the dataset\n",
        "#  E. The average length of a sample is 134.1\n",
        "#  F. The distribution of the length of the samples is right skewed\n",
        "\n",
        "# yelp_ds = load_dataset(\"Yelp/yelp_review_full\", split='all', trust_remote_code=True)\n",
        "# yelp_ds.save_to_disk(\"pyarrow_dataset/yelp_review_full\")\n",
        "# yelp_ds = load_from_disk(\"pyarrow_dataset/yelp_review_full\")\n",
        "# print(yelp_ds)\n",
        "\n",
        "try:\n",
        "    # Load the dataset\n",
        "    yelp_ds = load_dataset(\"Yelp/yelp_review_full\", split=\"train+test\", trust_remote_code=True)\n",
        "\n",
        "    # Save the dataset to disk for future use\n",
        "    save_path = \"pyarrow_dataset/yelp_review_full\"\n",
        "    os.makedirs(save_path, exist_ok=True)\n",
        "    yelp_ds.save_to_disk(save_path)\n",
        "    print(\"Dataset downloaded and saved successfully.\")\n",
        "except Exception as e:\n",
        "    print(f\"Error while downloading dataset: {e}\")"
      ]
    },
    {
      "cell_type": "code",
      "execution_count": 4,
      "metadata": {
        "colab": {
          "base_uri": "https://localhost:8080/"
        },
        "id": "CHIRddEr48lK",
        "outputId": "8bdba659-3779-4eee-d147-ac0b243e8e7b"
      },
      "outputs": [
        {
          "output_type": "stream",
          "name": "stdout",
          "text": [
            "Dataset({\n",
            "    features: ['label', 'text'],\n",
            "    num_rows: 700000\n",
            "})\n"
          ]
        }
      ],
      "source": [
        "#loading from the disk\n",
        "\n",
        "yelp_ds = load_from_disk(\"pyarrow_dataset/yelp_review_full\")\n",
        "print(yelp_ds)"
      ]
    },
    {
      "cell_type": "code",
      "execution_count": 5,
      "metadata": {
        "colab": {
          "base_uri": "https://localhost:8080/"
        },
        "id": "WPHIDto2yaDL",
        "outputId": "4c7bff1d-4c51-44c0-8015-e66d7f48623b"
      },
      "outputs": [
        {
          "output_type": "stream",
          "name": "stdout",
          "text": [
            "Dataset contains 'NO',\n",
            "Total number of words: 95.72955 million \n",
            "Length of the word list (number of samples): 700000\n",
            "Total number of sentences with a single word: 355\n",
            "Average number of words per sentence is 136.7565\n"
          ]
        }
      ],
      "source": [
        "# filter data that contain a single word\n",
        "num_words=0\n",
        "num_single_words= 0 # to check number of single word sentences\n",
        "num_words_list = [] # for checking the distribution\n",
        "has_word = \"NO\"\n",
        "for sample in yelp_ds:\n",
        "    if sample[\"text\"] == \"Cheesy-melty-roasted-cauliflower-with-fresh-bread-crumbs-on top.\\\\nTo-die-for.\" :\n",
        "        has_word = \"YES\"\n",
        "    num_word = len(sample['text'].split(' '))\n",
        "    num_words_list.append(num_word)\n",
        "    num_words+=num_word\n",
        "    if num_word == 1:\n",
        "        num_single_words+=1\n",
        "\n",
        "print(f\"Dataset contains '{has_word}',\")\n",
        "print(f\"Total number of words: {num_words/1000000} million \")\n",
        "print(f\"Length of the word list (number of samples): {len(num_words_list)}\")\n",
        "print(f\"Total number of sentences with a single word: {num_single_words}\")\n",
        "print(f\"Average number of words per sentence is {num_words/len(yelp_ds)}\")"
      ]
    },
    {
      "cell_type": "code",
      "execution_count": 6,
      "metadata": {
        "colab": {
          "base_uri": "https://localhost:8080/",
          "height": 447
        },
        "id": "jQxNsyqY5bn5",
        "outputId": "c836733a-0aac-4f31-e305-b5a1fedecbf0"
      },
      "outputs": [
        {
          "output_type": "execute_result",
          "data": {
            "text/plain": [
              "[]"
            ]
          },
          "metadata": {},
          "execution_count": 6
        },
        {
          "output_type": "display_data",
          "data": {
            "text/plain": [
              "<Figure size 640x480 with 1 Axes>"
            ],
            "image/png": "[encoded data removed]"
          },
          "metadata": {}
        }
      ],
      "source": [
        "## skewness plot\n",
        "\n",
        "plt.hist(num_words_list, bins=100)\n",
        "plt.plot()"
      ]
    },
    {
      "cell_type": "markdown",
      "metadata": {
        "id": "8nLC2y8T5bLp"
      },
      "source": [
        "## Question-2\n",
        "\n",
        "\n",
        "Load the “bert-base-uncased” pre-trained tokenizer and choose the correct statements about the tokenizer.\n",
        "\n",
        " A. The tokenizer is used for the BERT model with the context length of 512\n",
        "\n",
        " B. The tokenizer has 5 special tokens\n",
        "\n",
        " C. Tokenizing a sample that contains more than 512 words would result in truncation of all tokens beyond the length 512\n",
        "\n",
        " D. Tokenizer inserts all the special tokens when it processes a single sample as an input\n",
        "\n",
        " E. Tokenizer inserts [CLS] and [SEP] special tokens when it processes a single sample as an input\n",
        "\n",
        " F. Tokenizer inserts only [CLS]special token when it processes a single sample as an input"
      ]
    },
    {
      "cell_type": "code",
      "execution_count": 7,
      "metadata": {
        "colab": {
          "base_uri": "https://localhost:8080/",
          "height": 304,
          "referenced_widgets": [
            "f03df313f3054743b7d1d44533a65e26",
            "0c65a593ffed4af9a45015f5b39deefa",
            "811ad99cb1fa44eeabb31d32a0eee4af",
            "7294d61c7e4f41f483c65f14239691e4",
            "d7616fb477dd45f190b0f522a2ce7381",
            "9fedc6bb510b41fdb724bf0decaaf9d3",
            "059e37441f224fbfb968c9205b82c5ce",
            "444643c072024733ac7ae4ddfa11aa82",
            "86bcfa63a99b46f9965e7c1cd788d185",
            "c510678c0d654a1caf4353c26fe1b830",
            "e76540c7556844d288d0c9f7d10d251c",
            "a2e3d1a9629740c7bf349112d9b1f6e9",
            "7a68497b37fb4c2ea8176d856ebc17bd",
            "e9221e1fd17941acb659c815e9528508",
            "a3bbfefc14d04066834eaa411c51679d",
            "54f6497d331d41bfbeff0d193f7c2dd1",
            "eb3c5f2f916641238d2404b8e089422a",
            "85e2ca7b576e4101af05f2b378e1a88d",
            "9802918eb099469c9158d323ee827055",
            "903baf8ad5ad429587d2b91007850f30",
            "84f6f476934644ada36f8d6c63ea54ae",
            "d42a60b521b640d8bfaadfb5209191d5",
            "8650d5a070964c1b8720d70ae6a9b904",
            "9f791fb3de2540c7b6dae78fbefca8c6",
            "901a2c781c7748cd8ae8a3ae3924ab70",
            "9cc1e90ad9e94ae3a8c6973311af0b22",
            "ce9d224d566441e2a982d724d232ce53",
            "c46a76025e804c8b8dc0552da9040871",
            "0c28543d059745c3a117c8faa8097595",
            "fab48dce59d14eafb1e44b68fd621da4",
            "3f1274a2723846239c66b928283220e1",
            "de82b2c474514420bc1f89fc9a48f392",
            "8489a7360500467ca10e4ddf549196c8",
            "c84b2c95fb89468ca4833516e3f24f91",
            "db10f775c067459a8171b8cc43b9be01",
            "49a14b1437c44251b33293836a727f39",
            "dbdc8af4dd8b4c5db4e81f46d5fa72bd",
            "b7cace7f47db4f9b9aa023b3b6a3d1df",
            "3a7cbddc744143ce96b740f33fa64140",
            "ad4dc261ffa046d9b98bf2d2243bd904",
            "b2123230b04f4198b33b70b1e1f6cf7d",
            "77a7d07a50b24654a4ce7ed45a6932d1",
            "88984463fa8a4d7e8f7bc7209ba7a515",
            "8daa7cc8f1b748469a92529d2c758a77"
          ]
        },
        "id": "ZJN4SnXo6Bm-",
        "outputId": "78858674-954e-46d9-d9d2-bc66c68dab59"
      },
      "outputs": [
        {
          "output_type": "display_data",
          "data": {
            "text/plain": [
              "tokenizer_config.json:   0%|          | 0.00/48.0 [00:00<?, ?B/s]"
            ],
            "application/vnd.jupyter.widget-view+json": {
              "version_major": 2,
              "version_minor": 0,
              "model_id": "f03df313f3054743b7d1d44533a65e26"
            }
          },
          "metadata": {}
        },
        {
          "output_type": "display_data",
          "data": {
            "text/plain": [
              "config.json:   0%|          | 0.00/570 [00:00<?, ?B/s]"
            ],
            "application/vnd.jupyter.widget-view+json": {
              "version_major": 2,
              "version_minor": 0,
              "model_id": "a2e3d1a9629740c7bf349112d9b1f6e9"
            }
          },
          "metadata": {}
        },
        {
          "output_type": "display_data",
          "data": {
            "text/plain": [
              "vocab.txt:   0%|          | 0.00/232k [00:00<?, ?B/s]"
            ],
            "application/vnd.jupyter.widget-view+json": {
              "version_major": 2,
              "version_minor": 0,
              "model_id": "8650d5a070964c1b8720d70ae6a9b904"
            }
          },
          "metadata": {}
        },
        {
          "output_type": "display_data",
          "data": {
            "text/plain": [
              "tokenizer.json:   0%|          | 0.00/466k [00:00<?, ?B/s]"
            ],
            "application/vnd.jupyter.widget-view+json": {
              "version_major": 2,
              "version_minor": 0,
              "model_id": "c84b2c95fb89468ca4833516e3f24f91"
            }
          },
          "metadata": {}
        },
        {
          "output_type": "stream",
          "name": "stdout",
          "text": [
            "BertTokenizerFast(name_or_path='bert-base-uncased', vocab_size=30522, model_max_length=512, is_fast=True, padding_side='right', truncation_side='right', special_tokens={'unk_token': '[UNK]', 'sep_token': '[SEP]', 'pad_token': '[PAD]', 'cls_token': '[CLS]', 'mask_token': '[MASK]'}, clean_up_tokenization_spaces=False, added_tokens_decoder={\n",
            "\t0: AddedToken(\"[PAD]\", rstrip=False, lstrip=False, single_word=False, normalized=False, special=True),\n",
            "\t100: AddedToken(\"[UNK]\", rstrip=False, lstrip=False, single_word=False, normalized=False, special=True),\n",
            "\t101: AddedToken(\"[CLS]\", rstrip=False, lstrip=False, single_word=False, normalized=False, special=True),\n",
            "\t102: AddedToken(\"[SEP]\", rstrip=False, lstrip=False, single_word=False, normalized=False, special=True),\n",
            "\t103: AddedToken(\"[MASK]\", rstrip=False, lstrip=False, single_word=False, normalized=False, special=True),\n",
            "}\n",
            ")\n"
          ]
        }
      ],
      "source": [
        "bert_tokenizer = AutoTokenizer.from_pretrained(\"bert-base-uncased\")\n",
        "print(bert_tokenizer)"
      ]
    },
    {
      "cell_type": "code",
      "execution_count": 8,
      "metadata": {
        "colab": {
          "base_uri": "https://localhost:8080/"
        },
        "collapsed": true,
        "id": "IfXbfk1j6MHO",
        "outputId": "e726e8f6-26c1-4634-e3ff-48a7cc4ce6d9"
      },
      "outputs": [
        {
          "output_type": "stream",
          "name": "stderr",
          "text": [
            "Token indices sequence length is longer than the specified maximum sequence length for this model (752 > 512). Running this sequence through the model will result in indexing errors\n"
          ]
        },
        {
          "output_type": "stream",
          "name": "stdout",
          "text": [
            "{'attention_mask': [1, 1, 1, 1, 1, 1, 1, 1, 1, 1, 1, 1, 1],\n",
            " 'input_ids': [101,\n",
            "               2045,\n",
            "               2003,\n",
            "               1037,\n",
            "               2224,\n",
            "               1011,\n",
            "               2553,\n",
            "               1997,\n",
            "               1996,\n",
            "               14324,\n",
            "               19204,\n",
            "               17629,\n",
            "               102],\n",
            " 'token_type_ids': [0, 0, 0, 0, 0, 0, 0, 0, 0, 0, 0, 0, 0]}\n",
            "[101, 2616, 2064, 2022, 28608, 1012, 2616, 2064, 2022, 28608, 1012, 2616, 2064, 2022, 28608, 1012, 2616, 2064, 2022, 28608, 1012, 2616, 2064, 2022, 28608, 1012, 2616, 2064, 2022, 28608, 1012, 2616, 2064, 2022, 28608, 1012, 2616, 2064, 2022, 28608, 1012, 2616, 2064, 2022, 28608, 1012, 2616, 2064, 2022, 28608, 1012, 2616, 2064, 2022, 28608, 1012, 2616, 2064, 2022, 28608, 1012, 2616, 2064, 2022, 28608, 1012, 2616, 2064, 2022, 28608, 1012, 2616, 2064, 2022, 28608, 1012, 2616, 2064, 2022, 28608, 1012, 2616, 2064, 2022, 28608, 1012, 2616, 2064, 2022, 28608, 1012, 2616, 2064, 2022, 28608, 1012, 2616, 2064, 2022, 28608, 1012, 2616, 2064, 2022, 28608, 1012, 2616, 2064, 2022, 28608, 1012, 2616, 2064, 2022, 28608, 1012, 2616, 2064, 2022, 28608, 1012, 2616, 2064, 2022, 28608, 1012, 2616, 2064, 2022, 28608, 1012, 2616, 2064, 2022, 28608, 1012, 2616, 2064, 2022, 28608, 1012, 2616, 2064, 2022, 28608, 1012, 2616, 2064, 2022, 28608, 1012, 2616, 2064, 2022, 28608, 1012, 2616, 2064, 2022, 28608, 1012, 2616, 2064, 2022, 28608, 1012, 2616, 2064, 2022, 28608, 1012, 2616, 2064, 2022, 28608, 1012, 2616, 2064, 2022, 28608, 1012, 2616, 2064, 2022, 28608, 1012, 2616, 2064, 2022, 28608, 1012, 2616, 2064, 2022, 28608, 1012, 2616, 2064, 2022, 28608, 1012, 2616, 2064, 2022, 28608, 1012, 2616, 2064, 2022, 28608, 1012, 2616, 2064, 2022, 28608, 1012, 2616, 2064, 2022, 28608, 1012, 2616, 2064, 2022, 28608, 1012, 2616, 2064, 2022, 28608, 1012, 2616, 2064, 2022, 28608, 1012, 2616, 2064, 2022, 28608, 1012, 2616, 2064, 2022, 28608, 1012, 2616, 2064, 2022, 28608, 1012, 2616, 2064, 2022, 28608, 1012, 2616, 2064, 2022, 28608, 1012, 2616, 2064, 2022, 28608, 1012, 2616, 2064, 2022, 28608, 1012, 2616, 2064, 2022, 28608, 1012, 2616, 2064, 2022, 28608, 1012, 2616, 2064, 2022, 28608, 1012, 2616, 2064, 2022, 28608, 1012, 2616, 2064, 2022, 28608, 1012, 2616, 2064, 2022, 28608, 1012, 2616, 2064, 2022, 28608, 1012, 2616, 2064, 2022, 28608, 1012, 2616, 2064, 2022, 28608, 1012, 2616, 2064, 2022, 28608, 1012, 2616, 2064, 2022, 28608, 1012, 2616, 2064, 2022, 28608, 1012, 2616, 2064, 2022, 28608, 1012, 2616, 2064, 2022, 28608, 1012, 2616, 2064, 2022, 28608, 1012, 2616, 2064, 2022, 28608, 1012, 2616, 2064, 2022, 28608, 1012, 2616, 2064, 2022, 28608, 1012, 2616, 2064, 2022, 28608, 1012, 2616, 2064, 2022, 28608, 1012, 2616, 2064, 2022, 28608, 1012, 2616, 2064, 2022, 28608, 1012, 2616, 2064, 2022, 28608, 1012, 2616, 2064, 2022, 28608, 1012, 2616, 2064, 2022, 28608, 1012, 2616, 2064, 2022, 28608, 1012, 2616, 2064, 2022, 28608, 1012, 2616, 2064, 2022, 28608, 1012, 2616, 2064, 2022, 28608, 1012, 2616, 2064, 2022, 28608, 1012, 2616, 2064, 2022, 28608, 1012, 2616, 2064, 2022, 28608, 1012, 2616, 2064, 2022, 28608, 1012, 2616, 2064, 2022, 28608, 1012, 2616, 2064, 2022, 28608, 1012, 2616, 2064, 2022, 28608, 1012, 2616, 2064, 2022, 28608, 1012, 2616, 2064, 2022, 28608, 1012, 2616, 2064, 2022, 28608, 1012, 2616, 2064, 2022, 28608, 1012, 2616, 2064, 2022, 28608, 1012, 2616, 2064, 2022, 28608, 1012, 2616, 2064, 2022, 28608, 1012, 2616, 2064, 2022, 28608, 1012, 2616, 2064, 2022, 28608, 1012, 2616, 2064, 2022, 28608, 1012, 2616, 2064, 2022, 28608, 1012, 2616, 2064, 2022, 28608, 1012, 2616, 2064, 2022, 28608, 1012, 2616, 2064, 2022, 28608, 1012, 2616, 2064, 2022, 28608, 1012, 2616, 2064, 2022, 28608, 1012, 2616, 2064, 2022, 28608, 1012, 2616, 2064, 2022, 28608, 1012, 2616, 2064, 2022, 28608, 1012, 2616, 2064, 2022, 28608, 1012, 2616, 2064, 2022, 28608, 1012, 2616, 2064, 2022, 28608, 1012, 2616, 2064, 2022, 28608, 1012, 2616, 2064, 2022, 28608, 1012, 2616, 2064, 2022, 28608, 1012, 2616, 2064, 2022, 28608, 1012, 2616, 2064, 2022, 28608, 1012, 2616, 2064, 2022, 28608, 1012, 2616, 2064, 2022, 28608, 1012, 2616, 2064, 2022, 28608, 1012, 2616, 2064, 2022, 28608, 1012, 2616, 2064, 2022, 28608, 1012, 2616, 2064, 2022, 28608, 1012, 2616, 2064, 2022, 28608, 1012, 2616, 2064, 2022, 28608, 1012, 2616, 2064, 2022, 28608, 1012, 2616, 2064, 2022, 28608, 1012, 2616, 2064, 2022, 28608, 1012, 2616, 2064, 2022, 28608, 1012, 2616, 2064, 2022, 28608, 1012, 2616, 2064, 2022, 28608, 1012, 2616, 2064, 2022, 28608, 1012, 2616, 2064, 2022, 28608, 1012, 2616, 2064, 2022, 28608, 1012, 2616, 2064, 2022, 28608, 1012, 2616, 2064, 2022, 28608, 1012, 2616, 2064, 2022, 28608, 1012, 2616, 2064, 2022, 28608, 1012, 2616, 2064, 2022, 28608, 1012, 2616, 2064, 2022, 28608, 1012, 2616, 2064, 2022, 28608, 1012, 2616, 2064, 2022, 28608, 1012, 2616, 2064, 2022, 28608, 1012, 2616, 2064, 2022, 28608, 1012, 2616, 2064, 2022, 28608, 1012, 2616, 2064, 2022, 28608, 1012, 2616, 2064, 2022, 28608, 1012, 2616, 2064, 2022, 28608, 1012, 2616, 2064, 2022, 28608, 1012, 2616, 2064, 2022, 28608, 1012, 102]\n",
            "[]\n"
          ]
        }
      ],
      "source": [
        "sample = \"There is a use-case of the BERT Tokenizer\"\n",
        "tokens = bert_tokenizer(sample)\n",
        "pprint(tokens)\n",
        "\n",
        "#check for length greater than 512\n",
        "\n",
        "sample = \"Words can be multiplied.\" * 150\n",
        "tokens = bert_tokenizer(sample)\n",
        "print(tokens.input_ids)\n",
        "\n",
        "filtered_ids = [x for x in tokens.input_ids if x == 103]\n",
        "print(filtered_ids)"
      ]
    },
    {
      "cell_type": "markdown",
      "metadata": {
        "id": "V0LHcsNE86f1"
      },
      "source": [
        "## Question 3\n",
        "\n",
        "Use “BertConfig” and “BertForMaskedLM” to construct the default (original) BERT model. Choose the correct statements\n",
        "\n",
        " A. The model has 12 Bert layers\n",
        "\n",
        " B. The model has 6 Bert layers\n",
        "\n",
        " C. The model uses absolute position embeddings\n",
        "\n",
        " D. The word embedding (token embedding) layer has about 23 million learnable parameters\n",
        "\n",
        " E. The total number of parameters in the model is close to 110 million"
      ]
    },
    {
      "cell_type": "code",
      "execution_count": 9,
      "metadata": {
        "colab": {
          "base_uri": "https://localhost:8080/"
        },
        "collapsed": true,
        "id": "zoR9VJiT8_u3",
        "outputId": "9a9423c8-797f-436a-d3df-648cf460f8f6"
      },
      "outputs": [
        {
          "output_type": "stream",
          "name": "stdout",
          "text": [
            "BertConfig {\n",
            "  \"attention_probs_dropout_prob\": 0.1,\n",
            "  \"classifier_dropout\": null,\n",
            "  \"hidden_act\": \"gelu\",\n",
            "  \"hidden_dropout_prob\": 0.1,\n",
            "  \"hidden_size\": 768,\n",
            "  \"initializer_range\": 0.02,\n",
            "  \"intermediate_size\": 3072,\n",
            "  \"layer_norm_eps\": 1e-12,\n",
            "  \"max_position_embeddings\": 512,\n",
            "  \"model_type\": \"bert\",\n",
            "  \"num_attention_heads\": 12,\n",
            "  \"num_hidden_layers\": 12,\n",
            "  \"pad_token_id\": 0,\n",
            "  \"position_embedding_type\": \"absolute\",\n",
            "  \"transformers_version\": \"4.47.1\",\n",
            "  \"type_vocab_size\": 2,\n",
            "  \"use_cache\": true,\n",
            "  \"vocab_size\": 30522\n",
            "}\n",
            "\n"
          ]
        }
      ],
      "source": [
        "from transformers import BertConfig, BertForMaskedLM\n",
        "\n",
        "configration = BertConfig()\n",
        "print(configration)"
      ]
    },
    {
      "cell_type": "code",
      "execution_count": 10,
      "metadata": {
        "colab": {
          "base_uri": "https://localhost:8080/"
        },
        "collapsed": true,
        "id": "wG-42OH09HLv",
        "outputId": "60a38cc7-4fc8-4318-c412-9c7cb6bad3ce"
      },
      "outputs": [
        {
          "output_type": "stream",
          "name": "stderr",
          "text": [
            "BertForMaskedLM has generative capabilities, as `prepare_inputs_for_generation` is explicitly overwritten. However, it doesn't directly inherit from `GenerationMixin`. From 👉v4.50👈 onwards, `PreTrainedModel` will NOT inherit from `GenerationMixin`, and this model will lose the ability to call `generate` and other related functions.\n",
            "  - If you're using `trust_remote_code=True`, you can get rid of this warning by loading the model with an auto class. See https://huggingface.co/docs/transformers/en/model_doc/auto#auto-classes\n",
            "  - If you are the owner of the model architecture code, please modify your model class such that it inherits from `GenerationMixin` (after `PreTrainedModel`, otherwise you'll get an exception).\n",
            "  - If you are not the owner of the model architecture class, please contact the model code owner to update it.\n"
          ]
        },
        {
          "output_type": "stream",
          "name": "stdout",
          "text": [
            "BertForMaskedLM(\n",
            "  (bert): BertModel(\n",
            "    (embeddings): BertEmbeddings(\n",
            "      (word_embeddings): Embedding(30522, 768, padding_idx=0)\n",
            "      (position_embeddings): Embedding(512, 768)\n",
            "      (token_type_embeddings): Embedding(2, 768)\n",
            "      (LayerNorm): LayerNorm((768,), eps=1e-12, elementwise_affine=True)\n",
            "      (dropout): Dropout(p=0.1, inplace=False)\n",
            "    )\n",
            "    (encoder): BertEncoder(\n",
            "      (layer): ModuleList(\n",
            "        (0-11): 12 x BertLayer(\n",
            "          (attention): BertAttention(\n",
            "            (self): BertSdpaSelfAttention(\n",
            "              (query): Linear(in_features=768, out_features=768, bias=True)\n",
            "              (key): Linear(in_features=768, out_features=768, bias=True)\n",
            "              (value): Linear(in_features=768, out_features=768, bias=True)\n",
            "              (dropout): Dropout(p=0.1, inplace=False)\n",
            "            )\n",
            "            (output): BertSelfOutput(\n",
            "              (dense): Linear(in_features=768, out_features=768, bias=True)\n",
            "              (LayerNorm): LayerNorm((768,), eps=1e-12, elementwise_affine=True)\n",
            "              (dropout): Dropout(p=0.1, inplace=False)\n",
            "            )\n",
            "          )\n",
            "          (intermediate): BertIntermediate(\n",
            "            (dense): Linear(in_features=768, out_features=3072, bias=True)\n",
            "            (intermediate_act_fn): GELUActivation()\n",
            "          )\n",
            "          (output): BertOutput(\n",
            "            (dense): Linear(in_features=3072, out_features=768, bias=True)\n",
            "            (LayerNorm): LayerNorm((768,), eps=1e-12, elementwise_affine=True)\n",
            "            (dropout): Dropout(p=0.1, inplace=False)\n",
            "          )\n",
            "        )\n",
            "      )\n",
            "    )\n",
            "  )\n",
            "  (cls): BertOnlyMLMHead(\n",
            "    (predictions): BertLMPredictionHead(\n",
            "      (transform): BertPredictionHeadTransform(\n",
            "        (dense): Linear(in_features=768, out_features=768, bias=True)\n",
            "        (transform_act_fn): GELUActivation()\n",
            "        (LayerNorm): LayerNorm((768,), eps=1e-12, elementwise_affine=True)\n",
            "      )\n",
            "      (decoder): Linear(in_features=768, out_features=30522, bias=True)\n",
            "    )\n",
            "  )\n",
            ")\n"
          ]
        }
      ],
      "source": [
        "bert_model = BertForMaskedLM(configration)\n",
        "print(bert_model)"
      ]
    },
    {
      "cell_type": "code",
      "execution_count": 11,
      "metadata": {
        "colab": {
          "base_uri": "https://localhost:8080/"
        },
        "id": "k6KzuCCH98vW",
        "outputId": "6b9a6f8f-69de-4eb5-e7a3-84ee3c8a2ec2"
      },
      "outputs": [
        {
          "output_type": "stream",
          "name": "stdout",
          "text": [
            "Total number of parameters: 23.440896M\n"
          ]
        }
      ],
      "source": [
        "# No. of learnable parameters in Word_embedding layer\n",
        "\n",
        "num_parameters = 0\n",
        "\n",
        "for params in bert_model.bert.embeddings.word_embeddings.parameters():\n",
        "  num_parameters += params.numel()\n",
        "\n",
        "print(f\"Total number of parameters: {num_parameters/10**6}M\")"
      ]
    },
    {
      "cell_type": "code",
      "execution_count": 12,
      "metadata": {
        "colab": {
          "base_uri": "https://localhost:8080/"
        },
        "id": "gfyDO7v49Zsp",
        "outputId": "69635e41-89d6-4f0a-e0a6-ce855049762e"
      },
      "outputs": [
        {
          "output_type": "stream",
          "name": "stdout",
          "text": [
            "Total number of parameters: 109.514298M\n"
          ]
        }
      ],
      "source": [
        "#total no. of parameters\n",
        "\n",
        "num_parameters = 0\n",
        "\n",
        "for params in bert_model.parameters():\n",
        "  num_parameters += params.numel()\n",
        "\n",
        "print(f\"Total number of parameters: {num_parameters/10**6}M\")"
      ]
    },
    {
      "cell_type": "markdown",
      "metadata": {
        "id": "HfRe6hwT_HzY"
      },
      "source": [
        "## Question-4"
      ]
    },
    {
      "cell_type": "code",
      "execution_count": 13,
      "metadata": {
        "colab": {
          "base_uri": "https://localhost:8080/"
        },
        "id": "2kJcOCxx_Jn7",
        "outputId": "bdd2f89d-c142-45bc-90a0-4f21128babca"
      },
      "outputs": [
        {
          "output_type": "stream",
          "name": "stdout",
          "text": [
            "BertConfig {\n",
            "  \"attention_probs_dropout_prob\": 0.1,\n",
            "  \"classifier_dropout\": null,\n",
            "  \"hidden_act\": \"gelu\",\n",
            "  \"hidden_dropout_prob\": 0.1,\n",
            "  \"hidden_size\": 768,\n",
            "  \"initializer_range\": 0.02,\n",
            "  \"intermediate_size\": 3072,\n",
            "  \"layer_norm_eps\": 1e-12,\n",
            "  \"max_position_embeddings\": 1024,\n",
            "  \"model_type\": \"bert\",\n",
            "  \"num_attention_heads\": 12,\n",
            "  \"num_hidden_layers\": 12,\n",
            "  \"pad_token_id\": 0,\n",
            "  \"position_embedding_type\": \"absolute\",\n",
            "  \"transformers_version\": \"4.47.1\",\n",
            "  \"type_vocab_size\": 2,\n",
            "  \"use_cache\": true,\n",
            "  \"vocab_size\": 30522\n",
            "}\n",
            "\n",
            "Total number of parameters changed: 393216\n"
          ]
        }
      ],
      "source": [
        "# Double the context length from 512 to 1024 (you can change it in the configuration).\n",
        "# Count the number of parameters and enter the change in the number of parameters (in millions) compared to the default configuration.\n",
        "\n",
        "\n",
        "new_config = BertConfig(max_position_embeddings=1024)\n",
        "print(new_config)\n",
        "\n",
        "model = BertForMaskedLM(new_config)\n",
        "new_num_parameters = 0\n",
        "\n",
        "for params in model.parameters():\n",
        "  new_num_parameters += params.numel()\n",
        "\n",
        "changed_parameters = new_num_parameters - num_parameters\n",
        "\n",
        "print(f\"Total number of parameters changed: {changed_parameters}\")"
      ]
    },
    {
      "cell_type": "markdown",
      "metadata": {
        "id": "t8mysiXRBG1g"
      },
      "source": [
        "## Question-5\n",
        "\n",
        "Pack (chunk) the samples such that the length of all the samples in the dataset is 512 (for efficient training). Define a mapping function that implements the following procedure\n",
        " 1. Take a batch of 1000 samples\n",
        " 2. Tokenize it to get input IDs and attention mask\n",
        " 3. Concatenate all the input IDs\n",
        " 4. Chunk the concatenated IDs into a size of 512\n",
        " 5. Drop the last chunk if its length is less than 512\n",
        " 6. Pack all the chunks\n",
        " 7. Iterate over all the batches in the dataset\n",
        "\n",
        "Store the resulting dataset in the variable “ds_chunked”. Enter the total number of samples in the new dataset.\n",
        "\n",
        "Note: the batch size should be kept at 1000 while calling \"ds.map()\" for theanswer to match."
      ]
    },
    {
      "cell_type": "code",
      "execution_count": 14,
      "metadata": {
        "colab": {
          "base_uri": "https://localhost:8080/",
          "height": 98,
          "referenced_widgets": [
            "46ee3abcd7594ab182c05affc5146436",
            "aa2cf5f6b9fb44609a423d2d0d76d57b",
            "6316459e30134eb8adde2d5d8ac30a33",
            "beaf8336cc2b4f86a102e551b05dfef6",
            "eefccb27af554b2e900509f434269525",
            "d60b2b296776424e9e7663941f6c4299",
            "b7a0c5d28b6d43e9b5994a551e192023",
            "ae2a695f89af42339323e8680ed1c1c1",
            "1db80c976c754fd18335c89e9d37b048",
            "fc82d88204de40f3a1ec44c93c060cae",
            "b9d1820c9449465db0ccfc3e8e867dad",
            "03f8fa2579b84d5eac40b3c73ffe1599",
            "84adfea7ff104ba79f6c5ce578cb8cc7",
            "1ab6d90cdf23459b9563e74c7b3da879",
            "b21117a4942048c6812c1fe0711594ac",
            "dc4eda5d6c48414d9985024394238d1f",
            "1dc882b6e9944188b85f56c0bc485988",
            "92d0e40ba6844ef78db3c20ad56a5d98",
            "43ea8ba66439489a9aff11306007901b",
            "a5a42654373149c8b5cfcffcffa168a3",
            "b06111cb251c44ba809334e136f28aeb",
            "a059bb56361747df99f1a3d7e94ea198"
          ]
        },
        "id": "c2oNhRbTBN3R",
        "outputId": "5005d274-ee17-420b-a4b7-35d21bce8174"
      },
      "outputs": [
        {
          "output_type": "display_data",
          "data": {
            "text/plain": [
              "Map (num_proc=4):   0%|          | 0/700000 [00:00<?, ? examples/s]"
            ],
            "application/vnd.jupyter.widget-view+json": {
              "version_major": 2,
              "version_minor": 0,
              "model_id": "46ee3abcd7594ab182c05affc5146436"
            }
          },
          "metadata": {}
        },
        {
          "output_type": "display_data",
          "data": {
            "text/plain": [
              "Map (num_proc=4):   0%|          | 0/700000 [00:00<?, ? examples/s]"
            ],
            "application/vnd.jupyter.widget-view+json": {
              "version_major": 2,
              "version_minor": 0,
              "model_id": "03f8fa2579b84d5eac40b3c73ffe1599"
            }
          },
          "metadata": {}
        },
        {
          "output_type": "stream",
          "name": "stdout",
          "text": [
            "Total number of samples in the chunked dataset: 234613\n"
          ]
        }
      ],
      "source": [
        "import itertools\n",
        "\n",
        "CHUNK_SIZE = 512\n",
        "\n",
        "# Define the mapping function for chunking\n",
        "def tokenized_samples(batch):\n",
        "    # Step 1: Tokenize the batch of 1000 samples\n",
        "    tokenized = bert_tokenizer(\n",
        "        batch['text'],\n",
        "        truncation=True,\n",
        "        padding=False,\n",
        "    )\n",
        "\n",
        "    return {\n",
        "        \"input_ids\": tokenized[\"input_ids\"],\n",
        "        \"attention_mask\": tokenized[\"attention_mask\"],\n",
        "    }\n",
        "\n",
        "def chunk_samples(batch):\n",
        "    # Concatenate all input_ids and attention_mask from the batch\n",
        "    all_input_ids = list(itertools.chain.from_iterable(batch[\"input_ids\"]))\n",
        "    all_attention_mask = list(itertools.chain.from_iterable(batch[\"attention_mask\"]))\n",
        "\n",
        "    # Chunk the concatenated lists into segments of size 512, dropping the last if incomplete\n",
        "    chunked_input_ids = [all_input_ids[i : i + CHUNK_SIZE] for i in range(0, len(all_input_ids), CHUNK_SIZE) if len(all_input_ids[i : i + CHUNK_SIZE]) == CHUNK_SIZE]\n",
        "    chunked_attention_mask = [all_attention_mask[i : i + CHUNK_SIZE] for i in range(0, len(all_attention_mask), CHUNK_SIZE) if len(all_attention_mask[i : i + CHUNK_SIZE]) == CHUNK_SIZE]\n",
        "\n",
        "    # Create a new Dataset with the chunked data\n",
        "    return {\"input_ids\": chunked_input_ids, \"attention_mask\": chunked_attention_mask}\n",
        "\n",
        "# Apply the tokenization function\n",
        "tokenized_dataset = yelp_ds.map(tokenized_samples, batched=True, batch_size=1000, remove_columns=['text', 'label'], num_proc=4)  # Remove original columns\n",
        "\n",
        "# Apply the chunking function to the tokenized dataset\n",
        "ds_chunked = tokenized_dataset.map(chunk_samples, batched=True, batch_size=1000, num_proc=4)\n",
        "\n",
        "# Calculate the total number of samples after chunking\n",
        "total_samples = len(ds_chunked[\"input_ids\"])  # Get the length of the \"input_ids\" list\n",
        "\n",
        "print(f\"Total number of samples in the chunked dataset: {total_samples}\")"
      ]
    },
    {
      "cell_type": "code",
      "execution_count": 15,
      "metadata": {
        "colab": {
          "base_uri": "https://localhost:8080/"
        },
        "id": "3yqUvhBV0R_Z",
        "outputId": "1bd1668f-b319-47ce-fcb9-a9bc49945770"
      },
      "outputs": [
        {
          "output_type": "execute_result",
          "data": {
            "text/plain": [
              "Dataset({\n",
              "    features: ['input_ids', 'attention_mask'],\n",
              "    num_rows: 234613\n",
              "})"
            ]
          },
          "metadata": {},
          "execution_count": 15
        }
      ],
      "source": [
        "# Convert the tokenized_ds (which is a dictionary) into a Dataset\n",
        "ds_chunked"
      ]
    },
    {
      "cell_type": "code",
      "execution_count": 16,
      "metadata": {
        "id": "6nbbAOPc0WMh"
      },
      "outputs": [],
      "source": [
        "import torch\n",
        "\n",
        "# Convert dataset to PyTorch tensors\n",
        "ds_chunked.set_format(type=\"torch\", columns=[\"input_ids\", \"attention_mask\"])"
      ]
    },
    {
      "cell_type": "markdown",
      "metadata": {
        "id": "S_svcIJrnNoW"
      },
      "source": [
        "## Question-6\n",
        "\n",
        "Split the new dataset into training and test sets with the test_size=0.05 and seed=42. Use the appropriate data collator function for the MLM objective and set the masking probability to 0.2. Use the data loader from PyTorch to load a batch of samples, and enter the token ID corresponding to the unmasked token\n"
      ]
    },
    {
      "cell_type": "code",
      "execution_count": 17,
      "metadata": {
        "colab": {
          "base_uri": "https://localhost:8080/"
        },
        "id": "zTW9Np_dnVI-",
        "outputId": "c26a4901-2b53-4066-a68a-6e36056b7231"
      },
      "outputs": [
        {
          "output_type": "stream",
          "name": "stdout",
          "text": [
            "Train dataset size: 222882\n",
            "Test dataset size: 11731\n"
          ]
        }
      ],
      "source": [
        "#splitting the dataset\n",
        "ds_split = ds_chunked.train_test_split(test_size=0.05,seed=42)\n",
        "\n",
        "train_dataset = ds_split[\"train\"]\n",
        "test_dataset = ds_split[\"test\"]\n",
        "\n",
        "print(f\"Train dataset size: {len(train_dataset)}\")\n",
        "print(f\"Test dataset size: {len(test_dataset)}\")"
      ]
    },
    {
      "cell_type": "code",
      "execution_count": 18,
      "metadata": {
        "id": "7FnA9XuWBzQz"
      },
      "outputs": [],
      "source": [
        "from transformers import DataCollatorForWholeWordMask\n",
        "\n",
        "#configuring the model\n",
        "data_collator = DataCollatorForWholeWordMask(\n",
        "    tokenizer=bert_tokenizer,\n",
        "    mlm_probability=0.2  # 20% of tokens will be masked\n",
        ")"
      ]
    },
    {
      "cell_type": "code",
      "execution_count": 19,
      "metadata": {
        "id": "olplCPiKuepW"
      },
      "outputs": [],
      "source": [
        "#pytorch to load data\n",
        "import torch\n",
        "from torch.utils.data import DataLoader\n",
        "\n",
        "train_dataloader = DataLoader(dataset=ds_split['train'],\n",
        "                        collate_fn=data_collator,\n",
        "                        batch_size=4,\n",
        "                        )\n",
        "\n",
        "eval_dataloader = DataLoader(dataset=ds_split['test'],\n",
        "                        collate_fn=data_collator,\n",
        "                        batch_size=4,\n",
        "                        )"
      ]
    },
    {
      "cell_type": "code",
      "execution_count": 20,
      "metadata": {
        "colab": {
          "base_uri": "https://localhost:8080/"
        },
        "id": "kSamfTwDu4ov",
        "outputId": "12b4c883-b19f-4407-d500-10117c511440"
      },
      "outputs": [
        {
          "output_type": "stream",
          "name": "stdout",
          "text": [
            "\n",
            "Sample of Unmasked Token IDs:\n",
            "Example 1: [103, 103, 103, 103, 29959, 21314, 103, 103, 103, 103, 103, 103, 25517, 103, 103, 103, 103, 103, 103, 103, 103, 103, 24967, 103, 103, 103, 103, 103, 103, 103, 2421, 103, 103, 103, 103, 24281, 103, 103, 14887, 103, 103, 103, 103, 103, 2017, 14361, 103, 103, 103, 103, 2017, 103, 103, 28106, 103, 2005, 103, 1996, 103, 103, 26247, 103, 103, 103, 103, 103, 1997, 103, 103, 103, 103, 103, 103, 103, 103, 103, 103, 1012, 103, 103, 103, 103, 5845, 103, 103, 103, 103, 103, 103, 1999, 103, 103, 29287, 103, 103, 103, 103, 14389, 103, 103, 25037, 103]\n",
            "Example 2: [103, 2821, 103, 103, 103, 103, 103, 103, 103, 103, 103, 103, 103, 1005, 6025, 103, 7727, 103, 103, 19993, 103, 103, 103, 103, 4967, 103, 103, 103, 103, 103, 103, 103, 103, 8810, 103, 1050, 103, 103, 103, 103, 103, 103, 103, 1475, 103, 3071, 103, 3319, 103, 103, 103, 13852, 103, 103, 103, 103, 25305, 103, 1055, 7292, 103, 103, 103, 103, 103, 103, 2396, 103, 103, 103, 103, 103, 103, 103, 103, 103, 103, 103, 103, 103, 103, 103, 103, 103, 2173, 103, 103, 103, 103, 103, 103, 103, 103, 103, 103, 103, 103, 103, 7166, 8114, 103, 103]\n"
          ]
        }
      ],
      "source": [
        "#printing token_id for masked token\n",
        "batch = next(iter(train_dataloader))\n",
        "\n",
        "# Extract token IDs corresponding to unmasked tokens\n",
        "input_ids = batch[\"input_ids\"]\n",
        "labels = batch[\"labels\"]\n",
        "\n",
        "# Masked tokens are -100 in `labels`. Unmasked tokens retain their original IDs.\n",
        "unmasked_token_ids = [\n",
        "    [input_ids[i][j].item() for j in range(len(labels[i])) if labels[i][j] != -100]\n",
        "    for i in range(len(labels))\n",
        "]\n",
        "\n",
        "# Print a batch of unmasked token IDs\n",
        "print(\"\\nSample of Unmasked Token IDs:\")\n",
        "for i, token_ids in enumerate(unmasked_token_ids[:2]):  # Show first 2 examples\n",
        "    print(f\"Example {i+1}: {token_ids}\")"
      ]
    },
    {
      "cell_type": "markdown",
      "metadata": {
        "id": "rJPe59kkFWhd"
      },
      "source": [
        "## Question-7\n",
        "\n",
        "Create a small BERT model by changing the following hyper-parameters and keeping the other hyper-parameters as is\n",
        "\n",
        " • num_hidden_layers = 6\n",
        "\n",
        " • hidden size: 384\n",
        "\n",
        " • intermediate_size: 1536\n",
        "\n",
        " and start training the model with a batch of size 8 for an epoch. What is the loss value at the end of the training?\n",
        "\n",
        "**Note: You may optionally save the checkpoints for every N-th step.**"
      ]
    },
    {
      "cell_type": "code",
      "execution_count": 21,
      "metadata": {
        "colab": {
          "base_uri": "https://localhost:8080/"
        },
        "collapsed": true,
        "id": "H7jwl6EKFeT-",
        "outputId": "9e1887e7-2f70-4dfe-9872-0c70596776a2"
      },
      "outputs": [
        {
          "output_type": "execute_result",
          "data": {
            "text/plain": [
              "BertForMaskedLM(\n",
              "  (bert): BertModel(\n",
              "    (embeddings): BertEmbeddings(\n",
              "      (word_embeddings): Embedding(30522, 384, padding_idx=0)\n",
              "      (position_embeddings): Embedding(512, 384)\n",
              "      (token_type_embeddings): Embedding(2, 384)\n",
              "      (LayerNorm): LayerNorm((384,), eps=1e-12, elementwise_affine=True)\n",
              "      (dropout): Dropout(p=0.1, inplace=False)\n",
              "    )\n",
              "    (encoder): BertEncoder(\n",
              "      (layer): ModuleList(\n",
              "        (0-5): 6 x BertLayer(\n",
              "          (attention): BertAttention(\n",
              "            (self): BertSdpaSelfAttention(\n",
              "              (query): Linear(in_features=384, out_features=384, bias=True)\n",
              "              (key): Linear(in_features=384, out_features=384, bias=True)\n",
              "              (value): Linear(in_features=384, out_features=384, bias=True)\n",
              "              (dropout): Dropout(p=0.1, inplace=False)\n",
              "            )\n",
              "            (output): BertSelfOutput(\n",
              "              (dense): Linear(in_features=384, out_features=384, bias=True)\n",
              "              (LayerNorm): LayerNorm((384,), eps=1e-12, elementwise_affine=True)\n",
              "              (dropout): Dropout(p=0.1, inplace=False)\n",
              "            )\n",
              "          )\n",
              "          (intermediate): BertIntermediate(\n",
              "            (dense): Linear(in_features=384, out_features=1536, bias=True)\n",
              "            (intermediate_act_fn): GELUActivation()\n",
              "          )\n",
              "          (output): BertOutput(\n",
              "            (dense): Linear(in_features=1536, out_features=384, bias=True)\n",
              "            (LayerNorm): LayerNorm((384,), eps=1e-12, elementwise_affine=True)\n",
              "            (dropout): Dropout(p=0.1, inplace=False)\n",
              "          )\n",
              "        )\n",
              "      )\n",
              "    )\n",
              "  )\n",
              "  (cls): BertOnlyMLMHead(\n",
              "    (predictions): BertLMPredictionHead(\n",
              "      (transform): BertPredictionHeadTransform(\n",
              "        (dense): Linear(in_features=384, out_features=384, bias=True)\n",
              "        (transform_act_fn): GELUActivation()\n",
              "        (LayerNorm): LayerNorm((384,), eps=1e-12, elementwise_affine=True)\n",
              "      )\n",
              "      (decoder): Linear(in_features=384, out_features=30522, bias=True)\n",
              "    )\n",
              "  )\n",
              ")"
            ]
          },
          "metadata": {},
          "execution_count": 21
        }
      ],
      "source": [
        "new_config = BertConfig(\n",
        "    num_hidden_layers=6,\n",
        "    hidden_size=384,\n",
        "    intermediate_size=1536,\n",
        ")\n",
        "\n",
        "model = BertForMaskedLM(new_config)\n",
        "device = torch.device(\"cuda\" if torch.cuda.is_available() else \"cpu\")\n",
        "model.to(device)"
      ]
    },
    {
      "cell_type": "code",
      "execution_count": 22,
      "metadata": {
        "id": "yk137VGuXlVx"
      },
      "outputs": [],
      "source": [
        "data_collator = DataCollatorForLanguageModeling(\n",
        "    tokenizer=bert_tokenizer,\n",
        "    mlm=True,\n",
        "    mlm_probability=0.15,\n",
        ")"
      ]
    },
    {
      "cell_type": "code",
      "execution_count": 23,
      "metadata": {
        "colab": {
          "base_uri": "https://localhost:8080/"
        },
        "id": "sVxauaISR9sq",
        "outputId": "5b542bb7-8db9-4a02-f5b2-e8b16cb1e470"
      },
      "outputs": [
        {
          "output_type": "stream",
          "name": "stderr",
          "text": [
            "/usr/local/lib/python3.11/dist-packages/transformers/training_args.py:1575: FutureWarning: `evaluation_strategy` is deprecated and will be removed in version 4.46 of 🤗 Transformers. Use `eval_strategy` instead\n",
            "  warnings.warn(\n"
          ]
        }
      ],
      "source": [
        "# Train with new config with batch size of 8 for an epoch\n",
        "# Calculate loss\n",
        "\n",
        "training_args = TrainingArguments(\n",
        "    output_dir='out',\n",
        "    num_train_epochs=1,\n",
        "    per_device_train_batch_size=8,\n",
        "    per_device_eval_batch_size=8,\n",
        "    bf16=False,\n",
        "    fp16=False,\n",
        "    tf32=False,\n",
        "    adam_beta1=0.9,\n",
        "    adam_beta2=0.999,\n",
        "    learning_rate=2e-5,\n",
        "    weight_decay=0.01,\n",
        "    gradient_accumulation_steps=1,\n",
        "    logging_strategy=\"steps\",\n",
        "    logging_steps = 500,\n",
        "    save_steps=1000,\n",
        "    save_total_limit=15,\n",
        "    evaluation_strategy=\"epoch\",\n",
        "    report_to = \"none\"\n",
        "    )\n"
      ]
    },
    {
      "cell_type": "code",
      "execution_count": 24,
      "metadata": {
        "id": "2adVhywbSuiP"
      },
      "outputs": [],
      "source": [
        "trainer = Trainer(model=model,\n",
        "                 args = training_args,\n",
        "                 train_dataset=ds_split[\"train\"],\n",
        "                 eval_dataset= ds_split[\"test\"],\n",
        "                 data_collator = data_collator)\n"
      ]
    },
    {
      "cell_type": "code",
      "execution_count": null,
      "metadata": {
        "colab": {
          "base_uri": "https://localhost:8080/",
          "height": 133
        },
        "id": "q8_8XfNwS7X-",
        "outputId": "b877243a-8958-4684-9624-0b700c9f749b"
      },
      "outputs": [
        {
          "data": {
            "text/html": [
              "\n",
              "    <div>\n",
              "      \n",
              "      <progress value='9004' max='27861' style='width:300px; height:20px; vertical-align: middle;'></progress>\n",
              "      [ 9004/27861 37:12 < 1:17:57, 4.03 it/s, Epoch 0.32/1]\n",
              "    </div>\n",
              "    <table border=\"1\" class=\"dataframe\">\n",
              "  <thead>\n",
              " <tr style=\"text-align: left;\">\n",
              "      <th>Epoch</th>\n",
              "      <th>Training Loss</th>\n",
              "      <th>Validation Loss</th>\n",
              "    </tr>\n",
              "  </thead>\n",
              "  <tbody>\n",
              "  </tbody>\n",
              "</table><p>"
            ],
            "text/plain": [
              "<IPython.core.display.HTML object>"
            ]
          },
          "metadata": {},
          "output_type": "display_data"
        },
        {
          "output_type": "display_data",
          "data": {
            "text/plain": [
              "<IPython.core.display.HTML object>"
            ],
            "text/html": [
              "\n",
              "    <div>\n",
              "      \n",
              "      <progress value='12001' max='27861' style='width:300px; height:20px; vertical-align: middle;'></progress>\n",
              "      [12001/27861 49:36 < 1:05:34, 4.03 it/s, Epoch 0.43/1]\n",
              "    </div>\n",
              "    <table border=\"1\" class=\"dataframe\">\n",
              "  <thead>\n",
              " <tr style=\"text-align: left;\">\n",
              "      <th>Epoch</th>\n",
              "      <th>Training Loss</th>\n",
              "      <th>Validation Loss</th>\n",
              "    </tr>\n",
              "  </thead>\n",
              "  <tbody>\n",
              "  </tbody>\n",
              "</table><p>"
            ]
          },
          "metadata": {}
        }
      ],
      "source": [
        "result = trainer.train()\n",
        "\n",
        "print(result)"
      ]
    },
    {
      "cell_type": "markdown",
      "metadata": {
        "id": "Y2aFxb-up928"
      },
      "source": [
        "## Question-8"
      ]
    },
    {
      "cell_type": "code",
      "execution_count": null,
      "metadata": {
        "id": "qf1Dizs4p_0a"
      },
      "outputs": [],
      "source": [
        "model =BertForMaskedLM.from_pretrained('bert/checkpoint-14000/')\n",
        "\n",
        "text = \"This is really a [MASK] experience for all of [MASK]\"\n",
        "\n",
        "inputs = tokenizer(text, return_tensors=\"pt\")\n",
        "\n",
        "token_logits = model(**inputs).logits\n",
        "\n",
        "# Find the location of [MASK] and extract its logits\n",
        "\n",
        "mask_token_index =   torch.where(inputs[\"input_ids\"] == tokenizer.mask_token_id)[1]\n",
        "\n",
        "mask_token_logits = token_logits[0, mask_token_index, :]\n",
        "\n",
        "# Pick the [MASK] candidates with the highest logits\n",
        "\n",
        "top_5_tokens =   torch.topk(mask_token_logits, 5, dim=1).indices[0].tolist()\n",
        "\n",
        "for token in top_5_tokens:\n",
        "    print(f\"'>>> {text.replace(tokenizer.mask_token,   \t  tokenizer.decode([token]))"
      ]
    }
  ],
  "metadata": {
    "colab": {
      "provenance": [],
      "gpuType": "T4"
    },
    "kernelspec": {
      "display_name": "Python 3",
      "name": "python3"
    },
    "language_info": {
      "name": "python"
    },
    "widgets": {
      "application/vnd.jupyter.widget-state+json": {
        "00581cf64d6b488f9558568f6e6bd0e6": {
          "model_module": "@jupyter-widgets/controls",
          "model_module_version": "1.5.0",
          "model_name": "DescriptionStyleModel",
          "state": {
            "_model_module": "@jupyter-widgets/controls",
            "_model_module_version": "1.5.0",
            "_model_name": "DescriptionStyleModel",
            "_view_count": null,
            "_view_module": "@jupyter-widgets/base",
            "_view_module_version": "1.2.0",
            "_view_name": "StyleView",
            "description_width": ""
          }
        },
        "059a88a79d0b4ec791dcccc8c5fc5ecb": {
          "model_module": "@jupyter-widgets/controls",
          "model_module_version": "1.5.0",
          "model_name": "HTMLModel",
          "state": {
            "_dom_classes": [],
            "_model_module": "@jupyter-widgets/controls",
            "_model_module_version": "1.5.0",
            "_model_name": "HTMLModel",
            "_view_count": null,
            "_view_module": "@jupyter-widgets/controls",
            "_view_module_version": "1.5.0",
            "_view_name": "HTMLView",
            "description": "",
            "description_tooltip": null,
            "layout": "IPY_MODEL_7042c51d45e046a1b37a75a23e096356",
            "placeholder": "​",
            "style": "IPY_MODEL_bdb755b81efc40a68ea604397c46371a",
            "value": "README.md: 100%"
          }
        },
        "11f62ed4fd7045e0b48b4312a03f5bf7": {
          "model_module": "@jupyter-widgets/controls",
          "model_module_version": "1.5.0",
          "model_name": "HTMLModel",
          "state": {
            "_dom_classes": [],
            "_model_module": "@jupyter-widgets/controls",
            "_model_module_version": "1.5.0",
            "_model_name": "HTMLModel",
            "_view_count": null,
            "_view_module": "@jupyter-widgets/controls",
            "_view_module_version": "1.5.0",
            "_view_name": "HTMLView",
            "description": "",
            "description_tooltip": null,
            "layout": "IPY_MODEL_379504965cb544ffb4355d6bf8752865",
            "placeholder": "​",
            "style": "IPY_MODEL_de6b6f034a63462d866d67f296229aad",
            "value": " 74004228/74004228 [01:13&lt;00:00, 759866.87 examples/s]"
          }
        },
        "18ddd56ce78144c89073a7993489878f": {
          "model_module": "@jupyter-widgets/controls",
          "model_module_version": "1.5.0",
          "model_name": "HTMLModel",
          "state": {
            "_dom_classes": [],
            "_model_module": "@jupyter-widgets/controls",
            "_model_module_version": "1.5.0",
            "_model_name": "HTMLModel",
            "_view_count": null,
            "_view_module": "@jupyter-widgets/controls",
            "_view_module_version": "1.5.0",
            "_view_name": "HTMLView",
            "description": "",
            "description_tooltip": null,
            "layout": "IPY_MODEL_523059754011418b9dc78c487c35910a",
            "placeholder": "​",
            "style": "IPY_MODEL_00581cf64d6b488f9558568f6e6bd0e6",
            "value": "bookcorpus.py: 100%"
          }
        },
        "1bd157ab698a49c6b43d75c80d42e45c": {
          "model_module": "@jupyter-widgets/base",
          "model_module_version": "1.2.0",
          "model_name": "LayoutModel",
          "state": {
            "_model_module": "@jupyter-widgets/base",
            "_model_module_version": "1.2.0",
            "_model_name": "LayoutModel",
            "_view_count": null,
            "_view_module": "@jupyter-widgets/base",
            "_view_module_version": "1.2.0",
            "_view_name": "LayoutView",
            "align_content": null,
            "align_items": null,
            "align_self": null,
            "border": null,
            "bottom": null,
            "display": null,
            "flex": null,
            "flex_flow": null,
            "grid_area": null,
            "grid_auto_columns": null,
            "grid_auto_flow": null,
            "grid_auto_rows": null,
            "grid_column": null,
            "grid_gap": null,
            "grid_row": null,
            "grid_template_areas": null,
            "grid_template_columns": null,
            "grid_template_rows": null,
            "height": null,
            "justify_content": null,
            "justify_items": null,
            "left": null,
            "margin": null,
            "max_height": null,
            "max_width": null,
            "min_height": null,
            "min_width": null,
            "object_fit": null,
            "object_position": null,
            "order": null,
            "overflow": null,
            "overflow_x": null,
            "overflow_y": null,
            "padding": null,
            "right": null,
            "top": null,
            "visibility": null,
            "width": null
          }
        },
        "1c6b25412d3d4893a7963cd9046ea4dc": {
          "model_module": "@jupyter-widgets/base",
          "model_module_version": "1.2.0",
          "model_name": "LayoutModel",
          "state": {
            "_model_module": "@jupyter-widgets/base",
            "_model_module_version": "1.2.0",
            "_model_name": "LayoutModel",
            "_view_count": null,
            "_view_module": "@jupyter-widgets/base",
            "_view_module_version": "1.2.0",
            "_view_name": "LayoutView",
            "align_content": null,
            "align_items": null,
            "align_self": null,
            "border": null,
            "bottom": null,
            "display": null,
            "flex": null,
            "flex_flow": null,
            "grid_area": null,
            "grid_auto_columns": null,
            "grid_auto_flow": null,
            "grid_auto_rows": null,
            "grid_column": null,
            "grid_gap": null,
            "grid_row": null,
            "grid_template_areas": null,
            "grid_template_columns": null,
            "grid_template_rows": null,
            "height": null,
            "justify_content": null,
            "justify_items": null,
            "left": null,
            "margin": null,
            "max_height": null,
            "max_width": null,
            "min_height": null,
            "min_width": null,
            "object_fit": null,
            "object_position": null,
            "order": null,
            "overflow": null,
            "overflow_x": null,
            "overflow_y": null,
            "padding": null,
            "right": null,
            "top": null,
            "visibility": null,
            "width": null
          }
        },
        "1f537e44c4f545aa85f502fee1e517aa": {
          "model_module": "@jupyter-widgets/controls",
          "model_module_version": "1.5.0",
          "model_name": "HBoxModel",
          "state": {
            "_dom_classes": [],
            "_model_module": "@jupyter-widgets/controls",
            "_model_module_version": "1.5.0",
            "_model_name": "HBoxModel",
            "_view_count": null,
            "_view_module": "@jupyter-widgets/controls",
            "_view_module_version": "1.5.0",
            "_view_name": "HBoxView",
            "box_style": "",
            "children": [
              "IPY_MODEL_059a88a79d0b4ec791dcccc8c5fc5ecb",
              "IPY_MODEL_432617b48aa745cc9d3a49854fa48dec",
              "IPY_MODEL_a356f88058dc4d74a501d6319257ec32"
            ],
            "layout": "IPY_MODEL_fe418bde5c6f4f979104d31cea3bb282"
          }
        },
        "1fe3ee12338540a4978997f13276320a": {
          "model_module": "@jupyter-widgets/controls",
          "model_module_version": "1.5.0",
          "model_name": "ProgressStyleModel",
          "state": {
            "_model_module": "@jupyter-widgets/controls",
            "_model_module_version": "1.5.0",
            "_model_name": "ProgressStyleModel",
            "_view_count": null,
            "_view_module": "@jupyter-widgets/base",
            "_view_module_version": "1.2.0",
            "_view_name": "StyleView",
            "bar_color": null,
            "description_width": ""
          }
        },
        "24b11f98c42f4232ad171ec743799818": {
          "model_module": "@jupyter-widgets/base",
          "model_module_version": "1.2.0",
          "model_name": "LayoutModel",
          "state": {
            "_model_module": "@jupyter-widgets/base",
            "_model_module_version": "1.2.0",
            "_model_name": "LayoutModel",
            "_view_count": null,
            "_view_module": "@jupyter-widgets/base",
            "_view_module_version": "1.2.0",
            "_view_name": "LayoutView",
            "align_content": null,
            "align_items": null,
            "align_self": null,
            "border": null,
            "bottom": null,
            "display": null,
            "flex": null,
            "flex_flow": null,
            "grid_area": null,
            "grid_auto_columns": null,
            "grid_auto_flow": null,
            "grid_auto_rows": null,
            "grid_column": null,
            "grid_gap": null,
            "grid_row": null,
            "grid_template_areas": null,
            "grid_template_columns": null,
            "grid_template_rows": null,
            "height": null,
            "justify_content": null,
            "justify_items": null,
            "left": null,
            "margin": null,
            "max_height": null,
            "max_width": null,
            "min_height": null,
            "min_width": null,
            "object_fit": null,
            "object_position": null,
            "order": null,
            "overflow": null,
            "overflow_x": null,
            "overflow_y": null,
            "padding": null,
            "right": null,
            "top": null,
            "visibility": null,
            "width": null
          }
        },
        "24c9aa62de59442fa1e95f30a1b73990": {
          "model_module": "@jupyter-widgets/base",
          "model_module_version": "1.2.0",
          "model_name": "LayoutModel",
          "state": {
            "_model_module": "@jupyter-widgets/base",
            "_model_module_version": "1.2.0",
            "_model_name": "LayoutModel",
            "_view_count": null,
            "_view_module": "@jupyter-widgets/base",
            "_view_module_version": "1.2.0",
            "_view_name": "LayoutView",
            "align_content": null,
            "align_items": null,
            "align_self": null,
            "border": null,
            "bottom": null,
            "display": null,
            "flex": null,
            "flex_flow": null,
            "grid_area": null,
            "grid_auto_columns": null,
            "grid_auto_flow": null,
            "grid_auto_rows": null,
            "grid_column": null,
            "grid_gap": null,
            "grid_row": null,
            "grid_template_areas": null,
            "grid_template_columns": null,
            "grid_template_rows": null,
            "height": null,
            "justify_content": null,
            "justify_items": null,
            "left": null,
            "margin": null,
            "max_height": null,
            "max_width": null,
            "min_height": null,
            "min_width": null,
            "object_fit": null,
            "object_position": null,
            "order": null,
            "overflow": null,
            "overflow_x": null,
            "overflow_y": null,
            "padding": null,
            "right": null,
            "top": null,
            "visibility": null,
            "width": null
          }
        },
        "2bd3fe68cd4749e69e44b3ef215c47b7": {
          "model_module": "@jupyter-widgets/controls",
          "model_module_version": "1.5.0",
          "model_name": "DescriptionStyleModel",
          "state": {
            "_model_module": "@jupyter-widgets/controls",
            "_model_module_version": "1.5.0",
            "_model_name": "DescriptionStyleModel",
            "_view_count": null,
            "_view_module": "@jupyter-widgets/base",
            "_view_module_version": "1.2.0",
            "_view_name": "StyleView",
            "description_width": ""
          }
        },
        "2f7036c182c64a02ab9ee8676af79c5d": {
          "model_module": "@jupyter-widgets/base",
          "model_module_version": "1.2.0",
          "model_name": "LayoutModel",
          "state": {
            "_model_module": "@jupyter-widgets/base",
            "_model_module_version": "1.2.0",
            "_model_name": "LayoutModel",
            "_view_count": null,
            "_view_module": "@jupyter-widgets/base",
            "_view_module_version": "1.2.0",
            "_view_name": "LayoutView",
            "align_content": null,
            "align_items": null,
            "align_self": null,
            "border": null,
            "bottom": null,
            "display": null,
            "flex": null,
            "flex_flow": null,
            "grid_area": null,
            "grid_auto_columns": null,
            "grid_auto_flow": null,
            "grid_auto_rows": null,
            "grid_column": null,
            "grid_gap": null,
            "grid_row": null,
            "grid_template_areas": null,
            "grid_template_columns": null,
            "grid_template_rows": null,
            "height": null,
            "justify_content": null,
            "justify_items": null,
            "left": null,
            "margin": null,
            "max_height": null,
            "max_width": null,
            "min_height": null,
            "min_width": null,
            "object_fit": null,
            "object_position": null,
            "order": null,
            "overflow": null,
            "overflow_x": null,
            "overflow_y": null,
            "padding": null,
            "right": null,
            "top": null,
            "visibility": null,
            "width": null
          }
        },
        "31b16485f8224319af34c6a31046b3df": {
          "model_module": "@jupyter-widgets/controls",
          "model_module_version": "1.5.0",
          "model_name": "FloatProgressModel",
          "state": {
            "_dom_classes": [],
            "_model_module": "@jupyter-widgets/controls",
            "_model_module_version": "1.5.0",
            "_model_name": "FloatProgressModel",
            "_view_count": null,
            "_view_module": "@jupyter-widgets/controls",
            "_view_module_version": "1.5.0",
            "_view_name": "ProgressView",
            "bar_style": "success",
            "description": "",
            "description_tooltip": null,
            "layout": "IPY_MODEL_8499241a59c34ead8010412cb7238150",
            "max": 74004228,
            "min": 0,
            "orientation": "horizontal",
            "style": "IPY_MODEL_b46efd97c211457baffc8ac5dc1b1f43",
            "value": 74004228
          }
        },
        "379504965cb544ffb4355d6bf8752865": {
          "model_module": "@jupyter-widgets/base",
          "model_module_version": "1.2.0",
          "model_name": "LayoutModel",
          "state": {
            "_model_module": "@jupyter-widgets/base",
            "_model_module_version": "1.2.0",
            "_model_name": "LayoutModel",
            "_view_count": null,
            "_view_module": "@jupyter-widgets/base",
            "_view_module_version": "1.2.0",
            "_view_name": "LayoutView",
            "align_content": null,
            "align_items": null,
            "align_self": null,
            "border": null,
            "bottom": null,
            "display": null,
            "flex": null,
            "flex_flow": null,
            "grid_area": null,
            "grid_auto_columns": null,
            "grid_auto_flow": null,
            "grid_auto_rows": null,
            "grid_column": null,
            "grid_gap": null,
            "grid_row": null,
            "grid_template_areas": null,
            "grid_template_columns": null,
            "grid_template_rows": null,
            "height": null,
            "justify_content": null,
            "justify_items": null,
            "left": null,
            "margin": null,
            "max_height": null,
            "max_width": null,
            "min_height": null,
            "min_width": null,
            "object_fit": null,
            "object_position": null,
            "order": null,
            "overflow": null,
            "overflow_x": null,
            "overflow_y": null,
            "padding": null,
            "right": null,
            "top": null,
            "visibility": null,
            "width": null
          }
        },
        "3db001783b3c4763ba7d3cd0dcbf93ba": {
          "model_module": "@jupyter-widgets/base",
          "model_module_version": "1.2.0",
          "model_name": "LayoutModel",
          "state": {
            "_model_module": "@jupyter-widgets/base",
            "_model_module_version": "1.2.0",
            "_model_name": "LayoutModel",
            "_view_count": null,
            "_view_module": "@jupyter-widgets/base",
            "_view_module_version": "1.2.0",
            "_view_name": "LayoutView",
            "align_content": null,
            "align_items": null,
            "align_self": null,
            "border": null,
            "bottom": null,
            "display": null,
            "flex": null,
            "flex_flow": null,
            "grid_area": null,
            "grid_auto_columns": null,
            "grid_auto_flow": null,
            "grid_auto_rows": null,
            "grid_column": null,
            "grid_gap": null,
            "grid_row": null,
            "grid_template_areas": null,
            "grid_template_columns": null,
            "grid_template_rows": null,
            "height": null,
            "justify_content": null,
            "justify_items": null,
            "left": null,
            "margin": null,
            "max_height": null,
            "max_width": null,
            "min_height": null,
            "min_width": null,
            "object_fit": null,
            "object_position": null,
            "order": null,
            "overflow": null,
            "overflow_x": null,
            "overflow_y": null,
            "padding": null,
            "right": null,
            "top": null,
            "visibility": null,
            "width": null
          }
        },
        "40578dd80dfc472892b2722655107ecd": {
          "model_module": "@jupyter-widgets/controls",
          "model_module_version": "1.5.0",
          "model_name": "HBoxModel",
          "state": {
            "_dom_classes": [],
            "_model_module": "@jupyter-widgets/controls",
            "_model_module_version": "1.5.0",
            "_model_name": "HBoxModel",
            "_view_count": null,
            "_view_module": "@jupyter-widgets/controls",
            "_view_module_version": "1.5.0",
            "_view_name": "HBoxView",
            "box_style": "",
            "children": [
              "IPY_MODEL_4606aa58cc8845cdbb94968341bc65e1",
              "IPY_MODEL_44f8bb66b1c748989d545700d7fa65d3",
              "IPY_MODEL_c5e17c2c22bd460ba0167acd78fd484e"
            ],
            "layout": "IPY_MODEL_2f7036c182c64a02ab9ee8676af79c5d"
          }
        },
        "432617b48aa745cc9d3a49854fa48dec": {
          "model_module": "@jupyter-widgets/controls",
          "model_module_version": "1.5.0",
          "model_name": "FloatProgressModel",
          "state": {
            "_dom_classes": [],
            "_model_module": "@jupyter-widgets/controls",
            "_model_module_version": "1.5.0",
            "_model_name": "FloatProgressModel",
            "_view_count": null,
            "_view_module": "@jupyter-widgets/controls",
            "_view_module_version": "1.5.0",
            "_view_name": "ProgressView",
            "bar_style": "success",
            "description": "",
            "description_tooltip": null,
            "layout": "IPY_MODEL_24b11f98c42f4232ad171ec743799818",
            "max": 18462,
            "min": 0,
            "orientation": "horizontal",
            "style": "IPY_MODEL_896616b3b642485bbad41c2bb4e0320b",
            "value": 18462
          }
        },
        "44ef35b7a52a48e294e030fcc2d0b3e3": {
          "model_module": "@jupyter-widgets/controls",
          "model_module_version": "1.5.0",
          "model_name": "DescriptionStyleModel",
          "state": {
            "_model_module": "@jupyter-widgets/controls",
            "_model_module_version": "1.5.0",
            "_model_name": "DescriptionStyleModel",
            "_view_count": null,
            "_view_module": "@jupyter-widgets/base",
            "_view_module_version": "1.2.0",
            "_view_name": "StyleView",
            "description_width": ""
          }
        },
        "44f8bb66b1c748989d545700d7fa65d3": {
          "model_module": "@jupyter-widgets/controls",
          "model_module_version": "1.5.0",
          "model_name": "FloatProgressModel",
          "state": {
            "_dom_classes": [],
            "_model_module": "@jupyter-widgets/controls",
            "_model_module_version": "1.5.0",
            "_model_name": "FloatProgressModel",
            "_view_count": null,
            "_view_module": "@jupyter-widgets/controls",
            "_view_module_version": "1.5.0",
            "_view_name": "ProgressView",
            "bar_style": "success",
            "description": "",
            "description_tooltip": null,
            "layout": "IPY_MODEL_7772e7ab690c491081463643378670a3",
            "max": 1179510242,
            "min": 0,
            "orientation": "horizontal",
            "style": "IPY_MODEL_1fe3ee12338540a4978997f13276320a",
            "value": 1179510242
          }
        },
        "4528dece0faa4ca787ddb3fc933b174b": {
          "model_module": "@jupyter-widgets/controls",
          "model_module_version": "1.5.0",
          "model_name": "DescriptionStyleModel",
          "state": {
            "_model_module": "@jupyter-widgets/controls",
            "_model_module_version": "1.5.0",
            "_model_name": "DescriptionStyleModel",
            "_view_count": null,
            "_view_module": "@jupyter-widgets/base",
            "_view_module_version": "1.2.0",
            "_view_name": "StyleView",
            "description_width": ""
          }
        },
        "4606aa58cc8845cdbb94968341bc65e1": {
          "model_module": "@jupyter-widgets/controls",
          "model_module_version": "1.5.0",
          "model_name": "HTMLModel",
          "state": {
            "_dom_classes": [],
            "_model_module": "@jupyter-widgets/controls",
            "_model_module_version": "1.5.0",
            "_model_name": "HTMLModel",
            "_view_count": null,
            "_view_module": "@jupyter-widgets/controls",
            "_view_module_version": "1.5.0",
            "_view_name": "HTMLView",
            "description": "",
            "description_tooltip": null,
            "layout": "IPY_MODEL_e1827698351c45ba85427f66ac818d77",
            "placeholder": "​",
            "style": "IPY_MODEL_44ef35b7a52a48e294e030fcc2d0b3e3",
            "value": "Downloading data: 100%"
          }
        },
        "4b405a1223f74142a706e35fdc6092cb": {
          "model_module": "@jupyter-widgets/controls",
          "model_module_version": "1.5.0",
          "model_name": "FloatProgressModel",
          "state": {
            "_dom_classes": [],
            "_model_module": "@jupyter-widgets/controls",
            "_model_module_version": "1.5.0",
            "_model_name": "FloatProgressModel",
            "_view_count": null,
            "_view_module": "@jupyter-widgets/controls",
            "_view_module_version": "1.5.0",
            "_view_name": "ProgressView",
            "bar_style": "success",
            "description": "",
            "description_tooltip": null,
            "layout": "IPY_MODEL_8dbd7bbe1e954310ade70b18396f28f5",
            "max": 3246,
            "min": 0,
            "orientation": "horizontal",
            "style": "IPY_MODEL_60bf61b28c684508bc802d6d55164db6",
            "value": 3246
          }
        },
        "523059754011418b9dc78c487c35910a": {
          "model_module": "@jupyter-widgets/base",
          "model_module_version": "1.2.0",
          "model_name": "LayoutModel",
          "state": {
            "_model_module": "@jupyter-widgets/base",
            "_model_module_version": "1.2.0",
            "_model_name": "LayoutModel",
            "_view_count": null,
            "_view_module": "@jupyter-widgets/base",
            "_view_module_version": "1.2.0",
            "_view_name": "LayoutView",
            "align_content": null,
            "align_items": null,
            "align_self": null,
            "border": null,
            "bottom": null,
            "display": null,
            "flex": null,
            "flex_flow": null,
            "grid_area": null,
            "grid_auto_columns": null,
            "grid_auto_flow": null,
            "grid_auto_rows": null,
            "grid_column": null,
            "grid_gap": null,
            "grid_row": null,
            "grid_template_areas": null,
            "grid_template_columns": null,
            "grid_template_rows": null,
            "height": null,
            "justify_content": null,
            "justify_items": null,
            "left": null,
            "margin": null,
            "max_height": null,
            "max_width": null,
            "min_height": null,
            "min_width": null,
            "object_fit": null,
            "object_position": null,
            "order": null,
            "overflow": null,
            "overflow_x": null,
            "overflow_y": null,
            "padding": null,
            "right": null,
            "top": null,
            "visibility": null,
            "width": null
          }
        },
        "5583a421238e467b9a937c9e3df1815f": {
          "model_module": "@jupyter-widgets/base",
          "model_module_version": "1.2.0",
          "model_name": "LayoutModel",
          "state": {
            "_model_module": "@jupyter-widgets/base",
            "_model_module_version": "1.2.0",
            "_model_name": "LayoutModel",
            "_view_count": null,
            "_view_module": "@jupyter-widgets/base",
            "_view_module_version": "1.2.0",
            "_view_name": "LayoutView",
            "align_content": null,
            "align_items": null,
            "align_self": null,
            "border": null,
            "bottom": null,
            "display": null,
            "flex": null,
            "flex_flow": null,
            "grid_area": null,
            "grid_auto_columns": null,
            "grid_auto_flow": null,
            "grid_auto_rows": null,
            "grid_column": null,
            "grid_gap": null,
            "grid_row": null,
            "grid_template_areas": null,
            "grid_template_columns": null,
            "grid_template_rows": null,
            "height": null,
            "justify_content": null,
            "justify_items": null,
            "left": null,
            "margin": null,
            "max_height": null,
            "max_width": null,
            "min_height": null,
            "min_width": null,
            "object_fit": null,
            "object_position": null,
            "order": null,
            "overflow": null,
            "overflow_x": null,
            "overflow_y": null,
            "padding": null,
            "right": null,
            "top": null,
            "visibility": null,
            "width": null
          }
        },
        "5593c1a60f4e4554933d0806605196cb": {
          "model_module": "@jupyter-widgets/controls",
          "model_module_version": "1.5.0",
          "model_name": "DescriptionStyleModel",
          "state": {
            "_model_module": "@jupyter-widgets/controls",
            "_model_module_version": "1.5.0",
            "_model_name": "DescriptionStyleModel",
            "_view_count": null,
            "_view_module": "@jupyter-widgets/base",
            "_view_module_version": "1.2.0",
            "_view_name": "StyleView",
            "description_width": ""
          }
        },
        "60bf61b28c684508bc802d6d55164db6": {
          "model_module": "@jupyter-widgets/controls",
          "model_module_version": "1.5.0",
          "model_name": "ProgressStyleModel",
          "state": {
            "_model_module": "@jupyter-widgets/controls",
            "_model_module_version": "1.5.0",
            "_model_name": "ProgressStyleModel",
            "_view_count": null,
            "_view_module": "@jupyter-widgets/base",
            "_view_module_version": "1.2.0",
            "_view_name": "StyleView",
            "bar_color": null,
            "description_width": ""
          }
        },
        "60e6205ec5cc4cd59a6e0641f863f5b0": {
          "model_module": "@jupyter-widgets/controls",
          "model_module_version": "1.5.0",
          "model_name": "ProgressStyleModel",
          "state": {
            "_model_module": "@jupyter-widgets/controls",
            "_model_module_version": "1.5.0",
            "_model_name": "ProgressStyleModel",
            "_view_count": null,
            "_view_module": "@jupyter-widgets/base",
            "_view_module_version": "1.2.0",
            "_view_name": "StyleView",
            "bar_color": null,
            "description_width": ""
          }
        },
        "636b06239bb74392b77ac39c8992d85c": {
          "model_module": "@jupyter-widgets/controls",
          "model_module_version": "1.5.0",
          "model_name": "DescriptionStyleModel",
          "state": {
            "_model_module": "@jupyter-widgets/controls",
            "_model_module_version": "1.5.0",
            "_model_name": "DescriptionStyleModel",
            "_view_count": null,
            "_view_module": "@jupyter-widgets/base",
            "_view_module_version": "1.2.0",
            "_view_name": "StyleView",
            "description_width": ""
          }
        },
        "64ba6909111545689de261547eed1b3e": {
          "model_module": "@jupyter-widgets/base",
          "model_module_version": "1.2.0",
          "model_name": "LayoutModel",
          "state": {
            "_model_module": "@jupyter-widgets/base",
            "_model_module_version": "1.2.0",
            "_model_name": "LayoutModel",
            "_view_count": null,
            "_view_module": "@jupyter-widgets/base",
            "_view_module_version": "1.2.0",
            "_view_name": "LayoutView",
            "align_content": null,
            "align_items": null,
            "align_self": null,
            "border": null,
            "bottom": null,
            "display": null,
            "flex": null,
            "flex_flow": null,
            "grid_area": null,
            "grid_auto_columns": null,
            "grid_auto_flow": null,
            "grid_auto_rows": null,
            "grid_column": null,
            "grid_gap": null,
            "grid_row": null,
            "grid_template_areas": null,
            "grid_template_columns": null,
            "grid_template_rows": null,
            "height": null,
            "justify_content": null,
            "justify_items": null,
            "left": null,
            "margin": null,
            "max_height": null,
            "max_width": null,
            "min_height": null,
            "min_width": null,
            "object_fit": null,
            "object_position": null,
            "order": null,
            "overflow": null,
            "overflow_x": null,
            "overflow_y": null,
            "padding": null,
            "right": null,
            "top": null,
            "visibility": null,
            "width": null
          }
        },
        "6c93debe79224524a4f6b6aeedcef727": {
          "model_module": "@jupyter-widgets/base",
          "model_module_version": "1.2.0",
          "model_name": "LayoutModel",
          "state": {
            "_model_module": "@jupyter-widgets/base",
            "_model_module_version": "1.2.0",
            "_model_name": "LayoutModel",
            "_view_count": null,
            "_view_module": "@jupyter-widgets/base",
            "_view_module_version": "1.2.0",
            "_view_name": "LayoutView",
            "align_content": null,
            "align_items": null,
            "align_self": null,
            "border": null,
            "bottom": null,
            "display": null,
            "flex": null,
            "flex_flow": null,
            "grid_area": null,
            "grid_auto_columns": null,
            "grid_auto_flow": null,
            "grid_auto_rows": null,
            "grid_column": null,
            "grid_gap": null,
            "grid_row": null,
            "grid_template_areas": null,
            "grid_template_columns": null,
            "grid_template_rows": null,
            "height": null,
            "justify_content": null,
            "justify_items": null,
            "left": null,
            "margin": null,
            "max_height": null,
            "max_width": null,
            "min_height": null,
            "min_width": null,
            "object_fit": null,
            "object_position": null,
            "order": null,
            "overflow": null,
            "overflow_x": null,
            "overflow_y": null,
            "padding": null,
            "right": null,
            "top": null,
            "visibility": null,
            "width": null
          }
        },
        "7042c51d45e046a1b37a75a23e096356": {
          "model_module": "@jupyter-widgets/base",
          "model_module_version": "1.2.0",
          "model_name": "LayoutModel",
          "state": {
            "_model_module": "@jupyter-widgets/base",
            "_model_module_version": "1.2.0",
            "_model_name": "LayoutModel",
            "_view_count": null,
            "_view_module": "@jupyter-widgets/base",
            "_view_module_version": "1.2.0",
            "_view_name": "LayoutView",
            "align_content": null,
            "align_items": null,
            "align_self": null,
            "border": null,
            "bottom": null,
            "display": null,
            "flex": null,
            "flex_flow": null,
            "grid_area": null,
            "grid_auto_columns": null,
            "grid_auto_flow": null,
            "grid_auto_rows": null,
            "grid_column": null,
            "grid_gap": null,
            "grid_row": null,
            "grid_template_areas": null,
            "grid_template_columns": null,
            "grid_template_rows": null,
            "height": null,
            "justify_content": null,
            "justify_items": null,
            "left": null,
            "margin": null,
            "max_height": null,
            "max_width": null,
            "min_height": null,
            "min_width": null,
            "object_fit": null,
            "object_position": null,
            "order": null,
            "overflow": null,
            "overflow_x": null,
            "overflow_y": null,
            "padding": null,
            "right": null,
            "top": null,
            "visibility": null,
            "width": null
          }
        },
        "7772e7ab690c491081463643378670a3": {
          "model_module": "@jupyter-widgets/base",
          "model_module_version": "1.2.0",
          "model_name": "LayoutModel",
          "state": {
            "_model_module": "@jupyter-widgets/base",
            "_model_module_version": "1.2.0",
            "_model_name": "LayoutModel",
            "_view_count": null,
            "_view_module": "@jupyter-widgets/base",
            "_view_module_version": "1.2.0",
            "_view_name": "LayoutView",
            "align_content": null,
            "align_items": null,
            "align_self": null,
            "border": null,
            "bottom": null,
            "display": null,
            "flex": null,
            "flex_flow": null,
            "grid_area": null,
            "grid_auto_columns": null,
            "grid_auto_flow": null,
            "grid_auto_rows": null,
            "grid_column": null,
            "grid_gap": null,
            "grid_row": null,
            "grid_template_areas": null,
            "grid_template_columns": null,
            "grid_template_rows": null,
            "height": null,
            "justify_content": null,
            "justify_items": null,
            "left": null,
            "margin": null,
            "max_height": null,
            "max_width": null,
            "min_height": null,
            "min_width": null,
            "object_fit": null,
            "object_position": null,
            "order": null,
            "overflow": null,
            "overflow_x": null,
            "overflow_y": null,
            "padding": null,
            "right": null,
            "top": null,
            "visibility": null,
            "width": null
          }
        },
        "830c30db18924e36a84cf119679e68c7": {
          "model_module": "@jupyter-widgets/controls",
          "model_module_version": "1.5.0",
          "model_name": "HTMLModel",
          "state": {
            "_dom_classes": [],
            "_model_module": "@jupyter-widgets/controls",
            "_model_module_version": "1.5.0",
            "_model_name": "HTMLModel",
            "_view_count": null,
            "_view_module": "@jupyter-widgets/controls",
            "_view_module_version": "1.5.0",
            "_view_name": "HTMLView",
            "description": "",
            "description_tooltip": null,
            "layout": "IPY_MODEL_1bd157ab698a49c6b43d75c80d42e45c",
            "placeholder": "​",
            "style": "IPY_MODEL_da22b956318249b899574aa02c6ebb91",
            "value": " 3.25k/3.25k [00:00&lt;00:00, 44.7kB/s]"
          }
        },
        "848ded2238d648ceb04b358d4f97ec86": {
          "model_module": "@jupyter-widgets/controls",
          "model_module_version": "1.5.0",
          "model_name": "HTMLModel",
          "state": {
            "_dom_classes": [],
            "_model_module": "@jupyter-widgets/controls",
            "_model_module_version": "1.5.0",
            "_model_name": "HTMLModel",
            "_view_count": null,
            "_view_module": "@jupyter-widgets/controls",
            "_view_module_version": "1.5.0",
            "_view_name": "HTMLView",
            "description": "",
            "description_tooltip": null,
            "layout": "IPY_MODEL_ca45d33d7fee497a9c46a3f5e552be2b",
            "placeholder": "​",
            "style": "IPY_MODEL_636b06239bb74392b77ac39c8992d85c",
            "value": "Generating train split: 100%"
          }
        },
        "8499241a59c34ead8010412cb7238150": {
          "model_module": "@jupyter-widgets/base",
          "model_module_version": "1.2.0",
          "model_name": "LayoutModel",
          "state": {
            "_model_module": "@jupyter-widgets/base",
            "_model_module_version": "1.2.0",
            "_model_name": "LayoutModel",
            "_view_count": null,
            "_view_module": "@jupyter-widgets/base",
            "_view_module_version": "1.2.0",
            "_view_name": "LayoutView",
            "align_content": null,
            "align_items": null,
            "align_self": null,
            "border": null,
            "bottom": null,
            "display": null,
            "flex": null,
            "flex_flow": null,
            "grid_area": null,
            "grid_auto_columns": null,
            "grid_auto_flow": null,
            "grid_auto_rows": null,
            "grid_column": null,
            "grid_gap": null,
            "grid_row": null,
            "grid_template_areas": null,
            "grid_template_columns": null,
            "grid_template_rows": null,
            "height": null,
            "justify_content": null,
            "justify_items": null,
            "left": null,
            "margin": null,
            "max_height": null,
            "max_width": null,
            "min_height": null,
            "min_width": null,
            "object_fit": null,
            "object_position": null,
            "order": null,
            "overflow": null,
            "overflow_x": null,
            "overflow_y": null,
            "padding": null,
            "right": null,
            "top": null,
            "visibility": null,
            "width": null
          }
        },
        "896616b3b642485bbad41c2bb4e0320b": {
          "model_module": "@jupyter-widgets/controls",
          "model_module_version": "1.5.0",
          "model_name": "ProgressStyleModel",
          "state": {
            "_model_module": "@jupyter-widgets/controls",
            "_model_module_version": "1.5.0",
            "_model_name": "ProgressStyleModel",
            "_view_count": null,
            "_view_module": "@jupyter-widgets/base",
            "_view_module_version": "1.2.0",
            "_view_name": "StyleView",
            "bar_color": null,
            "description_width": ""
          }
        },
        "8b4028ddd01844b69c5d1b0896dc8ffe": {
          "model_module": "@jupyter-widgets/controls",
          "model_module_version": "1.5.0",
          "model_name": "HBoxModel",
          "state": {
            "_dom_classes": [],
            "_model_module": "@jupyter-widgets/controls",
            "_model_module_version": "1.5.0",
            "_model_name": "HBoxModel",
            "_view_count": null,
            "_view_module": "@jupyter-widgets/controls",
            "_view_module_version": "1.5.0",
            "_view_name": "HBoxView",
            "box_style": "",
            "children": [
              "IPY_MODEL_8d486335bddb4763bf2327e811a1174f",
              "IPY_MODEL_31b16485f8224319af34c6a31046b3df",
              "IPY_MODEL_11f62ed4fd7045e0b48b4312a03f5bf7"
            ],
            "layout": "IPY_MODEL_6c93debe79224524a4f6b6aeedcef727"
          }
        },
        "8d486335bddb4763bf2327e811a1174f": {
          "model_module": "@jupyter-widgets/controls",
          "model_module_version": "1.5.0",
          "model_name": "HTMLModel",
          "state": {
            "_dom_classes": [],
            "_model_module": "@jupyter-widgets/controls",
            "_model_module_version": "1.5.0",
            "_model_name": "HTMLModel",
            "_view_count": null,
            "_view_module": "@jupyter-widgets/controls",
            "_view_module_version": "1.5.0",
            "_view_name": "HTMLView",
            "description": "",
            "description_tooltip": null,
            "layout": "IPY_MODEL_1c6b25412d3d4893a7963cd9046ea4dc",
            "placeholder": "​",
            "style": "IPY_MODEL_4528dece0faa4ca787ddb3fc933b174b",
            "value": "Saving the dataset (10/10 shards): 100%"
          }
        },
        "8dbd7bbe1e954310ade70b18396f28f5": {
          "model_module": "@jupyter-widgets/base",
          "model_module_version": "1.2.0",
          "model_name": "LayoutModel",
          "state": {
            "_model_module": "@jupyter-widgets/base",
            "_model_module_version": "1.2.0",
            "_model_name": "LayoutModel",
            "_view_count": null,
            "_view_module": "@jupyter-widgets/base",
            "_view_module_version": "1.2.0",
            "_view_name": "LayoutView",
            "align_content": null,
            "align_items": null,
            "align_self": null,
            "border": null,
            "bottom": null,
            "display": null,
            "flex": null,
            "flex_flow": null,
            "grid_area": null,
            "grid_auto_columns": null,
            "grid_auto_flow": null,
            "grid_auto_rows": null,
            "grid_column": null,
            "grid_gap": null,
            "grid_row": null,
            "grid_template_areas": null,
            "grid_template_columns": null,
            "grid_template_rows": null,
            "height": null,
            "justify_content": null,
            "justify_items": null,
            "left": null,
            "margin": null,
            "max_height": null,
            "max_width": null,
            "min_height": null,
            "min_width": null,
            "object_fit": null,
            "object_position": null,
            "order": null,
            "overflow": null,
            "overflow_x": null,
            "overflow_y": null,
            "padding": null,
            "right": null,
            "top": null,
            "visibility": null,
            "width": null
          }
        },
        "9cd3f04385ed49049fde5a6517ea1ac9": {
          "model_module": "@jupyter-widgets/controls",
          "model_module_version": "1.5.0",
          "model_name": "HTMLModel",
          "state": {
            "_dom_classes": [],
            "_model_module": "@jupyter-widgets/controls",
            "_model_module_version": "1.5.0",
            "_model_name": "HTMLModel",
            "_view_count": null,
            "_view_module": "@jupyter-widgets/controls",
            "_view_module_version": "1.5.0",
            "_view_name": "HTMLView",
            "description": "",
            "description_tooltip": null,
            "layout": "IPY_MODEL_5583a421238e467b9a937c9e3df1815f",
            "placeholder": "​",
            "style": "IPY_MODEL_b5c3b9db2a334f6bb6cc49cd532734f7",
            "value": " 74004228/74004228 [42:35&lt;00:00, 28326.32 examples/s]"
          }
        },
        "a356f88058dc4d74a501d6319257ec32": {
          "model_module": "@jupyter-widgets/controls",
          "model_module_version": "1.5.0",
          "model_name": "HTMLModel",
          "state": {
            "_dom_classes": [],
            "_model_module": "@jupyter-widgets/controls",
            "_model_module_version": "1.5.0",
            "_model_name": "HTMLModel",
            "_view_count": null,
            "_view_module": "@jupyter-widgets/controls",
            "_view_module_version": "1.5.0",
            "_view_name": "HTMLView",
            "description": "",
            "description_tooltip": null,
            "layout": "IPY_MODEL_ee77b00f2cd44610bb6fb7e1cea7356e",
            "placeholder": "​",
            "style": "IPY_MODEL_2bd3fe68cd4749e69e44b3ef215c47b7",
            "value": " 18.5k/18.5k [00:00&lt;00:00, 1.02MB/s]"
          }
        },
        "a935245e4513431b95a006fb3a723783": {
          "model_module": "@jupyter-widgets/base",
          "model_module_version": "1.2.0",
          "model_name": "LayoutModel",
          "state": {
            "_model_module": "@jupyter-widgets/base",
            "_model_module_version": "1.2.0",
            "_model_name": "LayoutModel",
            "_view_count": null,
            "_view_module": "@jupyter-widgets/base",
            "_view_module_version": "1.2.0",
            "_view_name": "LayoutView",
            "align_content": null,
            "align_items": null,
            "align_self": null,
            "border": null,
            "bottom": null,
            "display": null,
            "flex": null,
            "flex_flow": null,
            "grid_area": null,
            "grid_auto_columns": null,
            "grid_auto_flow": null,
            "grid_auto_rows": null,
            "grid_column": null,
            "grid_gap": null,
            "grid_row": null,
            "grid_template_areas": null,
            "grid_template_columns": null,
            "grid_template_rows": null,
            "height": null,
            "justify_content": null,
            "justify_items": null,
            "left": null,
            "margin": null,
            "max_height": null,
            "max_width": null,
            "min_height": null,
            "min_width": null,
            "object_fit": null,
            "object_position": null,
            "order": null,
            "overflow": null,
            "overflow_x": null,
            "overflow_y": null,
            "padding": null,
            "right": null,
            "top": null,
            "visibility": null,
            "width": null
          }
        },
        "adac847fe57044d3beb877dc51f77696": {
          "model_module": "@jupyter-widgets/controls",
          "model_module_version": "1.5.0",
          "model_name": "HBoxModel",
          "state": {
            "_dom_classes": [],
            "_model_module": "@jupyter-widgets/controls",
            "_model_module_version": "1.5.0",
            "_model_name": "HBoxModel",
            "_view_count": null,
            "_view_module": "@jupyter-widgets/controls",
            "_view_module_version": "1.5.0",
            "_view_name": "HBoxView",
            "box_style": "",
            "children": [
              "IPY_MODEL_848ded2238d648ceb04b358d4f97ec86",
              "IPY_MODEL_f556f466ffdd4772bf7a9598bbbc262f",
              "IPY_MODEL_9cd3f04385ed49049fde5a6517ea1ac9"
            ],
            "layout": "IPY_MODEL_64ba6909111545689de261547eed1b3e"
          }
        },
        "b46efd97c211457baffc8ac5dc1b1f43": {
          "model_module": "@jupyter-widgets/controls",
          "model_module_version": "1.5.0",
          "model_name": "ProgressStyleModel",
          "state": {
            "_model_module": "@jupyter-widgets/controls",
            "_model_module_version": "1.5.0",
            "_model_name": "ProgressStyleModel",
            "_view_count": null,
            "_view_module": "@jupyter-widgets/base",
            "_view_module_version": "1.2.0",
            "_view_name": "StyleView",
            "bar_color": null,
            "description_width": ""
          }
        },
        "b5c3b9db2a334f6bb6cc49cd532734f7": {
          "model_module": "@jupyter-widgets/controls",
          "model_module_version": "1.5.0",
          "model_name": "DescriptionStyleModel",
          "state": {
            "_model_module": "@jupyter-widgets/controls",
            "_model_module_version": "1.5.0",
            "_model_name": "DescriptionStyleModel",
            "_view_count": null,
            "_view_module": "@jupyter-widgets/base",
            "_view_module_version": "1.2.0",
            "_view_name": "StyleView",
            "description_width": ""
          }
        },
        "bdb755b81efc40a68ea604397c46371a": {
          "model_module": "@jupyter-widgets/controls",
          "model_module_version": "1.5.0",
          "model_name": "DescriptionStyleModel",
          "state": {
            "_model_module": "@jupyter-widgets/controls",
            "_model_module_version": "1.5.0",
            "_model_name": "DescriptionStyleModel",
            "_view_count": null,
            "_view_module": "@jupyter-widgets/base",
            "_view_module_version": "1.2.0",
            "_view_name": "StyleView",
            "description_width": ""
          }
        },
        "c5e17c2c22bd460ba0167acd78fd484e": {
          "model_module": "@jupyter-widgets/controls",
          "model_module_version": "1.5.0",
          "model_name": "HTMLModel",
          "state": {
            "_dom_classes": [],
            "_model_module": "@jupyter-widgets/controls",
            "_model_module_version": "1.5.0",
            "_model_name": "HTMLModel",
            "_view_count": null,
            "_view_module": "@jupyter-widgets/controls",
            "_view_module_version": "1.5.0",
            "_view_name": "HTMLView",
            "description": "",
            "description_tooltip": null,
            "layout": "IPY_MODEL_3db001783b3c4763ba7d3cd0dcbf93ba",
            "placeholder": "​",
            "style": "IPY_MODEL_5593c1a60f4e4554933d0806605196cb",
            "value": " 1.18G/1.18G [00:27&lt;00:00, 50.1MB/s]"
          }
        },
        "ca45d33d7fee497a9c46a3f5e552be2b": {
          "model_module": "@jupyter-widgets/base",
          "model_module_version": "1.2.0",
          "model_name": "LayoutModel",
          "state": {
            "_model_module": "@jupyter-widgets/base",
            "_model_module_version": "1.2.0",
            "_model_name": "LayoutModel",
            "_view_count": null,
            "_view_module": "@jupyter-widgets/base",
            "_view_module_version": "1.2.0",
            "_view_name": "LayoutView",
            "align_content": null,
            "align_items": null,
            "align_self": null,
            "border": null,
            "bottom": null,
            "display": null,
            "flex": null,
            "flex_flow": null,
            "grid_area": null,
            "grid_auto_columns": null,
            "grid_auto_flow": null,
            "grid_auto_rows": null,
            "grid_column": null,
            "grid_gap": null,
            "grid_row": null,
            "grid_template_areas": null,
            "grid_template_columns": null,
            "grid_template_rows": null,
            "height": null,
            "justify_content": null,
            "justify_items": null,
            "left": null,
            "margin": null,
            "max_height": null,
            "max_width": null,
            "min_height": null,
            "min_width": null,
            "object_fit": null,
            "object_position": null,
            "order": null,
            "overflow": null,
            "overflow_x": null,
            "overflow_y": null,
            "padding": null,
            "right": null,
            "top": null,
            "visibility": null,
            "width": null
          }
        },
        "da22b956318249b899574aa02c6ebb91": {
          "model_module": "@jupyter-widgets/controls",
          "model_module_version": "1.5.0",
          "model_name": "DescriptionStyleModel",
          "state": {
            "_model_module": "@jupyter-widgets/controls",
            "_model_module_version": "1.5.0",
            "_model_name": "DescriptionStyleModel",
            "_view_count": null,
            "_view_module": "@jupyter-widgets/base",
            "_view_module_version": "1.2.0",
            "_view_name": "StyleView",
            "description_width": ""
          }
        },
        "de6b6f034a63462d866d67f296229aad": {
          "model_module": "@jupyter-widgets/controls",
          "model_module_version": "1.5.0",
          "model_name": "DescriptionStyleModel",
          "state": {
            "_model_module": "@jupyter-widgets/controls",
            "_model_module_version": "1.5.0",
            "_model_name": "DescriptionStyleModel",
            "_view_count": null,
            "_view_module": "@jupyter-widgets/base",
            "_view_module_version": "1.2.0",
            "_view_name": "StyleView",
            "description_width": ""
          }
        },
        "e1827698351c45ba85427f66ac818d77": {
          "model_module": "@jupyter-widgets/base",
          "model_module_version": "1.2.0",
          "model_name": "LayoutModel",
          "state": {
            "_model_module": "@jupyter-widgets/base",
            "_model_module_version": "1.2.0",
            "_model_name": "LayoutModel",
            "_view_count": null,
            "_view_module": "@jupyter-widgets/base",
            "_view_module_version": "1.2.0",
            "_view_name": "LayoutView",
            "align_content": null,
            "align_items": null,
            "align_self": null,
            "border": null,
            "bottom": null,
            "display": null,
            "flex": null,
            "flex_flow": null,
            "grid_area": null,
            "grid_auto_columns": null,
            "grid_auto_flow": null,
            "grid_auto_rows": null,
            "grid_column": null,
            "grid_gap": null,
            "grid_row": null,
            "grid_template_areas": null,
            "grid_template_columns": null,
            "grid_template_rows": null,
            "height": null,
            "justify_content": null,
            "justify_items": null,
            "left": null,
            "margin": null,
            "max_height": null,
            "max_width": null,
            "min_height": null,
            "min_width": null,
            "object_fit": null,
            "object_position": null,
            "order": null,
            "overflow": null,
            "overflow_x": null,
            "overflow_y": null,
            "padding": null,
            "right": null,
            "top": null,
            "visibility": null,
            "width": null
          }
        },
        "ee77b00f2cd44610bb6fb7e1cea7356e": {
          "model_module": "@jupyter-widgets/base",
          "model_module_version": "1.2.0",
          "model_name": "LayoutModel",
          "state": {
            "_model_module": "@jupyter-widgets/base",
            "_model_module_version": "1.2.0",
            "_model_name": "LayoutModel",
            "_view_count": null,
            "_view_module": "@jupyter-widgets/base",
            "_view_module_version": "1.2.0",
            "_view_name": "LayoutView",
            "align_content": null,
            "align_items": null,
            "align_self": null,
            "border": null,
            "bottom": null,
            "display": null,
            "flex": null,
            "flex_flow": null,
            "grid_area": null,
            "grid_auto_columns": null,
            "grid_auto_flow": null,
            "grid_auto_rows": null,
            "grid_column": null,
            "grid_gap": null,
            "grid_row": null,
            "grid_template_areas": null,
            "grid_template_columns": null,
            "grid_template_rows": null,
            "height": null,
            "justify_content": null,
            "justify_items": null,
            "left": null,
            "margin": null,
            "max_height": null,
            "max_width": null,
            "min_height": null,
            "min_width": null,
            "object_fit": null,
            "object_position": null,
            "order": null,
            "overflow": null,
            "overflow_x": null,
            "overflow_y": null,
            "padding": null,
            "right": null,
            "top": null,
            "visibility": null,
            "width": null
          }
        },
        "f556f466ffdd4772bf7a9598bbbc262f": {
          "model_module": "@jupyter-widgets/controls",
          "model_module_version": "1.5.0",
          "model_name": "FloatProgressModel",
          "state": {
            "_dom_classes": [],
            "_model_module": "@jupyter-widgets/controls",
            "_model_module_version": "1.5.0",
            "_model_name": "FloatProgressModel",
            "_view_count": null,
            "_view_module": "@jupyter-widgets/controls",
            "_view_module_version": "1.5.0",
            "_view_name": "ProgressView",
            "bar_style": "success",
            "description": "",
            "description_tooltip": null,
            "layout": "IPY_MODEL_a935245e4513431b95a006fb3a723783",
            "max": 74004228,
            "min": 0,
            "orientation": "horizontal",
            "style": "IPY_MODEL_60e6205ec5cc4cd59a6e0641f863f5b0",
            "value": 74004228
          }
        },
        "fe418bde5c6f4f979104d31cea3bb282": {
          "model_module": "@jupyter-widgets/base",
          "model_module_version": "1.2.0",
          "model_name": "LayoutModel",
          "state": {
            "_model_module": "@jupyter-widgets/base",
            "_model_module_version": "1.2.0",
            "_model_name": "LayoutModel",
            "_view_count": null,
            "_view_module": "@jupyter-widgets/base",
            "_view_module_version": "1.2.0",
            "_view_name": "LayoutView",
            "align_content": null,
            "align_items": null,
            "align_self": null,
            "border": null,
            "bottom": null,
            "display": null,
            "flex": null,
            "flex_flow": null,
            "grid_area": null,
            "grid_auto_columns": null,
            "grid_auto_flow": null,
            "grid_auto_rows": null,
            "grid_column": null,
            "grid_gap": null,
            "grid_row": null,
            "grid_template_areas": null,
            "grid_template_columns": null,
            "grid_template_rows": null,
            "height": null,
            "justify_content": null,
            "justify_items": null,
            "left": null,
            "margin": null,
            "max_height": null,
            "max_width": null,
            "min_height": null,
            "min_width": null,
            "object_fit": null,
            "object_position": null,
            "order": null,
            "overflow": null,
            "overflow_x": null,
            "overflow_y": null,
            "padding": null,
            "right": null,
            "top": null,
            "visibility": null,
            "width": null
          }
        },
        "ff99c29cc5844ad6ac432cdb7d4735fd": {
          "model_module": "@jupyter-widgets/controls",
          "model_module_version": "1.5.0",
          "model_name": "HBoxModel",
          "state": {
            "_dom_classes": [],
            "_model_module": "@jupyter-widgets/controls",
            "_model_module_version": "1.5.0",
            "_model_name": "HBoxModel",
            "_view_count": null,
            "_view_module": "@jupyter-widgets/controls",
            "_view_module_version": "1.5.0",
            "_view_name": "HBoxView",
            "box_style": "",
            "children": [
              "IPY_MODEL_18ddd56ce78144c89073a7993489878f",
              "IPY_MODEL_4b405a1223f74142a706e35fdc6092cb",
              "IPY_MODEL_830c30db18924e36a84cf119679e68c7"
            ],
            "layout": "IPY_MODEL_24c9aa62de59442fa1e95f30a1b73990"
          }
        },
        "0b57cc74378841aca4f93ca0826ede50": {
          "model_module": "@jupyter-widgets/controls",
          "model_name": "HBoxModel",
          "model_module_version": "1.5.0",
          "state": {
            "_dom_classes": [],
            "_model_module": "@jupyter-widgets/controls",
            "_model_module_version": "1.5.0",
            "_model_name": "HBoxModel",
            "_view_count": null,
            "_view_module": "@jupyter-widgets/controls",
            "_view_module_version": "1.5.0",
            "_view_name": "HBoxView",
            "box_style": "",
            "children": [
              "IPY_MODEL_2bb2493c250b416b86421de93dbad992",
              "IPY_MODEL_57493c620b99460bbdb6adfa33db6521",
              "IPY_MODEL_fd11fb31c65d4eccb09ae3391de328c1"
            ],
            "layout": "IPY_MODEL_4768c43b3cca49c9a35d7fee9f738045"
          }
        },
        "2bb2493c250b416b86421de93dbad992": {
          "model_module": "@jupyter-widgets/controls",
          "model_name": "HTMLModel",
          "model_module_version": "1.5.0",
          "state": {
            "_dom_classes": [],
            "_model_module": "@jupyter-widgets/controls",
            "_model_module_version": "1.5.0",
            "_model_name": "HTMLModel",
            "_view_count": null,
            "_view_module": "@jupyter-widgets/controls",
            "_view_module_version": "1.5.0",
            "_view_name": "HTMLView",
            "description": "",
            "description_tooltip": null,
            "layout": "IPY_MODEL_83efbb6531664acaa7ea8841342770c7",
            "placeholder": "​",
            "style": "IPY_MODEL_c029480a73d24c7d8e265ade16502a63",
            "value": "README.md: 100%"
          }
        },
        "57493c620b99460bbdb6adfa33db6521": {
          "model_module": "@jupyter-widgets/controls",
          "model_name": "FloatProgressModel",
          "model_module_version": "1.5.0",
          "state": {
            "_dom_classes": [],
            "_model_module": "@jupyter-widgets/controls",
            "_model_module_version": "1.5.0",
            "_model_name": "FloatProgressModel",
            "_view_count": null,
            "_view_module": "@jupyter-widgets/controls",
            "_view_module_version": "1.5.0",
            "_view_name": "ProgressView",
            "bar_style": "success",
            "description": "",
            "description_tooltip": null,
            "layout": "IPY_MODEL_a24dcca8d3034a2e83a210fabbacfb0a",
            "max": 6724,
            "min": 0,
            "orientation": "horizontal",
            "style": "IPY_MODEL_35101e0f55664546aa3047626e95170e",
            "value": 6724
          }
        },
        "fd11fb31c65d4eccb09ae3391de328c1": {
          "model_module": "@jupyter-widgets/controls",
          "model_name": "HTMLModel",
          "model_module_version": "1.5.0",
          "state": {
            "_dom_classes": [],
            "_model_module": "@jupyter-widgets/controls",
            "_model_module_version": "1.5.0",
            "_model_name": "HTMLModel",
            "_view_count": null,
            "_view_module": "@jupyter-widgets/controls",
            "_view_module_version": "1.5.0",
            "_view_name": "HTMLView",
            "description": "",
            "description_tooltip": null,
            "layout": "IPY_MODEL_ff4456779e194d968ab6bd8b74845c7a",
            "placeholder": "​",
            "style": "IPY_MODEL_d810e7b93d904dc5962f91e94db5eab2",
            "value": " 6.72k/6.72k [00:00&lt;00:00, 192kB/s]"
          }
        },
        "4768c43b3cca49c9a35d7fee9f738045": {
          "model_module": "@jupyter-widgets/base",
          "model_name": "LayoutModel",
          "model_module_version": "1.2.0",
          "state": {
            "_model_module": "@jupyter-widgets/base",
            "_model_module_version": "1.2.0",
            "_model_name": "LayoutModel",
            "_view_count": null,
            "_view_module": "@jupyter-widgets/base",
            "_view_module_version": "1.2.0",
            "_view_name": "LayoutView",
            "align_content": null,
            "align_items": null,
            "align_self": null,
            "border": null,
            "bottom": null,
            "display": null,
            "flex": null,
            "flex_flow": null,
            "grid_area": null,
            "grid_auto_columns": null,
            "grid_auto_flow": null,
            "grid_auto_rows": null,
            "grid_column": null,
            "grid_gap": null,
            "grid_row": null,
            "grid_template_areas": null,
            "grid_template_columns": null,
            "grid_template_rows": null,
            "height": null,
            "justify_content": null,
            "justify_items": null,
            "left": null,
            "margin": null,
            "max_height": null,
            "max_width": null,
            "min_height": null,
            "min_width": null,
            "object_fit": null,
            "object_position": null,
            "order": null,
            "overflow": null,
            "overflow_x": null,
            "overflow_y": null,
            "padding": null,
            "right": null,
            "top": null,
            "visibility": null,
            "width": null
          }
        },
        "83efbb6531664acaa7ea8841342770c7": {
          "model_module": "@jupyter-widgets/base",
          "model_name": "LayoutModel",
          "model_module_version": "1.2.0",
          "state": {
            "_model_module": "@jupyter-widgets/base",
            "_model_module_version": "1.2.0",
            "_model_name": "LayoutModel",
            "_view_count": null,
            "_view_module": "@jupyter-widgets/base",
            "_view_module_version": "1.2.0",
            "_view_name": "LayoutView",
            "align_content": null,
            "align_items": null,
            "align_self": null,
            "border": null,
            "bottom": null,
            "display": null,
            "flex": null,
            "flex_flow": null,
            "grid_area": null,
            "grid_auto_columns": null,
            "grid_auto_flow": null,
            "grid_auto_rows": null,
            "grid_column": null,
            "grid_gap": null,
            "grid_row": null,
            "grid_template_areas": null,
            "grid_template_columns": null,
            "grid_template_rows": null,
            "height": null,
            "justify_content": null,
            "justify_items": null,
            "left": null,
            "margin": null,
            "max_height": null,
            "max_width": null,
            "min_height": null,
            "min_width": null,
            "object_fit": null,
            "object_position": null,
            "order": null,
            "overflow": null,
            "overflow_x": null,
            "overflow_y": null,
            "padding": null,
            "right": null,
            "top": null,
            "visibility": null,
            "width": null
          }
        },
        "c029480a73d24c7d8e265ade16502a63": {
          "model_module": "@jupyter-widgets/controls",
          "model_name": "DescriptionStyleModel",
          "model_module_version": "1.5.0",
          "state": {
            "_model_module": "@jupyter-widgets/controls",
            "_model_module_version": "1.5.0",
            "_model_name": "DescriptionStyleModel",
            "_view_count": null,
            "_view_module": "@jupyter-widgets/base",
            "_view_module_version": "1.2.0",
            "_view_name": "StyleView",
            "description_width": ""
          }
        },
        "a24dcca8d3034a2e83a210fabbacfb0a": {
          "model_module": "@jupyter-widgets/base",
          "model_name": "LayoutModel",
          "model_module_version": "1.2.0",
          "state": {
            "_model_module": "@jupyter-widgets/base",
            "_model_module_version": "1.2.0",
            "_model_name": "LayoutModel",
            "_view_count": null,
            "_view_module": "@jupyter-widgets/base",
            "_view_module_version": "1.2.0",
            "_view_name": "LayoutView",
            "align_content": null,
            "align_items": null,
            "align_self": null,
            "border": null,
            "bottom": null,
            "display": null,
            "flex": null,
            "flex_flow": null,
            "grid_area": null,
            "grid_auto_columns": null,
            "grid_auto_flow": null,
            "grid_auto_rows": null,
            "grid_column": null,
            "grid_gap": null,
            "grid_row": null,
            "grid_template_areas": null,
            "grid_template_columns": null,
            "grid_template_rows": null,
            "height": null,
            "justify_content": null,
            "justify_items": null,
            "left": null,
            "margin": null,
            "max_height": null,
            "max_width": null,
            "min_height": null,
            "min_width": null,
            "object_fit": null,
            "object_position": null,
            "order": null,
            "overflow": null,
            "overflow_x": null,
            "overflow_y": null,
            "padding": null,
            "right": null,
            "top": null,
            "visibility": null,
            "width": null
          }
        },
        "35101e0f55664546aa3047626e95170e": {
          "model_module": "@jupyter-widgets/controls",
          "model_name": "ProgressStyleModel",
          "model_module_version": "1.5.0",
          "state": {
            "_model_module": "@jupyter-widgets/controls",
            "_model_module_version": "1.5.0",
            "_model_name": "ProgressStyleModel",
            "_view_count": null,
            "_view_module": "@jupyter-widgets/base",
            "_view_module_version": "1.2.0",
            "_view_name": "StyleView",
            "bar_color": null,
            "description_width": ""
          }
        },
        "ff4456779e194d968ab6bd8b74845c7a": {
          "model_module": "@jupyter-widgets/base",
          "model_name": "LayoutModel",
          "model_module_version": "1.2.0",
          "state": {
            "_model_module": "@jupyter-widgets/base",
            "_model_module_version": "1.2.0",
            "_model_name": "LayoutModel",
            "_view_count": null,
            "_view_module": "@jupyter-widgets/base",
            "_view_module_version": "1.2.0",
            "_view_name": "LayoutView",
            "align_content": null,
            "align_items": null,
            "align_self": null,
            "border": null,
            "bottom": null,
            "display": null,
            "flex": null,
            "flex_flow": null,
            "grid_area": null,
            "grid_auto_columns": null,
            "grid_auto_flow": null,
            "grid_auto_rows": null,
            "grid_column": null,
            "grid_gap": null,
            "grid_row": null,
            "grid_template_areas": null,
            "grid_template_columns": null,
            "grid_template_rows": null,
            "height": null,
            "justify_content": null,
            "justify_items": null,
            "left": null,
            "margin": null,
            "max_height": null,
            "max_width": null,
            "min_height": null,
            "min_width": null,
            "object_fit": null,
            "object_position": null,
            "order": null,
            "overflow": null,
            "overflow_x": null,
            "overflow_y": null,
            "padding": null,
            "right": null,
            "top": null,
            "visibility": null,
            "width": null
          }
        },
        "d810e7b93d904dc5962f91e94db5eab2": {
          "model_module": "@jupyter-widgets/controls",
          "model_name": "DescriptionStyleModel",
          "model_module_version": "1.5.0",
          "state": {
            "_model_module": "@jupyter-widgets/controls",
            "_model_module_version": "1.5.0",
            "_model_name": "DescriptionStyleModel",
            "_view_count": null,
            "_view_module": "@jupyter-widgets/base",
            "_view_module_version": "1.2.0",
            "_view_name": "StyleView",
            "description_width": ""
          }
        },
        "0c00c0d31f744bf38ee470f78a954228": {
          "model_module": "@jupyter-widgets/controls",
          "model_name": "HBoxModel",
          "model_module_version": "1.5.0",
          "state": {
            "_dom_classes": [],
            "_model_module": "@jupyter-widgets/controls",
            "_model_module_version": "1.5.0",
            "_model_name": "HBoxModel",
            "_view_count": null,
            "_view_module": "@jupyter-widgets/controls",
            "_view_module_version": "1.5.0",
            "_view_name": "HBoxView",
            "box_style": "",
            "children": [
              "IPY_MODEL_04d0f1729d0949679b0cf3f8e8af403d",
              "IPY_MODEL_c7e98cfd7b9d41a59205afd82728e36f",
              "IPY_MODEL_21796bbff7724f5d964c2c1585dd457d"
            ],
            "layout": "IPY_MODEL_14ec81bfdea34e229a121f93e3ecfa76"
          }
        },
        "04d0f1729d0949679b0cf3f8e8af403d": {
          "model_module": "@jupyter-widgets/controls",
          "model_name": "HTMLModel",
          "model_module_version": "1.5.0",
          "state": {
            "_dom_classes": [],
            "_model_module": "@jupyter-widgets/controls",
            "_model_module_version": "1.5.0",
            "_model_name": "HTMLModel",
            "_view_count": null,
            "_view_module": "@jupyter-widgets/controls",
            "_view_module_version": "1.5.0",
            "_view_name": "HTMLView",
            "description": "",
            "description_tooltip": null,
            "layout": "IPY_MODEL_08931f3f37b1401288396a13f4c5271f",
            "placeholder": "​",
            "style": "IPY_MODEL_ab0517afd3de4221bbf1cea81bc0e106",
            "value": "train-00000-of-00001.parquet: 100%"
          }
        },
        "c7e98cfd7b9d41a59205afd82728e36f": {
          "model_module": "@jupyter-widgets/controls",
          "model_name": "FloatProgressModel",
          "model_module_version": "1.5.0",
          "state": {
            "_dom_classes": [],
            "_model_module": "@jupyter-widgets/controls",
            "_model_module_version": "1.5.0",
            "_model_name": "FloatProgressModel",
            "_view_count": null,
            "_view_module": "@jupyter-widgets/controls",
            "_view_module_version": "1.5.0",
            "_view_name": "ProgressView",
            "bar_style": "success",
            "description": "",
            "description_tooltip": null,
            "layout": "IPY_MODEL_1b8b400dc2af4a6aaccb88927949cb01",
            "max": 299436850,
            "min": 0,
            "orientation": "horizontal",
            "style": "IPY_MODEL_30b9a1bc6dbb49399315adbd79d0f593",
            "value": 299436850
          }
        },
        "21796bbff7724f5d964c2c1585dd457d": {
          "model_module": "@jupyter-widgets/controls",
          "model_name": "HTMLModel",
          "model_module_version": "1.5.0",
          "state": {
            "_dom_classes": [],
            "_model_module": "@jupyter-widgets/controls",
            "_model_module_version": "1.5.0",
            "_model_name": "HTMLModel",
            "_view_count": null,
            "_view_module": "@jupyter-widgets/controls",
            "_view_module_version": "1.5.0",
            "_view_name": "HTMLView",
            "description": "",
            "description_tooltip": null,
            "layout": "IPY_MODEL_b4e2f63631a04493a2e4cfe030831995",
            "placeholder": "​",
            "style": "IPY_MODEL_c80ee60cb5c7486aadf9d6ef7e5a010a",
            "value": " 299M/299M [00:02&lt;00:00, 128MB/s]"
          }
        },
        "14ec81bfdea34e229a121f93e3ecfa76": {
          "model_module": "@jupyter-widgets/base",
          "model_name": "LayoutModel",
          "model_module_version": "1.2.0",
          "state": {
            "_model_module": "@jupyter-widgets/base",
            "_model_module_version": "1.2.0",
            "_model_name": "LayoutModel",
            "_view_count": null,
            "_view_module": "@jupyter-widgets/base",
            "_view_module_version": "1.2.0",
            "_view_name": "LayoutView",
            "align_content": null,
            "align_items": null,
            "align_self": null,
            "border": null,
            "bottom": null,
            "display": null,
            "flex": null,
            "flex_flow": null,
            "grid_area": null,
            "grid_auto_columns": null,
            "grid_auto_flow": null,
            "grid_auto_rows": null,
            "grid_column": null,
            "grid_gap": null,
            "grid_row": null,
            "grid_template_areas": null,
            "grid_template_columns": null,
            "grid_template_rows": null,
            "height": null,
            "justify_content": null,
            "justify_items": null,
            "left": null,
            "margin": null,
            "max_height": null,
            "max_width": null,
            "min_height": null,
            "min_width": null,
            "object_fit": null,
            "object_position": null,
            "order": null,
            "overflow": null,
            "overflow_x": null,
            "overflow_y": null,
            "padding": null,
            "right": null,
            "top": null,
            "visibility": null,
            "width": null
          }
        },
        "08931f3f37b1401288396a13f4c5271f": {
          "model_module": "@jupyter-widgets/base",
          "model_name": "LayoutModel",
          "model_module_version": "1.2.0",
          "state": {
            "_model_module": "@jupyter-widgets/base",
            "_model_module_version": "1.2.0",
            "_model_name": "LayoutModel",
            "_view_count": null,
            "_view_module": "@jupyter-widgets/base",
            "_view_module_version": "1.2.0",
            "_view_name": "LayoutView",
            "align_content": null,
            "align_items": null,
            "align_self": null,
            "border": null,
            "bottom": null,
            "display": null,
            "flex": null,
            "flex_flow": null,
            "grid_area": null,
            "grid_auto_columns": null,
            "grid_auto_flow": null,
            "grid_auto_rows": null,
            "grid_column": null,
            "grid_gap": null,
            "grid_row": null,
            "grid_template_areas": null,
            "grid_template_columns": null,
            "grid_template_rows": null,
            "height": null,
            "justify_content": null,
            "justify_items": null,
            "left": null,
            "margin": null,
            "max_height": null,
            "max_width": null,
            "min_height": null,
            "min_width": null,
            "object_fit": null,
            "object_position": null,
            "order": null,
            "overflow": null,
            "overflow_x": null,
            "overflow_y": null,
            "padding": null,
            "right": null,
            "top": null,
            "visibility": null,
            "width": null
          }
        },
        "ab0517afd3de4221bbf1cea81bc0e106": {
          "model_module": "@jupyter-widgets/controls",
          "model_name": "DescriptionStyleModel",
          "model_module_version": "1.5.0",
          "state": {
            "_model_module": "@jupyter-widgets/controls",
            "_model_module_version": "1.5.0",
            "_model_name": "DescriptionStyleModel",
            "_view_count": null,
            "_view_module": "@jupyter-widgets/base",
            "_view_module_version": "1.2.0",
            "_view_name": "StyleView",
            "description_width": ""
          }
        },
        "1b8b400dc2af4a6aaccb88927949cb01": {
          "model_module": "@jupyter-widgets/base",
          "model_name": "LayoutModel",
          "model_module_version": "1.2.0",
          "state": {
            "_model_module": "@jupyter-widgets/base",
            "_model_module_version": "1.2.0",
            "_model_name": "LayoutModel",
            "_view_count": null,
            "_view_module": "@jupyter-widgets/base",
            "_view_module_version": "1.2.0",
            "_view_name": "LayoutView",
            "align_content": null,
            "align_items": null,
            "align_self": null,
            "border": null,
            "bottom": null,
            "display": null,
            "flex": null,
            "flex_flow": null,
            "grid_area": null,
            "grid_auto_columns": null,
            "grid_auto_flow": null,
            "grid_auto_rows": null,
            "grid_column": null,
            "grid_gap": null,
            "grid_row": null,
            "grid_template_areas": null,
            "grid_template_columns": null,
            "grid_template_rows": null,
            "height": null,
            "justify_content": null,
            "justify_items": null,
            "left": null,
            "margin": null,
            "max_height": null,
            "max_width": null,
            "min_height": null,
            "min_width": null,
            "object_fit": null,
            "object_position": null,
            "order": null,
            "overflow": null,
            "overflow_x": null,
            "overflow_y": null,
            "padding": null,
            "right": null,
            "top": null,
            "visibility": null,
            "width": null
          }
        },
        "30b9a1bc6dbb49399315adbd79d0f593": {
          "model_module": "@jupyter-widgets/controls",
          "model_name": "ProgressStyleModel",
          "model_module_version": "1.5.0",
          "state": {
            "_model_module": "@jupyter-widgets/controls",
            "_model_module_version": "1.5.0",
            "_model_name": "ProgressStyleModel",
            "_view_count": null,
            "_view_module": "@jupyter-widgets/base",
            "_view_module_version": "1.2.0",
            "_view_name": "StyleView",
            "bar_color": null,
            "description_width": ""
          }
        },
        "b4e2f63631a04493a2e4cfe030831995": {
          "model_module": "@jupyter-widgets/base",
          "model_name": "LayoutModel",
          "model_module_version": "1.2.0",
          "state": {
            "_model_module": "@jupyter-widgets/base",
            "_model_module_version": "1.2.0",
            "_model_name": "LayoutModel",
            "_view_count": null,
            "_view_module": "@jupyter-widgets/base",
            "_view_module_version": "1.2.0",
            "_view_name": "LayoutView",
            "align_content": null,
            "align_items": null,
            "align_self": null,
            "border": null,
            "bottom": null,
            "display": null,
            "flex": null,
            "flex_flow": null,
            "grid_area": null,
            "grid_auto_columns": null,
            "grid_auto_flow": null,
            "grid_auto_rows": null,
            "grid_column": null,
            "grid_gap": null,
            "grid_row": null,
            "grid_template_areas": null,
            "grid_template_columns": null,
            "grid_template_rows": null,
            "height": null,
            "justify_content": null,
            "justify_items": null,
            "left": null,
            "margin": null,
            "max_height": null,
            "max_width": null,
            "min_height": null,
            "min_width": null,
            "object_fit": null,
            "object_position": null,
            "order": null,
            "overflow": null,
            "overflow_x": null,
            "overflow_y": null,
            "padding": null,
            "right": null,
            "top": null,
            "visibility": null,
            "width": null
          }
        },
        "c80ee60cb5c7486aadf9d6ef7e5a010a": {
          "model_module": "@jupyter-widgets/controls",
          "model_name": "DescriptionStyleModel",
          "model_module_version": "1.5.0",
          "state": {
            "_model_module": "@jupyter-widgets/controls",
            "_model_module_version": "1.5.0",
            "_model_name": "DescriptionStyleModel",
            "_view_count": null,
            "_view_module": "@jupyter-widgets/base",
            "_view_module_version": "1.2.0",
            "_view_name": "StyleView",
            "description_width": ""
          }
        },
        "7f21c98408884bf1a135626233a93a1b": {
          "model_module": "@jupyter-widgets/controls",
          "model_name": "HBoxModel",
          "model_module_version": "1.5.0",
          "state": {
            "_dom_classes": [],
            "_model_module": "@jupyter-widgets/controls",
            "_model_module_version": "1.5.0",
            "_model_name": "HBoxModel",
            "_view_count": null,
            "_view_module": "@jupyter-widgets/controls",
            "_view_module_version": "1.5.0",
            "_view_name": "HBoxView",
            "box_style": "",
            "children": [
              "IPY_MODEL_53c2da1abff344aabef269f4dfa1197e",
              "IPY_MODEL_5787a771c2b74a1e93095f08d4296dc0",
              "IPY_MODEL_0a38953120a44340a1bad5971985a350"
            ],
            "layout": "IPY_MODEL_4db7c61c55784add8da2e0475bd72aba"
          }
        },
        "53c2da1abff344aabef269f4dfa1197e": {
          "model_module": "@jupyter-widgets/controls",
          "model_name": "HTMLModel",
          "model_module_version": "1.5.0",
          "state": {
            "_dom_classes": [],
            "_model_module": "@jupyter-widgets/controls",
            "_model_module_version": "1.5.0",
            "_model_name": "HTMLModel",
            "_view_count": null,
            "_view_module": "@jupyter-widgets/controls",
            "_view_module_version": "1.5.0",
            "_view_name": "HTMLView",
            "description": "",
            "description_tooltip": null,
            "layout": "IPY_MODEL_f06827af39ca4febb1eaf892005ea5da",
            "placeholder": "​",
            "style": "IPY_MODEL_53dc210a678d4c1ab35506b0ed346993",
            "value": "test-00000-of-00001.parquet: 100%"
          }
        },
        "5787a771c2b74a1e93095f08d4296dc0": {
          "model_module": "@jupyter-widgets/controls",
          "model_name": "FloatProgressModel",
          "model_module_version": "1.5.0",
          "state": {
            "_dom_classes": [],
            "_model_module": "@jupyter-widgets/controls",
            "_model_module_version": "1.5.0",
            "_model_name": "FloatProgressModel",
            "_view_count": null,
            "_view_module": "@jupyter-widgets/controls",
            "_view_module_version": "1.5.0",
            "_view_name": "ProgressView",
            "bar_style": "success",
            "description": "",
            "description_tooltip": null,
            "layout": "IPY_MODEL_78d0bb3ac45d43a4a3d34eac853ff49d",
            "max": 23515519,
            "min": 0,
            "orientation": "horizontal",
            "style": "IPY_MODEL_63cc8c00f70a42bbafa79a9cc8db8a4c",
            "value": 23515519
          }
        },
        "0a38953120a44340a1bad5971985a350": {
          "model_module": "@jupyter-widgets/controls",
          "model_name": "HTMLModel",
          "model_module_version": "1.5.0",
          "state": {
            "_dom_classes": [],
            "_model_module": "@jupyter-widgets/controls",
            "_model_module_version": "1.5.0",
            "_model_name": "HTMLModel",
            "_view_count": null,
            "_view_module": "@jupyter-widgets/controls",
            "_view_module_version": "1.5.0",
            "_view_name": "HTMLView",
            "description": "",
            "description_tooltip": null,
            "layout": "IPY_MODEL_ad51919835134771abbecda32d46295a",
            "placeholder": "​",
            "style": "IPY_MODEL_17e617e926194bbba4729510004e4f38",
            "value": " 23.5M/23.5M [00:00&lt;00:00, 135MB/s]"
          }
        },
        "4db7c61c55784add8da2e0475bd72aba": {
          "model_module": "@jupyter-widgets/base",
          "model_name": "LayoutModel",
          "model_module_version": "1.2.0",
          "state": {
            "_model_module": "@jupyter-widgets/base",
            "_model_module_version": "1.2.0",
            "_model_name": "LayoutModel",
            "_view_count": null,
            "_view_module": "@jupyter-widgets/base",
            "_view_module_version": "1.2.0",
            "_view_name": "LayoutView",
            "align_content": null,
            "align_items": null,
            "align_self": null,
            "border": null,
            "bottom": null,
            "display": null,
            "flex": null,
            "flex_flow": null,
            "grid_area": null,
            "grid_auto_columns": null,
            "grid_auto_flow": null,
            "grid_auto_rows": null,
            "grid_column": null,
            "grid_gap": null,
            "grid_row": null,
            "grid_template_areas": null,
            "grid_template_columns": null,
            "grid_template_rows": null,
            "height": null,
            "justify_content": null,
            "justify_items": null,
            "left": null,
            "margin": null,
            "max_height": null,
            "max_width": null,
            "min_height": null,
            "min_width": null,
            "object_fit": null,
            "object_position": null,
            "order": null,
            "overflow": null,
            "overflow_x": null,
            "overflow_y": null,
            "padding": null,
            "right": null,
            "top": null,
            "visibility": null,
            "width": null
          }
        },
        "f06827af39ca4febb1eaf892005ea5da": {
          "model_module": "@jupyter-widgets/base",
          "model_name": "LayoutModel",
          "model_module_version": "1.2.0",
          "state": {
            "_model_module": "@jupyter-widgets/base",
            "_model_module_version": "1.2.0",
            "_model_name": "LayoutModel",
            "_view_count": null,
            "_view_module": "@jupyter-widgets/base",
            "_view_module_version": "1.2.0",
            "_view_name": "LayoutView",
            "align_content": null,
            "align_items": null,
            "align_self": null,
            "border": null,
            "bottom": null,
            "display": null,
            "flex": null,
            "flex_flow": null,
            "grid_area": null,
            "grid_auto_columns": null,
            "grid_auto_flow": null,
            "grid_auto_rows": null,
            "grid_column": null,
            "grid_gap": null,
            "grid_row": null,
            "grid_template_areas": null,
            "grid_template_columns": null,
            "grid_template_rows": null,
            "height": null,
            "justify_content": null,
            "justify_items": null,
            "left": null,
            "margin": null,
            "max_height": null,
            "max_width": null,
            "min_height": null,
            "min_width": null,
            "object_fit": null,
            "object_position": null,
            "order": null,
            "overflow": null,
            "overflow_x": null,
            "overflow_y": null,
            "padding": null,
            "right": null,
            "top": null,
            "visibility": null,
            "width": null
          }
        },
        "53dc210a678d4c1ab35506b0ed346993": {
          "model_module": "@jupyter-widgets/controls",
          "model_name": "DescriptionStyleModel",
          "model_module_version": "1.5.0",
          "state": {
            "_model_module": "@jupyter-widgets/controls",
            "_model_module_version": "1.5.0",
            "_model_name": "DescriptionStyleModel",
            "_view_count": null,
            "_view_module": "@jupyter-widgets/base",
            "_view_module_version": "1.2.0",
            "_view_name": "StyleView",
            "description_width": ""
          }
        },
        "78d0bb3ac45d43a4a3d34eac853ff49d": {
          "model_module": "@jupyter-widgets/base",
          "model_name": "LayoutModel",
          "model_module_version": "1.2.0",
          "state": {
            "_model_module": "@jupyter-widgets/base",
            "_model_module_version": "1.2.0",
            "_model_name": "LayoutModel",
            "_view_count": null,
            "_view_module": "@jupyter-widgets/base",
            "_view_module_version": "1.2.0",
            "_view_name": "LayoutView",
            "align_content": null,
            "align_items": null,
            "align_self": null,
            "border": null,
            "bottom": null,
            "display": null,
            "flex": null,
            "flex_flow": null,
            "grid_area": null,
            "grid_auto_columns": null,
            "grid_auto_flow": null,
            "grid_auto_rows": null,
            "grid_column": null,
            "grid_gap": null,
            "grid_row": null,
            "grid_template_areas": null,
            "grid_template_columns": null,
            "grid_template_rows": null,
            "height": null,
            "justify_content": null,
            "justify_items": null,
            "left": null,
            "margin": null,
            "max_height": null,
            "max_width": null,
            "min_height": null,
            "min_width": null,
            "object_fit": null,
            "object_position": null,
            "order": null,
            "overflow": null,
            "overflow_x": null,
            "overflow_y": null,
            "padding": null,
            "right": null,
            "top": null,
            "visibility": null,
            "width": null
          }
        },
        "63cc8c00f70a42bbafa79a9cc8db8a4c": {
          "model_module": "@jupyter-widgets/controls",
          "model_name": "ProgressStyleModel",
          "model_module_version": "1.5.0",
          "state": {
            "_model_module": "@jupyter-widgets/controls",
            "_model_module_version": "1.5.0",
            "_model_name": "ProgressStyleModel",
            "_view_count": null,
            "_view_module": "@jupyter-widgets/base",
            "_view_module_version": "1.2.0",
            "_view_name": "StyleView",
            "bar_color": null,
            "description_width": ""
          }
        },
        "ad51919835134771abbecda32d46295a": {
          "model_module": "@jupyter-widgets/base",
          "model_name": "LayoutModel",
          "model_module_version": "1.2.0",
          "state": {
            "_model_module": "@jupyter-widgets/base",
            "_model_module_version": "1.2.0",
            "_model_name": "LayoutModel",
            "_view_count": null,
            "_view_module": "@jupyter-widgets/base",
            "_view_module_version": "1.2.0",
            "_view_name": "LayoutView",
            "align_content": null,
            "align_items": null,
            "align_self": null,
            "border": null,
            "bottom": null,
            "display": null,
            "flex": null,
            "flex_flow": null,
            "grid_area": null,
            "grid_auto_columns": null,
            "grid_auto_flow": null,
            "grid_auto_rows": null,
            "grid_column": null,
            "grid_gap": null,
            "grid_row": null,
            "grid_template_areas": null,
            "grid_template_columns": null,
            "grid_template_rows": null,
            "height": null,
            "justify_content": null,
            "justify_items": null,
            "left": null,
            "margin": null,
            "max_height": null,
            "max_width": null,
            "min_height": null,
            "min_width": null,
            "object_fit": null,
            "object_position": null,
            "order": null,
            "overflow": null,
            "overflow_x": null,
            "overflow_y": null,
            "padding": null,
            "right": null,
            "top": null,
            "visibility": null,
            "width": null
          }
        },
        "17e617e926194bbba4729510004e4f38": {
          "model_module": "@jupyter-widgets/controls",
          "model_name": "DescriptionStyleModel",
          "model_module_version": "1.5.0",
          "state": {
            "_model_module": "@jupyter-widgets/controls",
            "_model_module_version": "1.5.0",
            "_model_name": "DescriptionStyleModel",
            "_view_count": null,
            "_view_module": "@jupyter-widgets/base",
            "_view_module_version": "1.2.0",
            "_view_name": "StyleView",
            "description_width": ""
          }
        },
        "b313767411aa46f6bdddf157c423cd5d": {
          "model_module": "@jupyter-widgets/controls",
          "model_name": "HBoxModel",
          "model_module_version": "1.5.0",
          "state": {
            "_dom_classes": [],
            "_model_module": "@jupyter-widgets/controls",
            "_model_module_version": "1.5.0",
            "_model_name": "HBoxModel",
            "_view_count": null,
            "_view_module": "@jupyter-widgets/controls",
            "_view_module_version": "1.5.0",
            "_view_name": "HBoxView",
            "box_style": "",
            "children": [
              "IPY_MODEL_a8969d1994024e7995545a3d15135411",
              "IPY_MODEL_8c7a11efe7694360b7d2db33a2123915",
              "IPY_MODEL_115cf7a2c5934da291b51c56ba88d080"
            ],
            "layout": "IPY_MODEL_149baf33f2df492fbbc7ade6e3b85505"
          }
        },
        "a8969d1994024e7995545a3d15135411": {
          "model_module": "@jupyter-widgets/controls",
          "model_name": "HTMLModel",
          "model_module_version": "1.5.0",
          "state": {
            "_dom_classes": [],
            "_model_module": "@jupyter-widgets/controls",
            "_model_module_version": "1.5.0",
            "_model_name": "HTMLModel",
            "_view_count": null,
            "_view_module": "@jupyter-widgets/controls",
            "_view_module_version": "1.5.0",
            "_view_name": "HTMLView",
            "description": "",
            "description_tooltip": null,
            "layout": "IPY_MODEL_6a03761428794ae59c86f7e5c66df731",
            "placeholder": "​",
            "style": "IPY_MODEL_c4088c4666954228992c4abe67b7207f",
            "value": "Generating train split: 100%"
          }
        },
        "8c7a11efe7694360b7d2db33a2123915": {
          "model_module": "@jupyter-widgets/controls",
          "model_name": "FloatProgressModel",
          "model_module_version": "1.5.0",
          "state": {
            "_dom_classes": [],
            "_model_module": "@jupyter-widgets/controls",
            "_model_module_version": "1.5.0",
            "_model_name": "FloatProgressModel",
            "_view_count": null,
            "_view_module": "@jupyter-widgets/controls",
            "_view_module_version": "1.5.0",
            "_view_name": "ProgressView",
            "bar_style": "success",
            "description": "",
            "description_tooltip": null,
            "layout": "IPY_MODEL_528a04a3487e4ebea47dd34ef63e0911",
            "max": 650000,
            "min": 0,
            "orientation": "horizontal",
            "style": "IPY_MODEL_9e14378c99f34a97944f4440bf0c9dfd",
            "value": 650000
          }
        },
        "115cf7a2c5934da291b51c56ba88d080": {
          "model_module": "@jupyter-widgets/controls",
          "model_name": "HTMLModel",
          "model_module_version": "1.5.0",
          "state": {
            "_dom_classes": [],
            "_model_module": "@jupyter-widgets/controls",
            "_model_module_version": "1.5.0",
            "_model_name": "HTMLModel",
            "_view_count": null,
            "_view_module": "@jupyter-widgets/controls",
            "_view_module_version": "1.5.0",
            "_view_name": "HTMLView",
            "description": "",
            "description_tooltip": null,
            "layout": "IPY_MODEL_33dead08b3a044ea947efb73e0952f4e",
            "placeholder": "​",
            "style": "IPY_MODEL_36ec05c0e4494cd09267621d4beefc0b",
            "value": " 650000/650000 [00:06&lt;00:00, 188836.88 examples/s]"
          }
        },
        "149baf33f2df492fbbc7ade6e3b85505": {
          "model_module": "@jupyter-widgets/base",
          "model_name": "LayoutModel",
          "model_module_version": "1.2.0",
          "state": {
            "_model_module": "@jupyter-widgets/base",
            "_model_module_version": "1.2.0",
            "_model_name": "LayoutModel",
            "_view_count": null,
            "_view_module": "@jupyter-widgets/base",
            "_view_module_version": "1.2.0",
            "_view_name": "LayoutView",
            "align_content": null,
            "align_items": null,
            "align_self": null,
            "border": null,
            "bottom": null,
            "display": null,
            "flex": null,
            "flex_flow": null,
            "grid_area": null,
            "grid_auto_columns": null,
            "grid_auto_flow": null,
            "grid_auto_rows": null,
            "grid_column": null,
            "grid_gap": null,
            "grid_row": null,
            "grid_template_areas": null,
            "grid_template_columns": null,
            "grid_template_rows": null,
            "height": null,
            "justify_content": null,
            "justify_items": null,
            "left": null,
            "margin": null,
            "max_height": null,
            "max_width": null,
            "min_height": null,
            "min_width": null,
            "object_fit": null,
            "object_position": null,
            "order": null,
            "overflow": null,
            "overflow_x": null,
            "overflow_y": null,
            "padding": null,
            "right": null,
            "top": null,
            "visibility": null,
            "width": null
          }
        },
        "6a03761428794ae59c86f7e5c66df731": {
          "model_module": "@jupyter-widgets/base",
          "model_name": "LayoutModel",
          "model_module_version": "1.2.0",
          "state": {
            "_model_module": "@jupyter-widgets/base",
            "_model_module_version": "1.2.0",
            "_model_name": "LayoutModel",
            "_view_count": null,
            "_view_module": "@jupyter-widgets/base",
            "_view_module_version": "1.2.0",
            "_view_name": "LayoutView",
            "align_content": null,
            "align_items": null,
            "align_self": null,
            "border": null,
            "bottom": null,
            "display": null,
            "flex": null,
            "flex_flow": null,
            "grid_area": null,
            "grid_auto_columns": null,
            "grid_auto_flow": null,
            "grid_auto_rows": null,
            "grid_column": null,
            "grid_gap": null,
            "grid_row": null,
            "grid_template_areas": null,
            "grid_template_columns": null,
            "grid_template_rows": null,
            "height": null,
            "justify_content": null,
            "justify_items": null,
            "left": null,
            "margin": null,
            "max_height": null,
            "max_width": null,
            "min_height": null,
            "min_width": null,
            "object_fit": null,
            "object_position": null,
            "order": null,
            "overflow": null,
            "overflow_x": null,
            "overflow_y": null,
            "padding": null,
            "right": null,
            "top": null,
            "visibility": null,
            "width": null
          }
        },
        "c4088c4666954228992c4abe67b7207f": {
          "model_module": "@jupyter-widgets/controls",
          "model_name": "DescriptionStyleModel",
          "model_module_version": "1.5.0",
          "state": {
            "_model_module": "@jupyter-widgets/controls",
            "_model_module_version": "1.5.0",
            "_model_name": "DescriptionStyleModel",
            "_view_count": null,
            "_view_module": "@jupyter-widgets/base",
            "_view_module_version": "1.2.0",
            "_view_name": "StyleView",
            "description_width": ""
          }
        },
        "528a04a3487e4ebea47dd34ef63e0911": {
          "model_module": "@jupyter-widgets/base",
          "model_name": "LayoutModel",
          "model_module_version": "1.2.0",
          "state": {
            "_model_module": "@jupyter-widgets/base",
            "_model_module_version": "1.2.0",
            "_model_name": "LayoutModel",
            "_view_count": null,
            "_view_module": "@jupyter-widgets/base",
            "_view_module_version": "1.2.0",
            "_view_name": "LayoutView",
            "align_content": null,
            "align_items": null,
            "align_self": null,
            "border": null,
            "bottom": null,
            "display": null,
            "flex": null,
            "flex_flow": null,
            "grid_area": null,
            "grid_auto_columns": null,
            "grid_auto_flow": null,
            "grid_auto_rows": null,
            "grid_column": null,
            "grid_gap": null,
            "grid_row": null,
            "grid_template_areas": null,
            "grid_template_columns": null,
            "grid_template_rows": null,
            "height": null,
            "justify_content": null,
            "justify_items": null,
            "left": null,
            "margin": null,
            "max_height": null,
            "max_width": null,
            "min_height": null,
            "min_width": null,
            "object_fit": null,
            "object_position": null,
            "order": null,
            "overflow": null,
            "overflow_x": null,
            "overflow_y": null,
            "padding": null,
            "right": null,
            "top": null,
            "visibility": null,
            "width": null
          }
        },
        "9e14378c99f34a97944f4440bf0c9dfd": {
          "model_module": "@jupyter-widgets/controls",
          "model_name": "ProgressStyleModel",
          "model_module_version": "1.5.0",
          "state": {
            "_model_module": "@jupyter-widgets/controls",
            "_model_module_version": "1.5.0",
            "_model_name": "ProgressStyleModel",
            "_view_count": null,
            "_view_module": "@jupyter-widgets/base",
            "_view_module_version": "1.2.0",
            "_view_name": "StyleView",
            "bar_color": null,
            "description_width": ""
          }
        },
        "33dead08b3a044ea947efb73e0952f4e": {
          "model_module": "@jupyter-widgets/base",
          "model_name": "LayoutModel",
          "model_module_version": "1.2.0",
          "state": {
            "_model_module": "@jupyter-widgets/base",
            "_model_module_version": "1.2.0",
            "_model_name": "LayoutModel",
            "_view_count": null,
            "_view_module": "@jupyter-widgets/base",
            "_view_module_version": "1.2.0",
            "_view_name": "LayoutView",
            "align_content": null,
            "align_items": null,
            "align_self": null,
            "border": null,
            "bottom": null,
            "display": null,
            "flex": null,
            "flex_flow": null,
            "grid_area": null,
            "grid_auto_columns": null,
            "grid_auto_flow": null,
            "grid_auto_rows": null,
            "grid_column": null,
            "grid_gap": null,
            "grid_row": null,
            "grid_template_areas": null,
            "grid_template_columns": null,
            "grid_template_rows": null,
            "height": null,
            "justify_content": null,
            "justify_items": null,
            "left": null,
            "margin": null,
            "max_height": null,
            "max_width": null,
            "min_height": null,
            "min_width": null,
            "object_fit": null,
            "object_position": null,
            "order": null,
            "overflow": null,
            "overflow_x": null,
            "overflow_y": null,
            "padding": null,
            "right": null,
            "top": null,
            "visibility": null,
            "width": null
          }
        },
        "36ec05c0e4494cd09267621d4beefc0b": {
          "model_module": "@jupyter-widgets/controls",
          "model_name": "DescriptionStyleModel",
          "model_module_version": "1.5.0",
          "state": {
            "_model_module": "@jupyter-widgets/controls",
            "_model_module_version": "1.5.0",
            "_model_name": "DescriptionStyleModel",
            "_view_count": null,
            "_view_module": "@jupyter-widgets/base",
            "_view_module_version": "1.2.0",
            "_view_name": "StyleView",
            "description_width": ""
          }
        },
        "3e50391d2648412cb48e5a582ba85589": {
          "model_module": "@jupyter-widgets/controls",
          "model_name": "HBoxModel",
          "model_module_version": "1.5.0",
          "state": {
            "_dom_classes": [],
            "_model_module": "@jupyter-widgets/controls",
            "_model_module_version": "1.5.0",
            "_model_name": "HBoxModel",
            "_view_count": null,
            "_view_module": "@jupyter-widgets/controls",
            "_view_module_version": "1.5.0",
            "_view_name": "HBoxView",
            "box_style": "",
            "children": [
              "IPY_MODEL_665a1859c2334fdc87edc15c75efd8a3",
              "IPY_MODEL_4b06bf9cb433421791fb723110e25a2c",
              "IPY_MODEL_9a32c8c2aab1429bb22ea8bb2cb8c6e6"
            ],
            "layout": "IPY_MODEL_adcc53b042fb4959bedc706134d89391"
          }
        },
        "665a1859c2334fdc87edc15c75efd8a3": {
          "model_module": "@jupyter-widgets/controls",
          "model_name": "HTMLModel",
          "model_module_version": "1.5.0",
          "state": {
            "_dom_classes": [],
            "_model_module": "@jupyter-widgets/controls",
            "_model_module_version": "1.5.0",
            "_model_name": "HTMLModel",
            "_view_count": null,
            "_view_module": "@jupyter-widgets/controls",
            "_view_module_version": "1.5.0",
            "_view_name": "HTMLView",
            "description": "",
            "description_tooltip": null,
            "layout": "IPY_MODEL_1db49e7f7ac94a05b8b79338e55080d9",
            "placeholder": "​",
            "style": "IPY_MODEL_5b3297791a9c4206b480c66362ce74c6",
            "value": "Generating test split: 100%"
          }
        },
        "4b06bf9cb433421791fb723110e25a2c": {
          "model_module": "@jupyter-widgets/controls",
          "model_name": "FloatProgressModel",
          "model_module_version": "1.5.0",
          "state": {
            "_dom_classes": [],
            "_model_module": "@jupyter-widgets/controls",
            "_model_module_version": "1.5.0",
            "_model_name": "FloatProgressModel",
            "_view_count": null,
            "_view_module": "@jupyter-widgets/controls",
            "_view_module_version": "1.5.0",
            "_view_name": "ProgressView",
            "bar_style": "success",
            "description": "",
            "description_tooltip": null,
            "layout": "IPY_MODEL_b10d6c66db214aa5b556812cd260ef11",
            "max": 50000,
            "min": 0,
            "orientation": "horizontal",
            "style": "IPY_MODEL_d3b12bff15134081aa11289dae922e5d",
            "value": 50000
          }
        },
        "9a32c8c2aab1429bb22ea8bb2cb8c6e6": {
          "model_module": "@jupyter-widgets/controls",
          "model_name": "HTMLModel",
          "model_module_version": "1.5.0",
          "state": {
            "_dom_classes": [],
            "_model_module": "@jupyter-widgets/controls",
            "_model_module_version": "1.5.0",
            "_model_name": "HTMLModel",
            "_view_count": null,
            "_view_module": "@jupyter-widgets/controls",
            "_view_module_version": "1.5.0",
            "_view_name": "HTMLView",
            "description": "",
            "description_tooltip": null,
            "layout": "IPY_MODEL_d84a0ff226a243678fdac4fc80feb4da",
            "placeholder": "​",
            "style": "IPY_MODEL_2709dd520a544336b6d56d3f21e22eac",
            "value": " 50000/50000 [00:00&lt;00:00, 122731.35 examples/s]"
          }
        },
        "adcc53b042fb4959bedc706134d89391": {
          "model_module": "@jupyter-widgets/base",
          "model_name": "LayoutModel",
          "model_module_version": "1.2.0",
          "state": {
            "_model_module": "@jupyter-widgets/base",
            "_model_module_version": "1.2.0",
            "_model_name": "LayoutModel",
            "_view_count": null,
            "_view_module": "@jupyter-widgets/base",
            "_view_module_version": "1.2.0",
            "_view_name": "LayoutView",
            "align_content": null,
            "align_items": null,
            "align_self": null,
            "border": null,
            "bottom": null,
            "display": null,
            "flex": null,
            "flex_flow": null,
            "grid_area": null,
            "grid_auto_columns": null,
            "grid_auto_flow": null,
            "grid_auto_rows": null,
            "grid_column": null,
            "grid_gap": null,
            "grid_row": null,
            "grid_template_areas": null,
            "grid_template_columns": null,
            "grid_template_rows": null,
            "height": null,
            "justify_content": null,
            "justify_items": null,
            "left": null,
            "margin": null,
            "max_height": null,
            "max_width": null,
            "min_height": null,
            "min_width": null,
            "object_fit": null,
            "object_position": null,
            "order": null,
            "overflow": null,
            "overflow_x": null,
            "overflow_y": null,
            "padding": null,
            "right": null,
            "top": null,
            "visibility": null,
            "width": null
          }
        },
        "1db49e7f7ac94a05b8b79338e55080d9": {
          "model_module": "@jupyter-widgets/base",
          "model_name": "LayoutModel",
          "model_module_version": "1.2.0",
          "state": {
            "_model_module": "@jupyter-widgets/base",
            "_model_module_version": "1.2.0",
            "_model_name": "LayoutModel",
            "_view_count": null,
            "_view_module": "@jupyter-widgets/base",
            "_view_module_version": "1.2.0",
            "_view_name": "LayoutView",
            "align_content": null,
            "align_items": null,
            "align_self": null,
            "border": null,
            "bottom": null,
            "display": null,
            "flex": null,
            "flex_flow": null,
            "grid_area": null,
            "grid_auto_columns": null,
            "grid_auto_flow": null,
            "grid_auto_rows": null,
            "grid_column": null,
            "grid_gap": null,
            "grid_row": null,
            "grid_template_areas": null,
            "grid_template_columns": null,
            "grid_template_rows": null,
            "height": null,
            "justify_content": null,
            "justify_items": null,
            "left": null,
            "margin": null,
            "max_height": null,
            "max_width": null,
            "min_height": null,
            "min_width": null,
            "object_fit": null,
            "object_position": null,
            "order": null,
            "overflow": null,
            "overflow_x": null,
            "overflow_y": null,
            "padding": null,
            "right": null,
            "top": null,
            "visibility": null,
            "width": null
          }
        },
        "5b3297791a9c4206b480c66362ce74c6": {
          "model_module": "@jupyter-widgets/controls",
          "model_name": "DescriptionStyleModel",
          "model_module_version": "1.5.0",
          "state": {
            "_model_module": "@jupyter-widgets/controls",
            "_model_module_version": "1.5.0",
            "_model_name": "DescriptionStyleModel",
            "_view_count": null,
            "_view_module": "@jupyter-widgets/base",
            "_view_module_version": "1.2.0",
            "_view_name": "StyleView",
            "description_width": ""
          }
        },
        "b10d6c66db214aa5b556812cd260ef11": {
          "model_module": "@jupyter-widgets/base",
          "model_name": "LayoutModel",
          "model_module_version": "1.2.0",
          "state": {
            "_model_module": "@jupyter-widgets/base",
            "_model_module_version": "1.2.0",
            "_model_name": "LayoutModel",
            "_view_count": null,
            "_view_module": "@jupyter-widgets/base",
            "_view_module_version": "1.2.0",
            "_view_name": "LayoutView",
            "align_content": null,
            "align_items": null,
            "align_self": null,
            "border": null,
            "bottom": null,
            "display": null,
            "flex": null,
            "flex_flow": null,
            "grid_area": null,
            "grid_auto_columns": null,
            "grid_auto_flow": null,
            "grid_auto_rows": null,
            "grid_column": null,
            "grid_gap": null,
            "grid_row": null,
            "grid_template_areas": null,
            "grid_template_columns": null,
            "grid_template_rows": null,
            "height": null,
            "justify_content": null,
            "justify_items": null,
            "left": null,
            "margin": null,
            "max_height": null,
            "max_width": null,
            "min_height": null,
            "min_width": null,
            "object_fit": null,
            "object_position": null,
            "order": null,
            "overflow": null,
            "overflow_x": null,
            "overflow_y": null,
            "padding": null,
            "right": null,
            "top": null,
            "visibility": null,
            "width": null
          }
        },
        "d3b12bff15134081aa11289dae922e5d": {
          "model_module": "@jupyter-widgets/controls",
          "model_name": "ProgressStyleModel",
          "model_module_version": "1.5.0",
          "state": {
            "_model_module": "@jupyter-widgets/controls",
            "_model_module_version": "1.5.0",
            "_model_name": "ProgressStyleModel",
            "_view_count": null,
            "_view_module": "@jupyter-widgets/base",
            "_view_module_version": "1.2.0",
            "_view_name": "StyleView",
            "bar_color": null,
            "description_width": ""
          }
        },
        "d84a0ff226a243678fdac4fc80feb4da": {
          "model_module": "@jupyter-widgets/base",
          "model_name": "LayoutModel",
          "model_module_version": "1.2.0",
          "state": {
            "_model_module": "@jupyter-widgets/base",
            "_model_module_version": "1.2.0",
            "_model_name": "LayoutModel",
            "_view_count": null,
            "_view_module": "@jupyter-widgets/base",
            "_view_module_version": "1.2.0",
            "_view_name": "LayoutView",
            "align_content": null,
            "align_items": null,
            "align_self": null,
            "border": null,
            "bottom": null,
            "display": null,
            "flex": null,
            "flex_flow": null,
            "grid_area": null,
            "grid_auto_columns": null,
            "grid_auto_flow": null,
            "grid_auto_rows": null,
            "grid_column": null,
            "grid_gap": null,
            "grid_row": null,
            "grid_template_areas": null,
            "grid_template_columns": null,
            "grid_template_rows": null,
            "height": null,
            "justify_content": null,
            "justify_items": null,
            "left": null,
            "margin": null,
            "max_height": null,
            "max_width": null,
            "min_height": null,
            "min_width": null,
            "object_fit": null,
            "object_position": null,
            "order": null,
            "overflow": null,
            "overflow_x": null,
            "overflow_y": null,
            "padding": null,
            "right": null,
            "top": null,
            "visibility": null,
            "width": null
          }
        },
        "2709dd520a544336b6d56d3f21e22eac": {
          "model_module": "@jupyter-widgets/controls",
          "model_name": "DescriptionStyleModel",
          "model_module_version": "1.5.0",
          "state": {
            "_model_module": "@jupyter-widgets/controls",
            "_model_module_version": "1.5.0",
            "_model_name": "DescriptionStyleModel",
            "_view_count": null,
            "_view_module": "@jupyter-widgets/base",
            "_view_module_version": "1.2.0",
            "_view_name": "StyleView",
            "description_width": ""
          }
        },
        "a5a99977bf184a5296f790090fd5d46b": {
          "model_module": "@jupyter-widgets/controls",
          "model_name": "HBoxModel",
          "model_module_version": "1.5.0",
          "state": {
            "_dom_classes": [],
            "_model_module": "@jupyter-widgets/controls",
            "_model_module_version": "1.5.0",
            "_model_name": "HBoxModel",
            "_view_count": null,
            "_view_module": "@jupyter-widgets/controls",
            "_view_module_version": "1.5.0",
            "_view_name": "HBoxView",
            "box_style": "",
            "children": [
              "IPY_MODEL_6b007ba786874bb88e32b4934043d260",
              "IPY_MODEL_e881360c81b0423987052efc8914f896",
              "IPY_MODEL_3a6f325eea0d4f86807f81f5d4f15214"
            ],
            "layout": "IPY_MODEL_27cb96112ce64bddbd88b368000490f4"
          }
        },
        "6b007ba786874bb88e32b4934043d260": {
          "model_module": "@jupyter-widgets/controls",
          "model_name": "HTMLModel",
          "model_module_version": "1.5.0",
          "state": {
            "_dom_classes": [],
            "_model_module": "@jupyter-widgets/controls",
            "_model_module_version": "1.5.0",
            "_model_name": "HTMLModel",
            "_view_count": null,
            "_view_module": "@jupyter-widgets/controls",
            "_view_module_version": "1.5.0",
            "_view_name": "HTMLView",
            "description": "",
            "description_tooltip": null,
            "layout": "IPY_MODEL_fadbd37eb50a4fa49e0954bbd55b86bc",
            "placeholder": "​",
            "style": "IPY_MODEL_a04d95e71c2841128b7b6ca4fe355661",
            "value": "Saving the dataset (2/2 shards): 100%"
          }
        },
        "e881360c81b0423987052efc8914f896": {
          "model_module": "@jupyter-widgets/controls",
          "model_name": "FloatProgressModel",
          "model_module_version": "1.5.0",
          "state": {
            "_dom_classes": [],
            "_model_module": "@jupyter-widgets/controls",
            "_model_module_version": "1.5.0",
            "_model_name": "FloatProgressModel",
            "_view_count": null,
            "_view_module": "@jupyter-widgets/controls",
            "_view_module_version": "1.5.0",
            "_view_name": "ProgressView",
            "bar_style": "success",
            "description": "",
            "description_tooltip": null,
            "layout": "IPY_MODEL_7382736bb8a644678693208725d53334",
            "max": 700000,
            "min": 0,
            "orientation": "horizontal",
            "style": "IPY_MODEL_5cf9793813ae4e60bee44bff78a4f327",
            "value": 700000
          }
        },
        "3a6f325eea0d4f86807f81f5d4f15214": {
          "model_module": "@jupyter-widgets/controls",
          "model_name": "HTMLModel",
          "model_module_version": "1.5.0",
          "state": {
            "_dom_classes": [],
            "_model_module": "@jupyter-widgets/controls",
            "_model_module_version": "1.5.0",
            "_model_name": "HTMLModel",
            "_view_count": null,
            "_view_module": "@jupyter-widgets/controls",
            "_view_module_version": "1.5.0",
            "_view_name": "HTMLView",
            "description": "",
            "description_tooltip": null,
            "layout": "IPY_MODEL_243271a0261d4229b22e49b2968a76b9",
            "placeholder": "​",
            "style": "IPY_MODEL_1116ade6ed0e4878aab24bea1e2f77d2",
            "value": " 700000/700000 [00:02&lt;00:00, 336018.88 examples/s]"
          }
        },
        "27cb96112ce64bddbd88b368000490f4": {
          "model_module": "@jupyter-widgets/base",
          "model_name": "LayoutModel",
          "model_module_version": "1.2.0",
          "state": {
            "_model_module": "@jupyter-widgets/base",
            "_model_module_version": "1.2.0",
            "_model_name": "LayoutModel",
            "_view_count": null,
            "_view_module": "@jupyter-widgets/base",
            "_view_module_version": "1.2.0",
            "_view_name": "LayoutView",
            "align_content": null,
            "align_items": null,
            "align_self": null,
            "border": null,
            "bottom": null,
            "display": null,
            "flex": null,
            "flex_flow": null,
            "grid_area": null,
            "grid_auto_columns": null,
            "grid_auto_flow": null,
            "grid_auto_rows": null,
            "grid_column": null,
            "grid_gap": null,
            "grid_row": null,
            "grid_template_areas": null,
            "grid_template_columns": null,
            "grid_template_rows": null,
            "height": null,
            "justify_content": null,
            "justify_items": null,
            "left": null,
            "margin": null,
            "max_height": null,
            "max_width": null,
            "min_height": null,
            "min_width": null,
            "object_fit": null,
            "object_position": null,
            "order": null,
            "overflow": null,
            "overflow_x": null,
            "overflow_y": null,
            "padding": null,
            "right": null,
            "top": null,
            "visibility": null,
            "width": null
          }
        },
        "fadbd37eb50a4fa49e0954bbd55b86bc": {
          "model_module": "@jupyter-widgets/base",
          "model_name": "LayoutModel",
          "model_module_version": "1.2.0",
          "state": {
            "_model_module": "@jupyter-widgets/base",
            "_model_module_version": "1.2.0",
            "_model_name": "LayoutModel",
            "_view_count": null,
            "_view_module": "@jupyter-widgets/base",
            "_view_module_version": "1.2.0",
            "_view_name": "LayoutView",
            "align_content": null,
            "align_items": null,
            "align_self": null,
            "border": null,
            "bottom": null,
            "display": null,
            "flex": null,
            "flex_flow": null,
            "grid_area": null,
            "grid_auto_columns": null,
            "grid_auto_flow": null,
            "grid_auto_rows": null,
            "grid_column": null,
            "grid_gap": null,
            "grid_row": null,
            "grid_template_areas": null,
            "grid_template_columns": null,
            "grid_template_rows": null,
            "height": null,
            "justify_content": null,
            "justify_items": null,
            "left": null,
            "margin": null,
            "max_height": null,
            "max_width": null,
            "min_height": null,
            "min_width": null,
            "object_fit": null,
            "object_position": null,
            "order": null,
            "overflow": null,
            "overflow_x": null,
            "overflow_y": null,
            "padding": null,
            "right": null,
            "top": null,
            "visibility": null,
            "width": null
          }
        },
        "a04d95e71c2841128b7b6ca4fe355661": {
          "model_module": "@jupyter-widgets/controls",
          "model_name": "DescriptionStyleModel",
          "model_module_version": "1.5.0",
          "state": {
            "_model_module": "@jupyter-widgets/controls",
            "_model_module_version": "1.5.0",
            "_model_name": "DescriptionStyleModel",
            "_view_count": null,
            "_view_module": "@jupyter-widgets/base",
            "_view_module_version": "1.2.0",
            "_view_name": "StyleView",
            "description_width": ""
          }
        },
        "7382736bb8a644678693208725d53334": {
          "model_module": "@jupyter-widgets/base",
          "model_name": "LayoutModel",
          "model_module_version": "1.2.0",
          "state": {
            "_model_module": "@jupyter-widgets/base",
            "_model_module_version": "1.2.0",
            "_model_name": "LayoutModel",
            "_view_count": null,
            "_view_module": "@jupyter-widgets/base",
            "_view_module_version": "1.2.0",
            "_view_name": "LayoutView",
            "align_content": null,
            "align_items": null,
            "align_self": null,
            "border": null,
            "bottom": null,
            "display": null,
            "flex": null,
            "flex_flow": null,
            "grid_area": null,
            "grid_auto_columns": null,
            "grid_auto_flow": null,
            "grid_auto_rows": null,
            "grid_column": null,
            "grid_gap": null,
            "grid_row": null,
            "grid_template_areas": null,
            "grid_template_columns": null,
            "grid_template_rows": null,
            "height": null,
            "justify_content": null,
            "justify_items": null,
            "left": null,
            "margin": null,
            "max_height": null,
            "max_width": null,
            "min_height": null,
            "min_width": null,
            "object_fit": null,
            "object_position": null,
            "order": null,
            "overflow": null,
            "overflow_x": null,
            "overflow_y": null,
            "padding": null,
            "right": null,
            "top": null,
            "visibility": null,
            "width": null
          }
        },
        "5cf9793813ae4e60bee44bff78a4f327": {
          "model_module": "@jupyter-widgets/controls",
          "model_name": "ProgressStyleModel",
          "model_module_version": "1.5.0",
          "state": {
            "_model_module": "@jupyter-widgets/controls",
            "_model_module_version": "1.5.0",
            "_model_name": "ProgressStyleModel",
            "_view_count": null,
            "_view_module": "@jupyter-widgets/base",
            "_view_module_version": "1.2.0",
            "_view_name": "StyleView",
            "bar_color": null,
            "description_width": ""
          }
        },
        "243271a0261d4229b22e49b2968a76b9": {
          "model_module": "@jupyter-widgets/base",
          "model_name": "LayoutModel",
          "model_module_version": "1.2.0",
          "state": {
            "_model_module": "@jupyter-widgets/base",
            "_model_module_version": "1.2.0",
            "_model_name": "LayoutModel",
            "_view_count": null,
            "_view_module": "@jupyter-widgets/base",
            "_view_module_version": "1.2.0",
            "_view_name": "LayoutView",
            "align_content": null,
            "align_items": null,
            "align_self": null,
            "border": null,
            "bottom": null,
            "display": null,
            "flex": null,
            "flex_flow": null,
            "grid_area": null,
            "grid_auto_columns": null,
            "grid_auto_flow": null,
            "grid_auto_rows": null,
            "grid_column": null,
            "grid_gap": null,
            "grid_row": null,
            "grid_template_areas": null,
            "grid_template_columns": null,
            "grid_template_rows": null,
            "height": null,
            "justify_content": null,
            "justify_items": null,
            "left": null,
            "margin": null,
            "max_height": null,
            "max_width": null,
            "min_height": null,
            "min_width": null,
            "object_fit": null,
            "object_position": null,
            "order": null,
            "overflow": null,
            "overflow_x": null,
            "overflow_y": null,
            "padding": null,
            "right": null,
            "top": null,
            "visibility": null,
            "width": null
          }
        },
        "1116ade6ed0e4878aab24bea1e2f77d2": {
          "model_module": "@jupyter-widgets/controls",
          "model_name": "DescriptionStyleModel",
          "model_module_version": "1.5.0",
          "state": {
            "_model_module": "@jupyter-widgets/controls",
            "_model_module_version": "1.5.0",
            "_model_name": "DescriptionStyleModel",
            "_view_count": null,
            "_view_module": "@jupyter-widgets/base",
            "_view_module_version": "1.2.0",
            "_view_name": "StyleView",
            "description_width": ""
          }
        },
        "f03df313f3054743b7d1d44533a65e26": {
          "model_module": "@jupyter-widgets/controls",
          "model_name": "HBoxModel",
          "model_module_version": "1.5.0",
          "state": {
            "_dom_classes": [],
            "_model_module": "@jupyter-widgets/controls",
            "_model_module_version": "1.5.0",
            "_model_name": "HBoxModel",
            "_view_count": null,
            "_view_module": "@jupyter-widgets/controls",
            "_view_module_version": "1.5.0",
            "_view_name": "HBoxView",
            "box_style": "",
            "children": [
              "IPY_MODEL_0c65a593ffed4af9a45015f5b39deefa",
              "IPY_MODEL_811ad99cb1fa44eeabb31d32a0eee4af",
              "IPY_MODEL_7294d61c7e4f41f483c65f14239691e4"
            ],
            "layout": "IPY_MODEL_d7616fb477dd45f190b0f522a2ce7381"
          }
        },
        "0c65a593ffed4af9a45015f5b39deefa": {
          "model_module": "@jupyter-widgets/controls",
          "model_name": "HTMLModel",
          "model_module_version": "1.5.0",
          "state": {
            "_dom_classes": [],
            "_model_module": "@jupyter-widgets/controls",
            "_model_module_version": "1.5.0",
            "_model_name": "HTMLModel",
            "_view_count": null,
            "_view_module": "@jupyter-widgets/controls",
            "_view_module_version": "1.5.0",
            "_view_name": "HTMLView",
            "description": "",
            "description_tooltip": null,
            "layout": "IPY_MODEL_9fedc6bb510b41fdb724bf0decaaf9d3",
            "placeholder": "​",
            "style": "IPY_MODEL_059e37441f224fbfb968c9205b82c5ce",
            "value": "tokenizer_config.json: 100%"
          }
        },
        "811ad99cb1fa44eeabb31d32a0eee4af": {
          "model_module": "@jupyter-widgets/controls",
          "model_name": "FloatProgressModel",
          "model_module_version": "1.5.0",
          "state": {
            "_dom_classes": [],
            "_model_module": "@jupyter-widgets/controls",
            "_model_module_version": "1.5.0",
            "_model_name": "FloatProgressModel",
            "_view_count": null,
            "_view_module": "@jupyter-widgets/controls",
            "_view_module_version": "1.5.0",
            "_view_name": "ProgressView",
            "bar_style": "success",
            "description": "",
            "description_tooltip": null,
            "layout": "IPY_MODEL_444643c072024733ac7ae4ddfa11aa82",
            "max": 48,
            "min": 0,
            "orientation": "horizontal",
            "style": "IPY_MODEL_86bcfa63a99b46f9965e7c1cd788d185",
            "value": 48
          }
        },
        "7294d61c7e4f41f483c65f14239691e4": {
          "model_module": "@jupyter-widgets/controls",
          "model_name": "HTMLModel",
          "model_module_version": "1.5.0",
          "state": {
            "_dom_classes": [],
            "_model_module": "@jupyter-widgets/controls",
            "_model_module_version": "1.5.0",
            "_model_name": "HTMLModel",
            "_view_count": null,
            "_view_module": "@jupyter-widgets/controls",
            "_view_module_version": "1.5.0",
            "_view_name": "HTMLView",
            "description": "",
            "description_tooltip": null,
            "layout": "IPY_MODEL_c510678c0d654a1caf4353c26fe1b830",
            "placeholder": "​",
            "style": "IPY_MODEL_e76540c7556844d288d0c9f7d10d251c",
            "value": " 48.0/48.0 [00:00&lt;00:00, 1.29kB/s]"
          }
        },
        "d7616fb477dd45f190b0f522a2ce7381": {
          "model_module": "@jupyter-widgets/base",
          "model_name": "LayoutModel",
          "model_module_version": "1.2.0",
          "state": {
            "_model_module": "@jupyter-widgets/base",
            "_model_module_version": "1.2.0",
            "_model_name": "LayoutModel",
            "_view_count": null,
            "_view_module": "@jupyter-widgets/base",
            "_view_module_version": "1.2.0",
            "_view_name": "LayoutView",
            "align_content": null,
            "align_items": null,
            "align_self": null,
            "border": null,
            "bottom": null,
            "display": null,
            "flex": null,
            "flex_flow": null,
            "grid_area": null,
            "grid_auto_columns": null,
            "grid_auto_flow": null,
            "grid_auto_rows": null,
            "grid_column": null,
            "grid_gap": null,
            "grid_row": null,
            "grid_template_areas": null,
            "grid_template_columns": null,
            "grid_template_rows": null,
            "height": null,
            "justify_content": null,
            "justify_items": null,
            "left": null,
            "margin": null,
            "max_height": null,
            "max_width": null,
            "min_height": null,
            "min_width": null,
            "object_fit": null,
            "object_position": null,
            "order": null,
            "overflow": null,
            "overflow_x": null,
            "overflow_y": null,
            "padding": null,
            "right": null,
            "top": null,
            "visibility": null,
            "width": null
          }
        },
        "9fedc6bb510b41fdb724bf0decaaf9d3": {
          "model_module": "@jupyter-widgets/base",
          "model_name": "LayoutModel",
          "model_module_version": "1.2.0",
          "state": {
            "_model_module": "@jupyter-widgets/base",
            "_model_module_version": "1.2.0",
            "_model_name": "LayoutModel",
            "_view_count": null,
            "_view_module": "@jupyter-widgets/base",
            "_view_module_version": "1.2.0",
            "_view_name": "LayoutView",
            "align_content": null,
            "align_items": null,
            "align_self": null,
            "border": null,
            "bottom": null,
            "display": null,
            "flex": null,
            "flex_flow": null,
            "grid_area": null,
            "grid_auto_columns": null,
            "grid_auto_flow": null,
            "grid_auto_rows": null,
            "grid_column": null,
            "grid_gap": null,
            "grid_row": null,
            "grid_template_areas": null,
            "grid_template_columns": null,
            "grid_template_rows": null,
            "height": null,
            "justify_content": null,
            "justify_items": null,
            "left": null,
            "margin": null,
            "max_height": null,
            "max_width": null,
            "min_height": null,
            "min_width": null,
            "object_fit": null,
            "object_position": null,
            "order": null,
            "overflow": null,
            "overflow_x": null,
            "overflow_y": null,
            "padding": null,
            "right": null,
            "top": null,
            "visibility": null,
            "width": null
          }
        },
        "059e37441f224fbfb968c9205b82c5ce": {
          "model_module": "@jupyter-widgets/controls",
          "model_name": "DescriptionStyleModel",
          "model_module_version": "1.5.0",
          "state": {
            "_model_module": "@jupyter-widgets/controls",
            "_model_module_version": "1.5.0",
            "_model_name": "DescriptionStyleModel",
            "_view_count": null,
            "_view_module": "@jupyter-widgets/base",
            "_view_module_version": "1.2.0",
            "_view_name": "StyleView",
            "description_width": ""
          }
        },
        "444643c072024733ac7ae4ddfa11aa82": {
          "model_module": "@jupyter-widgets/base",
          "model_name": "LayoutModel",
          "model_module_version": "1.2.0",
          "state": {
            "_model_module": "@jupyter-widgets/base",
            "_model_module_version": "1.2.0",
            "_model_name": "LayoutModel",
            "_view_count": null,
            "_view_module": "@jupyter-widgets/base",
            "_view_module_version": "1.2.0",
            "_view_name": "LayoutView",
            "align_content": null,
            "align_items": null,
            "align_self": null,
            "border": null,
            "bottom": null,
            "display": null,
            "flex": null,
            "flex_flow": null,
            "grid_area": null,
            "grid_auto_columns": null,
            "grid_auto_flow": null,
            "grid_auto_rows": null,
            "grid_column": null,
            "grid_gap": null,
            "grid_row": null,
            "grid_template_areas": null,
            "grid_template_columns": null,
            "grid_template_rows": null,
            "height": null,
            "justify_content": null,
            "justify_items": null,
            "left": null,
            "margin": null,
            "max_height": null,
            "max_width": null,
            "min_height": null,
            "min_width": null,
            "object_fit": null,
            "object_position": null,
            "order": null,
            "overflow": null,
            "overflow_x": null,
            "overflow_y": null,
            "padding": null,
            "right": null,
            "top": null,
            "visibility": null,
            "width": null
          }
        },
        "86bcfa63a99b46f9965e7c1cd788d185": {
          "model_module": "@jupyter-widgets/controls",
          "model_name": "ProgressStyleModel",
          "model_module_version": "1.5.0",
          "state": {
            "_model_module": "@jupyter-widgets/controls",
            "_model_module_version": "1.5.0",
            "_model_name": "ProgressStyleModel",
            "_view_count": null,
            "_view_module": "@jupyter-widgets/base",
            "_view_module_version": "1.2.0",
            "_view_name": "StyleView",
            "bar_color": null,
            "description_width": ""
          }
        },
        "c510678c0d654a1caf4353c26fe1b830": {
          "model_module": "@jupyter-widgets/base",
          "model_name": "LayoutModel",
          "model_module_version": "1.2.0",
          "state": {
            "_model_module": "@jupyter-widgets/base",
            "_model_module_version": "1.2.0",
            "_model_name": "LayoutModel",
            "_view_count": null,
            "_view_module": "@jupyter-widgets/base",
            "_view_module_version": "1.2.0",
            "_view_name": "LayoutView",
            "align_content": null,
            "align_items": null,
            "align_self": null,
            "border": null,
            "bottom": null,
            "display": null,
            "flex": null,
            "flex_flow": null,
            "grid_area": null,
            "grid_auto_columns": null,
            "grid_auto_flow": null,
            "grid_auto_rows": null,
            "grid_column": null,
            "grid_gap": null,
            "grid_row": null,
            "grid_template_areas": null,
            "grid_template_columns": null,
            "grid_template_rows": null,
            "height": null,
            "justify_content": null,
            "justify_items": null,
            "left": null,
            "margin": null,
            "max_height": null,
            "max_width": null,
            "min_height": null,
            "min_width": null,
            "object_fit": null,
            "object_position": null,
            "order": null,
            "overflow": null,
            "overflow_x": null,
            "overflow_y": null,
            "padding": null,
            "right": null,
            "top": null,
            "visibility": null,
            "width": null
          }
        },
        "e76540c7556844d288d0c9f7d10d251c": {
          "model_module": "@jupyter-widgets/controls",
          "model_name": "DescriptionStyleModel",
          "model_module_version": "1.5.0",
          "state": {
            "_model_module": "@jupyter-widgets/controls",
            "_model_module_version": "1.5.0",
            "_model_name": "DescriptionStyleModel",
            "_view_count": null,
            "_view_module": "@jupyter-widgets/base",
            "_view_module_version": "1.2.0",
            "_view_name": "StyleView",
            "description_width": ""
          }
        },
        "a2e3d1a9629740c7bf349112d9b1f6e9": {
          "model_module": "@jupyter-widgets/controls",
          "model_name": "HBoxModel",
          "model_module_version": "1.5.0",
          "state": {
            "_dom_classes": [],
            "_model_module": "@jupyter-widgets/controls",
            "_model_module_version": "1.5.0",
            "_model_name": "HBoxModel",
            "_view_count": null,
            "_view_module": "@jupyter-widgets/controls",
            "_view_module_version": "1.5.0",
            "_view_name": "HBoxView",
            "box_style": "",
            "children": [
              "IPY_MODEL_7a68497b37fb4c2ea8176d856ebc17bd",
              "IPY_MODEL_e9221e1fd17941acb659c815e9528508",
              "IPY_MODEL_a3bbfefc14d04066834eaa411c51679d"
            ],
            "layout": "IPY_MODEL_54f6497d331d41bfbeff0d193f7c2dd1"
          }
        },
        "7a68497b37fb4c2ea8176d856ebc17bd": {
          "model_module": "@jupyter-widgets/controls",
          "model_name": "HTMLModel",
          "model_module_version": "1.5.0",
          "state": {
            "_dom_classes": [],
            "_model_module": "@jupyter-widgets/controls",
            "_model_module_version": "1.5.0",
            "_model_name": "HTMLModel",
            "_view_count": null,
            "_view_module": "@jupyter-widgets/controls",
            "_view_module_version": "1.5.0",
            "_view_name": "HTMLView",
            "description": "",
            "description_tooltip": null,
            "layout": "IPY_MODEL_eb3c5f2f916641238d2404b8e089422a",
            "placeholder": "​",
            "style": "IPY_MODEL_85e2ca7b576e4101af05f2b378e1a88d",
            "value": "config.json: 100%"
          }
        },
        "e9221e1fd17941acb659c815e9528508": {
          "model_module": "@jupyter-widgets/controls",
          "model_name": "FloatProgressModel",
          "model_module_version": "1.5.0",
          "state": {
            "_dom_classes": [],
            "_model_module": "@jupyter-widgets/controls",
            "_model_module_version": "1.5.0",
            "_model_name": "FloatProgressModel",
            "_view_count": null,
            "_view_module": "@jupyter-widgets/controls",
            "_view_module_version": "1.5.0",
            "_view_name": "ProgressView",
            "bar_style": "success",
            "description": "",
            "description_tooltip": null,
            "layout": "IPY_MODEL_9802918eb099469c9158d323ee827055",
            "max": 570,
            "min": 0,
            "orientation": "horizontal",
            "style": "IPY_MODEL_903baf8ad5ad429587d2b91007850f30",
            "value": 570
          }
        },
        "a3bbfefc14d04066834eaa411c51679d": {
          "model_module": "@jupyter-widgets/controls",
          "model_name": "HTMLModel",
          "model_module_version": "1.5.0",
          "state": {
            "_dom_classes": [],
            "_model_module": "@jupyter-widgets/controls",
            "_model_module_version": "1.5.0",
            "_model_name": "HTMLModel",
            "_view_count": null,
            "_view_module": "@jupyter-widgets/controls",
            "_view_module_version": "1.5.0",
            "_view_name": "HTMLView",
            "description": "",
            "description_tooltip": null,
            "layout": "IPY_MODEL_84f6f476934644ada36f8d6c63ea54ae",
            "placeholder": "​",
            "style": "IPY_MODEL_d42a60b521b640d8bfaadfb5209191d5",
            "value": " 570/570 [00:00&lt;00:00, 19.2kB/s]"
          }
        },
        "54f6497d331d41bfbeff0d193f7c2dd1": {
          "model_module": "@jupyter-widgets/base",
          "model_name": "LayoutModel",
          "model_module_version": "1.2.0",
          "state": {
            "_model_module": "@jupyter-widgets/base",
            "_model_module_version": "1.2.0",
            "_model_name": "LayoutModel",
            "_view_count": null,
            "_view_module": "@jupyter-widgets/base",
            "_view_module_version": "1.2.0",
            "_view_name": "LayoutView",
            "align_content": null,
            "align_items": null,
            "align_self": null,
            "border": null,
            "bottom": null,
            "display": null,
            "flex": null,
            "flex_flow": null,
            "grid_area": null,
            "grid_auto_columns": null,
            "grid_auto_flow": null,
            "grid_auto_rows": null,
            "grid_column": null,
            "grid_gap": null,
            "grid_row": null,
            "grid_template_areas": null,
            "grid_template_columns": null,
            "grid_template_rows": null,
            "height": null,
            "justify_content": null,
            "justify_items": null,
            "left": null,
            "margin": null,
            "max_height": null,
            "max_width": null,
            "min_height": null,
            "min_width": null,
            "object_fit": null,
            "object_position": null,
            "order": null,
            "overflow": null,
            "overflow_x": null,
            "overflow_y": null,
            "padding": null,
            "right": null,
            "top": null,
            "visibility": null,
            "width": null
          }
        },
        "eb3c5f2f916641238d2404b8e089422a": {
          "model_module": "@jupyter-widgets/base",
          "model_name": "LayoutModel",
          "model_module_version": "1.2.0",
          "state": {
            "_model_module": "@jupyter-widgets/base",
            "_model_module_version": "1.2.0",
            "_model_name": "LayoutModel",
            "_view_count": null,
            "_view_module": "@jupyter-widgets/base",
            "_view_module_version": "1.2.0",
            "_view_name": "LayoutView",
            "align_content": null,
            "align_items": null,
            "align_self": null,
            "border": null,
            "bottom": null,
            "display": null,
            "flex": null,
            "flex_flow": null,
            "grid_area": null,
            "grid_auto_columns": null,
            "grid_auto_flow": null,
            "grid_auto_rows": null,
            "grid_column": null,
            "grid_gap": null,
            "grid_row": null,
            "grid_template_areas": null,
            "grid_template_columns": null,
            "grid_template_rows": null,
            "height": null,
            "justify_content": null,
            "justify_items": null,
            "left": null,
            "margin": null,
            "max_height": null,
            "max_width": null,
            "min_height": null,
            "min_width": null,
            "object_fit": null,
            "object_position": null,
            "order": null,
            "overflow": null,
            "overflow_x": null,
            "overflow_y": null,
            "padding": null,
            "right": null,
            "top": null,
            "visibility": null,
            "width": null
          }
        },
        "85e2ca7b576e4101af05f2b378e1a88d": {
          "model_module": "@jupyter-widgets/controls",
          "model_name": "DescriptionStyleModel",
          "model_module_version": "1.5.0",
          "state": {
            "_model_module": "@jupyter-widgets/controls",
            "_model_module_version": "1.5.0",
            "_model_name": "DescriptionStyleModel",
            "_view_count": null,
            "_view_module": "@jupyter-widgets/base",
            "_view_module_version": "1.2.0",
            "_view_name": "StyleView",
            "description_width": ""
          }
        },
        "9802918eb099469c9158d323ee827055": {
          "model_module": "@jupyter-widgets/base",
          "model_name": "LayoutModel",
          "model_module_version": "1.2.0",
          "state": {
            "_model_module": "@jupyter-widgets/base",
            "_model_module_version": "1.2.0",
            "_model_name": "LayoutModel",
            "_view_count": null,
            "_view_module": "@jupyter-widgets/base",
            "_view_module_version": "1.2.0",
            "_view_name": "LayoutView",
            "align_content": null,
            "align_items": null,
            "align_self": null,
            "border": null,
            "bottom": null,
            "display": null,
            "flex": null,
            "flex_flow": null,
            "grid_area": null,
            "grid_auto_columns": null,
            "grid_auto_flow": null,
            "grid_auto_rows": null,
            "grid_column": null,
            "grid_gap": null,
            "grid_row": null,
            "grid_template_areas": null,
            "grid_template_columns": null,
            "grid_template_rows": null,
            "height": null,
            "justify_content": null,
            "justify_items": null,
            "left": null,
            "margin": null,
            "max_height": null,
            "max_width": null,
            "min_height": null,
            "min_width": null,
            "object_fit": null,
            "object_position": null,
            "order": null,
            "overflow": null,
            "overflow_x": null,
            "overflow_y": null,
            "padding": null,
            "right": null,
            "top": null,
            "visibility": null,
            "width": null
          }
        },
        "903baf8ad5ad429587d2b91007850f30": {
          "model_module": "@jupyter-widgets/controls",
          "model_name": "ProgressStyleModel",
          "model_module_version": "1.5.0",
          "state": {
            "_model_module": "@jupyter-widgets/controls",
            "_model_module_version": "1.5.0",
            "_model_name": "ProgressStyleModel",
            "_view_count": null,
            "_view_module": "@jupyter-widgets/base",
            "_view_module_version": "1.2.0",
            "_view_name": "StyleView",
            "bar_color": null,
            "description_width": ""
          }
        },
        "84f6f476934644ada36f8d6c63ea54ae": {
          "model_module": "@jupyter-widgets/base",
          "model_name": "LayoutModel",
          "model_module_version": "1.2.0",
          "state": {
            "_model_module": "@jupyter-widgets/base",
            "_model_module_version": "1.2.0",
            "_model_name": "LayoutModel",
            "_view_count": null,
            "_view_module": "@jupyter-widgets/base",
            "_view_module_version": "1.2.0",
            "_view_name": "LayoutView",
            "align_content": null,
            "align_items": null,
            "align_self": null,
            "border": null,
            "bottom": null,
            "display": null,
            "flex": null,
            "flex_flow": null,
            "grid_area": null,
            "grid_auto_columns": null,
            "grid_auto_flow": null,
            "grid_auto_rows": null,
            "grid_column": null,
            "grid_gap": null,
            "grid_row": null,
            "grid_template_areas": null,
            "grid_template_columns": null,
            "grid_template_rows": null,
            "height": null,
            "justify_content": null,
            "justify_items": null,
            "left": null,
            "margin": null,
            "max_height": null,
            "max_width": null,
            "min_height": null,
            "min_width": null,
            "object_fit": null,
            "object_position": null,
            "order": null,
            "overflow": null,
            "overflow_x": null,
            "overflow_y": null,
            "padding": null,
            "right": null,
            "top": null,
            "visibility": null,
            "width": null
          }
        },
        "d42a60b521b640d8bfaadfb5209191d5": {
          "model_module": "@jupyter-widgets/controls",
          "model_name": "DescriptionStyleModel",
          "model_module_version": "1.5.0",
          "state": {
            "_model_module": "@jupyter-widgets/controls",
            "_model_module_version": "1.5.0",
            "_model_name": "DescriptionStyleModel",
            "_view_count": null,
            "_view_module": "@jupyter-widgets/base",
            "_view_module_version": "1.2.0",
            "_view_name": "StyleView",
            "description_width": ""
          }
        },
        "8650d5a070964c1b8720d70ae6a9b904": {
          "model_module": "@jupyter-widgets/controls",
          "model_name": "HBoxModel",
          "model_module_version": "1.5.0",
          "state": {
            "_dom_classes": [],
            "_model_module": "@jupyter-widgets/controls",
            "_model_module_version": "1.5.0",
            "_model_name": "HBoxModel",
            "_view_count": null,
            "_view_module": "@jupyter-widgets/controls",
            "_view_module_version": "1.5.0",
            "_view_name": "HBoxView",
            "box_style": "",
            "children": [
              "IPY_MODEL_9f791fb3de2540c7b6dae78fbefca8c6",
              "IPY_MODEL_901a2c781c7748cd8ae8a3ae3924ab70",
              "IPY_MODEL_9cc1e90ad9e94ae3a8c6973311af0b22"
            ],
            "layout": "IPY_MODEL_ce9d224d566441e2a982d724d232ce53"
          }
        },
        "9f791fb3de2540c7b6dae78fbefca8c6": {
          "model_module": "@jupyter-widgets/controls",
          "model_name": "HTMLModel",
          "model_module_version": "1.5.0",
          "state": {
            "_dom_classes": [],
            "_model_module": "@jupyter-widgets/controls",
            "_model_module_version": "1.5.0",
            "_model_name": "HTMLModel",
            "_view_count": null,
            "_view_module": "@jupyter-widgets/controls",
            "_view_module_version": "1.5.0",
            "_view_name": "HTMLView",
            "description": "",
            "description_tooltip": null,
            "layout": "IPY_MODEL_c46a76025e804c8b8dc0552da9040871",
            "placeholder": "​",
            "style": "IPY_MODEL_0c28543d059745c3a117c8faa8097595",
            "value": "vocab.txt: 100%"
          }
        },
        "901a2c781c7748cd8ae8a3ae3924ab70": {
          "model_module": "@jupyter-widgets/controls",
          "model_name": "FloatProgressModel",
          "model_module_version": "1.5.0",
          "state": {
            "_dom_classes": [],
            "_model_module": "@jupyter-widgets/controls",
            "_model_module_version": "1.5.0",
            "_model_name": "FloatProgressModel",
            "_view_count": null,
            "_view_module": "@jupyter-widgets/controls",
            "_view_module_version": "1.5.0",
            "_view_name": "ProgressView",
            "bar_style": "success",
            "description": "",
            "description_tooltip": null,
            "layout": "IPY_MODEL_fab48dce59d14eafb1e44b68fd621da4",
            "max": 231508,
            "min": 0,
            "orientation": "horizontal",
            "style": "IPY_MODEL_3f1274a2723846239c66b928283220e1",
            "value": 231508
          }
        },
        "9cc1e90ad9e94ae3a8c6973311af0b22": {
          "model_module": "@jupyter-widgets/controls",
          "model_name": "HTMLModel",
          "model_module_version": "1.5.0",
          "state": {
            "_dom_classes": [],
            "_model_module": "@jupyter-widgets/controls",
            "_model_module_version": "1.5.0",
            "_model_name": "HTMLModel",
            "_view_count": null,
            "_view_module": "@jupyter-widgets/controls",
            "_view_module_version": "1.5.0",
            "_view_name": "HTMLView",
            "description": "",
            "description_tooltip": null,
            "layout": "IPY_MODEL_de82b2c474514420bc1f89fc9a48f392",
            "placeholder": "​",
            "style": "IPY_MODEL_8489a7360500467ca10e4ddf549196c8",
            "value": " 232k/232k [00:00&lt;00:00, 1.92MB/s]"
          }
        },
        "ce9d224d566441e2a982d724d232ce53": {
          "model_module": "@jupyter-widgets/base",
          "model_name": "LayoutModel",
          "model_module_version": "1.2.0",
          "state": {
            "_model_module": "@jupyter-widgets/base",
            "_model_module_version": "1.2.0",
            "_model_name": "LayoutModel",
            "_view_count": null,
            "_view_module": "@jupyter-widgets/base",
            "_view_module_version": "1.2.0",
            "_view_name": "LayoutView",
            "align_content": null,
            "align_items": null,
            "align_self": null,
            "border": null,
            "bottom": null,
            "display": null,
            "flex": null,
            "flex_flow": null,
            "grid_area": null,
            "grid_auto_columns": null,
            "grid_auto_flow": null,
            "grid_auto_rows": null,
            "grid_column": null,
            "grid_gap": null,
            "grid_row": null,
            "grid_template_areas": null,
            "grid_template_columns": null,
            "grid_template_rows": null,
            "height": null,
            "justify_content": null,
            "justify_items": null,
            "left": null,
            "margin": null,
            "max_height": null,
            "max_width": null,
            "min_height": null,
            "min_width": null,
            "object_fit": null,
            "object_position": null,
            "order": null,
            "overflow": null,
            "overflow_x": null,
            "overflow_y": null,
            "padding": null,
            "right": null,
            "top": null,
            "visibility": null,
            "width": null
          }
        },
        "c46a76025e804c8b8dc0552da9040871": {
          "model_module": "@jupyter-widgets/base",
          "model_name": "LayoutModel",
          "model_module_version": "1.2.0",
          "state": {
            "_model_module": "@jupyter-widgets/base",
            "_model_module_version": "1.2.0",
            "_model_name": "LayoutModel",
            "_view_count": null,
            "_view_module": "@jupyter-widgets/base",
            "_view_module_version": "1.2.0",
            "_view_name": "LayoutView",
            "align_content": null,
            "align_items": null,
            "align_self": null,
            "border": null,
            "bottom": null,
            "display": null,
            "flex": null,
            "flex_flow": null,
            "grid_area": null,
            "grid_auto_columns": null,
            "grid_auto_flow": null,
            "grid_auto_rows": null,
            "grid_column": null,
            "grid_gap": null,
            "grid_row": null,
            "grid_template_areas": null,
            "grid_template_columns": null,
            "grid_template_rows": null,
            "height": null,
            "justify_content": null,
            "justify_items": null,
            "left": null,
            "margin": null,
            "max_height": null,
            "max_width": null,
            "min_height": null,
            "min_width": null,
            "object_fit": null,
            "object_position": null,
            "order": null,
            "overflow": null,
            "overflow_x": null,
            "overflow_y": null,
            "padding": null,
            "right": null,
            "top": null,
            "visibility": null,
            "width": null
          }
        },
        "0c28543d059745c3a117c8faa8097595": {
          "model_module": "@jupyter-widgets/controls",
          "model_name": "DescriptionStyleModel",
          "model_module_version": "1.5.0",
          "state": {
            "_model_module": "@jupyter-widgets/controls",
            "_model_module_version": "1.5.0",
            "_model_name": "DescriptionStyleModel",
            "_view_count": null,
            "_view_module": "@jupyter-widgets/base",
            "_view_module_version": "1.2.0",
            "_view_name": "StyleView",
            "description_width": ""
          }
        },
        "fab48dce59d14eafb1e44b68fd621da4": {
          "model_module": "@jupyter-widgets/base",
          "model_name": "LayoutModel",
          "model_module_version": "1.2.0",
          "state": {
            "_model_module": "@jupyter-widgets/base",
            "_model_module_version": "1.2.0",
            "_model_name": "LayoutModel",
            "_view_count": null,
            "_view_module": "@jupyter-widgets/base",
            "_view_module_version": "1.2.0",
            "_view_name": "LayoutView",
            "align_content": null,
            "align_items": null,
            "align_self": null,
            "border": null,
            "bottom": null,
            "display": null,
            "flex": null,
            "flex_flow": null,
            "grid_area": null,
            "grid_auto_columns": null,
            "grid_auto_flow": null,
            "grid_auto_rows": null,
            "grid_column": null,
            "grid_gap": null,
            "grid_row": null,
            "grid_template_areas": null,
            "grid_template_columns": null,
            "grid_template_rows": null,
            "height": null,
            "justify_content": null,
            "justify_items": null,
            "left": null,
            "margin": null,
            "max_height": null,
            "max_width": null,
            "min_height": null,
            "min_width": null,
            "object_fit": null,
            "object_position": null,
            "order": null,
            "overflow": null,
            "overflow_x": null,
            "overflow_y": null,
            "padding": null,
            "right": null,
            "top": null,
            "visibility": null,
            "width": null
          }
        },
        "3f1274a2723846239c66b928283220e1": {
          "model_module": "@jupyter-widgets/controls",
          "model_name": "ProgressStyleModel",
          "model_module_version": "1.5.0",
          "state": {
            "_model_module": "@jupyter-widgets/controls",
            "_model_module_version": "1.5.0",
            "_model_name": "ProgressStyleModel",
            "_view_count": null,
            "_view_module": "@jupyter-widgets/base",
            "_view_module_version": "1.2.0",
            "_view_name": "StyleView",
            "bar_color": null,
            "description_width": ""
          }
        },
        "de82b2c474514420bc1f89fc9a48f392": {
          "model_module": "@jupyter-widgets/base",
          "model_name": "LayoutModel",
          "model_module_version": "1.2.0",
          "state": {
            "_model_module": "@jupyter-widgets/base",
            "_model_module_version": "1.2.0",
            "_model_name": "LayoutModel",
            "_view_count": null,
            "_view_module": "@jupyter-widgets/base",
            "_view_module_version": "1.2.0",
            "_view_name": "LayoutView",
            "align_content": null,
            "align_items": null,
            "align_self": null,
            "border": null,
            "bottom": null,
            "display": null,
            "flex": null,
            "flex_flow": null,
            "grid_area": null,
            "grid_auto_columns": null,
            "grid_auto_flow": null,
            "grid_auto_rows": null,
            "grid_column": null,
            "grid_gap": null,
            "grid_row": null,
            "grid_template_areas": null,
            "grid_template_columns": null,
            "grid_template_rows": null,
            "height": null,
            "justify_content": null,
            "justify_items": null,
            "left": null,
            "margin": null,
            "max_height": null,
            "max_width": null,
            "min_height": null,
            "min_width": null,
            "object_fit": null,
            "object_position": null,
            "order": null,
            "overflow": null,
            "overflow_x": null,
            "overflow_y": null,
            "padding": null,
            "right": null,
            "top": null,
            "visibility": null,
            "width": null
          }
        },
        "8489a7360500467ca10e4ddf549196c8": {
          "model_module": "@jupyter-widgets/controls",
          "model_name": "DescriptionStyleModel",
          "model_module_version": "1.5.0",
          "state": {
            "_model_module": "@jupyter-widgets/controls",
            "_model_module_version": "1.5.0",
            "_model_name": "DescriptionStyleModel",
            "_view_count": null,
            "_view_module": "@jupyter-widgets/base",
            "_view_module_version": "1.2.0",
            "_view_name": "StyleView",
            "description_width": ""
          }
        },
        "c84b2c95fb89468ca4833516e3f24f91": {
          "model_module": "@jupyter-widgets/controls",
          "model_name": "HBoxModel",
          "model_module_version": "1.5.0",
          "state": {
            "_dom_classes": [],
            "_model_module": "@jupyter-widgets/controls",
            "_model_module_version": "1.5.0",
            "_model_name": "HBoxModel",
            "_view_count": null,
            "_view_module": "@jupyter-widgets/controls",
            "_view_module_version": "1.5.0",
            "_view_name": "HBoxView",
            "box_style": "",
            "children": [
              "IPY_MODEL_db10f775c067459a8171b8cc43b9be01",
              "IPY_MODEL_49a14b1437c44251b33293836a727f39",
              "IPY_MODEL_dbdc8af4dd8b4c5db4e81f46d5fa72bd"
            ],
            "layout": "IPY_MODEL_b7cace7f47db4f9b9aa023b3b6a3d1df"
          }
        },
        "db10f775c067459a8171b8cc43b9be01": {
          "model_module": "@jupyter-widgets/controls",
          "model_name": "HTMLModel",
          "model_module_version": "1.5.0",
          "state": {
            "_dom_classes": [],
            "_model_module": "@jupyter-widgets/controls",
            "_model_module_version": "1.5.0",
            "_model_name": "HTMLModel",
            "_view_count": null,
            "_view_module": "@jupyter-widgets/controls",
            "_view_module_version": "1.5.0",
            "_view_name": "HTMLView",
            "description": "",
            "description_tooltip": null,
            "layout": "IPY_MODEL_3a7cbddc744143ce96b740f33fa64140",
            "placeholder": "​",
            "style": "IPY_MODEL_ad4dc261ffa046d9b98bf2d2243bd904",
            "value": "tokenizer.json: 100%"
          }
        },
        "49a14b1437c44251b33293836a727f39": {
          "model_module": "@jupyter-widgets/controls",
          "model_name": "FloatProgressModel",
          "model_module_version": "1.5.0",
          "state": {
            "_dom_classes": [],
            "_model_module": "@jupyter-widgets/controls",
            "_model_module_version": "1.5.0",
            "_model_name": "FloatProgressModel",
            "_view_count": null,
            "_view_module": "@jupyter-widgets/controls",
            "_view_module_version": "1.5.0",
            "_view_name": "ProgressView",
            "bar_style": "success",
            "description": "",
            "description_tooltip": null,
            "layout": "IPY_MODEL_b2123230b04f4198b33b70b1e1f6cf7d",
            "max": 466062,
            "min": 0,
            "orientation": "horizontal",
            "style": "IPY_MODEL_77a7d07a50b24654a4ce7ed45a6932d1",
            "value": 466062
          }
        },
        "dbdc8af4dd8b4c5db4e81f46d5fa72bd": {
          "model_module": "@jupyter-widgets/controls",
          "model_name": "HTMLModel",
          "model_module_version": "1.5.0",
          "state": {
            "_dom_classes": [],
            "_model_module": "@jupyter-widgets/controls",
            "_model_module_version": "1.5.0",
            "_model_name": "HTMLModel",
            "_view_count": null,
            "_view_module": "@jupyter-widgets/controls",
            "_view_module_version": "1.5.0",
            "_view_name": "HTMLView",
            "description": "",
            "description_tooltip": null,
            "layout": "IPY_MODEL_88984463fa8a4d7e8f7bc7209ba7a515",
            "placeholder": "​",
            "style": "IPY_MODEL_8daa7cc8f1b748469a92529d2c758a77",
            "value": " 466k/466k [00:00&lt;00:00, 13.8MB/s]"
          }
        },
        "b7cace7f47db4f9b9aa023b3b6a3d1df": {
          "model_module": "@jupyter-widgets/base",
          "model_name": "LayoutModel",
          "model_module_version": "1.2.0",
          "state": {
            "_model_module": "@jupyter-widgets/base",
            "_model_module_version": "1.2.0",
            "_model_name": "LayoutModel",
            "_view_count": null,
            "_view_module": "@jupyter-widgets/base",
            "_view_module_version": "1.2.0",
            "_view_name": "LayoutView",
            "align_content": null,
            "align_items": null,
            "align_self": null,
            "border": null,
            "bottom": null,
            "display": null,
            "flex": null,
            "flex_flow": null,
            "grid_area": null,
            "grid_auto_columns": null,
            "grid_auto_flow": null,
            "grid_auto_rows": null,
            "grid_column": null,
            "grid_gap": null,
            "grid_row": null,
            "grid_template_areas": null,
            "grid_template_columns": null,
            "grid_template_rows": null,
            "height": null,
            "justify_content": null,
            "justify_items": null,
            "left": null,
            "margin": null,
            "max_height": null,
            "max_width": null,
            "min_height": null,
            "min_width": null,
            "object_fit": null,
            "object_position": null,
            "order": null,
            "overflow": null,
            "overflow_x": null,
            "overflow_y": null,
            "padding": null,
            "right": null,
            "top": null,
            "visibility": null,
            "width": null
          }
        },
        "3a7cbddc744143ce96b740f33fa64140": {
          "model_module": "@jupyter-widgets/base",
          "model_name": "LayoutModel",
          "model_module_version": "1.2.0",
          "state": {
            "_model_module": "@jupyter-widgets/base",
            "_model_module_version": "1.2.0",
            "_model_name": "LayoutModel",
            "_view_count": null,
            "_view_module": "@jupyter-widgets/base",
            "_view_module_version": "1.2.0",
            "_view_name": "LayoutView",
            "align_content": null,
            "align_items": null,
            "align_self": null,
            "border": null,
            "bottom": null,
            "display": null,
            "flex": null,
            "flex_flow": null,
            "grid_area": null,
            "grid_auto_columns": null,
            "grid_auto_flow": null,
            "grid_auto_rows": null,
            "grid_column": null,
            "grid_gap": null,
            "grid_row": null,
            "grid_template_areas": null,
            "grid_template_columns": null,
            "grid_template_rows": null,
            "height": null,
            "justify_content": null,
            "justify_items": null,
            "left": null,
            "margin": null,
            "max_height": null,
            "max_width": null,
            "min_height": null,
            "min_width": null,
            "object_fit": null,
            "object_position": null,
            "order": null,
            "overflow": null,
            "overflow_x": null,
            "overflow_y": null,
            "padding": null,
            "right": null,
            "top": null,
            "visibility": null,
            "width": null
          }
        },
        "ad4dc261ffa046d9b98bf2d2243bd904": {
          "model_module": "@jupyter-widgets/controls",
          "model_name": "DescriptionStyleModel",
          "model_module_version": "1.5.0",
          "state": {
            "_model_module": "@jupyter-widgets/controls",
            "_model_module_version": "1.5.0",
            "_model_name": "DescriptionStyleModel",
            "_view_count": null,
            "_view_module": "@jupyter-widgets/base",
            "_view_module_version": "1.2.0",
            "_view_name": "StyleView",
            "description_width": ""
          }
        },
        "b2123230b04f4198b33b70b1e1f6cf7d": {
          "model_module": "@jupyter-widgets/base",
          "model_name": "LayoutModel",
          "model_module_version": "1.2.0",
          "state": {
            "_model_module": "@jupyter-widgets/base",
            "_model_module_version": "1.2.0",
            "_model_name": "LayoutModel",
            "_view_count": null,
            "_view_module": "@jupyter-widgets/base",
            "_view_module_version": "1.2.0",
            "_view_name": "LayoutView",
            "align_content": null,
            "align_items": null,
            "align_self": null,
            "border": null,
            "bottom": null,
            "display": null,
            "flex": null,
            "flex_flow": null,
            "grid_area": null,
            "grid_auto_columns": null,
            "grid_auto_flow": null,
            "grid_auto_rows": null,
            "grid_column": null,
            "grid_gap": null,
            "grid_row": null,
            "grid_template_areas": null,
            "grid_template_columns": null,
            "grid_template_rows": null,
            "height": null,
            "justify_content": null,
            "justify_items": null,
            "left": null,
            "margin": null,
            "max_height": null,
            "max_width": null,
            "min_height": null,
            "min_width": null,
            "object_fit": null,
            "object_position": null,
            "order": null,
            "overflow": null,
            "overflow_x": null,
            "overflow_y": null,
            "padding": null,
            "right": null,
            "top": null,
            "visibility": null,
            "width": null
          }
        },
        "77a7d07a50b24654a4ce7ed45a6932d1": {
          "model_module": "@jupyter-widgets/controls",
          "model_name": "ProgressStyleModel",
          "model_module_version": "1.5.0",
          "state": {
            "_model_module": "@jupyter-widgets/controls",
            "_model_module_version": "1.5.0",
            "_model_name": "ProgressStyleModel",
            "_view_count": null,
            "_view_module": "@jupyter-widgets/base",
            "_view_module_version": "1.2.0",
            "_view_name": "StyleView",
            "bar_color": null,
            "description_width": ""
          }
        },
        "88984463fa8a4d7e8f7bc7209ba7a515": {
          "model_module": "@jupyter-widgets/base",
          "model_name": "LayoutModel",
          "model_module_version": "1.2.0",
          "state": {
            "_model_module": "@jupyter-widgets/base",
            "_model_module_version": "1.2.0",
            "_model_name": "LayoutModel",
            "_view_count": null,
            "_view_module": "@jupyter-widgets/base",
            "_view_module_version": "1.2.0",
            "_view_name": "LayoutView",
            "align_content": null,
            "align_items": null,
            "align_self": null,
            "border": null,
            "bottom": null,
            "display": null,
            "flex": null,
            "flex_flow": null,
            "grid_area": null,
            "grid_auto_columns": null,
            "grid_auto_flow": null,
            "grid_auto_rows": null,
            "grid_column": null,
            "grid_gap": null,
            "grid_row": null,
            "grid_template_areas": null,
            "grid_template_columns": null,
            "grid_template_rows": null,
            "height": null,
            "justify_content": null,
            "justify_items": null,
            "left": null,
            "margin": null,
            "max_height": null,
            "max_width": null,
            "min_height": null,
            "min_width": null,
            "object_fit": null,
            "object_position": null,
            "order": null,
            "overflow": null,
            "overflow_x": null,
            "overflow_y": null,
            "padding": null,
            "right": null,
            "top": null,
            "visibility": null,
            "width": null
          }
        },
        "8daa7cc8f1b748469a92529d2c758a77": {
          "model_module": "@jupyter-widgets/controls",
          "model_name": "DescriptionStyleModel",
          "model_module_version": "1.5.0",
          "state": {
            "_model_module": "@jupyter-widgets/controls",
            "_model_module_version": "1.5.0",
            "_model_name": "DescriptionStyleModel",
            "_view_count": null,
            "_view_module": "@jupyter-widgets/base",
            "_view_module_version": "1.2.0",
            "_view_name": "StyleView",
            "description_width": ""
          }
        },
        "46ee3abcd7594ab182c05affc5146436": {
          "model_module": "@jupyter-widgets/controls",
          "model_name": "HBoxModel",
          "model_module_version": "1.5.0",
          "state": {
            "_dom_classes": [],
            "_model_module": "@jupyter-widgets/controls",
            "_model_module_version": "1.5.0",
            "_model_name": "HBoxModel",
            "_view_count": null,
            "_view_module": "@jupyter-widgets/controls",
            "_view_module_version": "1.5.0",
            "_view_name": "HBoxView",
            "box_style": "",
            "children": [
              "IPY_MODEL_aa2cf5f6b9fb44609a423d2d0d76d57b",
              "IPY_MODEL_6316459e30134eb8adde2d5d8ac30a33",
              "IPY_MODEL_beaf8336cc2b4f86a102e551b05dfef6"
            ],
            "layout": "IPY_MODEL_eefccb27af554b2e900509f434269525"
          }
        },
        "aa2cf5f6b9fb44609a423d2d0d76d57b": {
          "model_module": "@jupyter-widgets/controls",
          "model_name": "HTMLModel",
          "model_module_version": "1.5.0",
          "state": {
            "_dom_classes": [],
            "_model_module": "@jupyter-widgets/controls",
            "_model_module_version": "1.5.0",
            "_model_name": "HTMLModel",
            "_view_count": null,
            "_view_module": "@jupyter-widgets/controls",
            "_view_module_version": "1.5.0",
            "_view_name": "HTMLView",
            "description": "",
            "description_tooltip": null,
            "layout": "IPY_MODEL_d60b2b296776424e9e7663941f6c4299",
            "placeholder": "​",
            "style": "IPY_MODEL_b7a0c5d28b6d43e9b5994a551e192023",
            "value": "Map (num_proc=4): 100%"
          }
        },
        "6316459e30134eb8adde2d5d8ac30a33": {
          "model_module": "@jupyter-widgets/controls",
          "model_name": "FloatProgressModel",
          "model_module_version": "1.5.0",
          "state": {
            "_dom_classes": [],
            "_model_module": "@jupyter-widgets/controls",
            "_model_module_version": "1.5.0",
            "_model_name": "FloatProgressModel",
            "_view_count": null,
            "_view_module": "@jupyter-widgets/controls",
            "_view_module_version": "1.5.0",
            "_view_name": "ProgressView",
            "bar_style": "success",
            "description": "",
            "description_tooltip": null,
            "layout": "IPY_MODEL_ae2a695f89af42339323e8680ed1c1c1",
            "max": 700000,
            "min": 0,
            "orientation": "horizontal",
            "style": "IPY_MODEL_1db80c976c754fd18335c89e9d37b048",
            "value": 700000
          }
        },
        "beaf8336cc2b4f86a102e551b05dfef6": {
          "model_module": "@jupyter-widgets/controls",
          "model_name": "HTMLModel",
          "model_module_version": "1.5.0",
          "state": {
            "_dom_classes": [],
            "_model_module": "@jupyter-widgets/controls",
            "_model_module_version": "1.5.0",
            "_model_name": "HTMLModel",
            "_view_count": null,
            "_view_module": "@jupyter-widgets/controls",
            "_view_module_version": "1.5.0",
            "_view_name": "HTMLView",
            "description": "",
            "description_tooltip": null,
            "layout": "IPY_MODEL_fc82d88204de40f3a1ec44c93c060cae",
            "placeholder": "​",
            "style": "IPY_MODEL_b9d1820c9449465db0ccfc3e8e867dad",
            "value": " 700000/700000 [07:07&lt;00:00, 1466.58 examples/s]"
          }
        },
        "eefccb27af554b2e900509f434269525": {
          "model_module": "@jupyter-widgets/base",
          "model_name": "LayoutModel",
          "model_module_version": "1.2.0",
          "state": {
            "_model_module": "@jupyter-widgets/base",
            "_model_module_version": "1.2.0",
            "_model_name": "LayoutModel",
            "_view_count": null,
            "_view_module": "@jupyter-widgets/base",
            "_view_module_version": "1.2.0",
            "_view_name": "LayoutView",
            "align_content": null,
            "align_items": null,
            "align_self": null,
            "border": null,
            "bottom": null,
            "display": null,
            "flex": null,
            "flex_flow": null,
            "grid_area": null,
            "grid_auto_columns": null,
            "grid_auto_flow": null,
            "grid_auto_rows": null,
            "grid_column": null,
            "grid_gap": null,
            "grid_row": null,
            "grid_template_areas": null,
            "grid_template_columns": null,
            "grid_template_rows": null,
            "height": null,
            "justify_content": null,
            "justify_items": null,
            "left": null,
            "margin": null,
            "max_height": null,
            "max_width": null,
            "min_height": null,
            "min_width": null,
            "object_fit": null,
            "object_position": null,
            "order": null,
            "overflow": null,
            "overflow_x": null,
            "overflow_y": null,
            "padding": null,
            "right": null,
            "top": null,
            "visibility": null,
            "width": null
          }
        },
        "d60b2b296776424e9e7663941f6c4299": {
          "model_module": "@jupyter-widgets/base",
          "model_name": "LayoutModel",
          "model_module_version": "1.2.0",
          "state": {
            "_model_module": "@jupyter-widgets/base",
            "_model_module_version": "1.2.0",
            "_model_name": "LayoutModel",
            "_view_count": null,
            "_view_module": "@jupyter-widgets/base",
            "_view_module_version": "1.2.0",
            "_view_name": "LayoutView",
            "align_content": null,
            "align_items": null,
            "align_self": null,
            "border": null,
            "bottom": null,
            "display": null,
            "flex": null,
            "flex_flow": null,
            "grid_area": null,
            "grid_auto_columns": null,
            "grid_auto_flow": null,
            "grid_auto_rows": null,
            "grid_column": null,
            "grid_gap": null,
            "grid_row": null,
            "grid_template_areas": null,
            "grid_template_columns": null,
            "grid_template_rows": null,
            "height": null,
            "justify_content": null,
            "justify_items": null,
            "left": null,
            "margin": null,
            "max_height": null,
            "max_width": null,
            "min_height": null,
            "min_width": null,
            "object_fit": null,
            "object_position": null,
            "order": null,
            "overflow": null,
            "overflow_x": null,
            "overflow_y": null,
            "padding": null,
            "right": null,
            "top": null,
            "visibility": null,
            "width": null
          }
        },
        "b7a0c5d28b6d43e9b5994a551e192023": {
          "model_module": "@jupyter-widgets/controls",
          "model_name": "DescriptionStyleModel",
          "model_module_version": "1.5.0",
          "state": {
            "_model_module": "@jupyter-widgets/controls",
            "_model_module_version": "1.5.0",
            "_model_name": "DescriptionStyleModel",
            "_view_count": null,
            "_view_module": "@jupyter-widgets/base",
            "_view_module_version": "1.2.0",
            "_view_name": "StyleView",
            "description_width": ""
          }
        },
        "ae2a695f89af42339323e8680ed1c1c1": {
          "model_module": "@jupyter-widgets/base",
          "model_name": "LayoutModel",
          "model_module_version": "1.2.0",
          "state": {
            "_model_module": "@jupyter-widgets/base",
            "_model_module_version": "1.2.0",
            "_model_name": "LayoutModel",
            "_view_count": null,
            "_view_module": "@jupyter-widgets/base",
            "_view_module_version": "1.2.0",
            "_view_name": "LayoutView",
            "align_content": null,
            "align_items": null,
            "align_self": null,
            "border": null,
            "bottom": null,
            "display": null,
            "flex": null,
            "flex_flow": null,
            "grid_area": null,
            "grid_auto_columns": null,
            "grid_auto_flow": null,
            "grid_auto_rows": null,
            "grid_column": null,
            "grid_gap": null,
            "grid_row": null,
            "grid_template_areas": null,
            "grid_template_columns": null,
            "grid_template_rows": null,
            "height": null,
            "justify_content": null,
            "justify_items": null,
            "left": null,
            "margin": null,
            "max_height": null,
            "max_width": null,
            "min_height": null,
            "min_width": null,
            "object_fit": null,
            "object_position": null,
            "order": null,
            "overflow": null,
            "overflow_x": null,
            "overflow_y": null,
            "padding": null,
            "right": null,
            "top": null,
            "visibility": null,
            "width": null
          }
        },
        "1db80c976c754fd18335c89e9d37b048": {
          "model_module": "@jupyter-widgets/controls",
          "model_name": "ProgressStyleModel",
          "model_module_version": "1.5.0",
          "state": {
            "_model_module": "@jupyter-widgets/controls",
            "_model_module_version": "1.5.0",
            "_model_name": "ProgressStyleModel",
            "_view_count": null,
            "_view_module": "@jupyter-widgets/base",
            "_view_module_version": "1.2.0",
            "_view_name": "StyleView",
            "bar_color": null,
            "description_width": ""
          }
        },
        "fc82d88204de40f3a1ec44c93c060cae": {
          "model_module": "@jupyter-widgets/base",
          "model_name": "LayoutModel",
          "model_module_version": "1.2.0",
          "state": {
            "_model_module": "@jupyter-widgets/base",
            "_model_module_version": "1.2.0",
            "_model_name": "LayoutModel",
            "_view_count": null,
            "_view_module": "@jupyter-widgets/base",
            "_view_module_version": "1.2.0",
            "_view_name": "LayoutView",
            "align_content": null,
            "align_items": null,
            "align_self": null,
            "border": null,
            "bottom": null,
            "display": null,
            "flex": null,
            "flex_flow": null,
            "grid_area": null,
            "grid_auto_columns": null,
            "grid_auto_flow": null,
            "grid_auto_rows": null,
            "grid_column": null,
            "grid_gap": null,
            "grid_row": null,
            "grid_template_areas": null,
            "grid_template_columns": null,
            "grid_template_rows": null,
            "height": null,
            "justify_content": null,
            "justify_items": null,
            "left": null,
            "margin": null,
            "max_height": null,
            "max_width": null,
            "min_height": null,
            "min_width": null,
            "object_fit": null,
            "object_position": null,
            "order": null,
            "overflow": null,
            "overflow_x": null,
            "overflow_y": null,
            "padding": null,
            "right": null,
            "top": null,
            "visibility": null,
            "width": null
          }
        },
        "b9d1820c9449465db0ccfc3e8e867dad": {
          "model_module": "@jupyter-widgets/controls",
          "model_name": "DescriptionStyleModel",
          "model_module_version": "1.5.0",
          "state": {
            "_model_module": "@jupyter-widgets/controls",
            "_model_module_version": "1.5.0",
            "_model_name": "DescriptionStyleModel",
            "_view_count": null,
            "_view_module": "@jupyter-widgets/base",
            "_view_module_version": "1.2.0",
            "_view_name": "StyleView",
            "description_width": ""
          }
        },
        "03f8fa2579b84d5eac40b3c73ffe1599": {
          "model_module": "@jupyter-widgets/controls",
          "model_name": "HBoxModel",
          "model_module_version": "1.5.0",
          "state": {
            "_dom_classes": [],
            "_model_module": "@jupyter-widgets/controls",
            "_model_module_version": "1.5.0",
            "_model_name": "HBoxModel",
            "_view_count": null,
            "_view_module": "@jupyter-widgets/controls",
            "_view_module_version": "1.5.0",
            "_view_name": "HBoxView",
            "box_style": "",
            "children": [
              "IPY_MODEL_84adfea7ff104ba79f6c5ce578cb8cc7",
              "IPY_MODEL_1ab6d90cdf23459b9563e74c7b3da879",
              "IPY_MODEL_b21117a4942048c6812c1fe0711594ac"
            ],
            "layout": "IPY_MODEL_dc4eda5d6c48414d9985024394238d1f"
          }
        },
        "84adfea7ff104ba79f6c5ce578cb8cc7": {
          "model_module": "@jupyter-widgets/controls",
          "model_name": "HTMLModel",
          "model_module_version": "1.5.0",
          "state": {
            "_dom_classes": [],
            "_model_module": "@jupyter-widgets/controls",
            "_model_module_version": "1.5.0",
            "_model_name": "HTMLModel",
            "_view_count": null,
            "_view_module": "@jupyter-widgets/controls",
            "_view_module_version": "1.5.0",
            "_view_name": "HTMLView",
            "description": "",
            "description_tooltip": null,
            "layout": "IPY_MODEL_1dc882b6e9944188b85f56c0bc485988",
            "placeholder": "​",
            "style": "IPY_MODEL_92d0e40ba6844ef78db3c20ad56a5d98",
            "value": "Map (num_proc=4): 100%"
          }
        },
        "1ab6d90cdf23459b9563e74c7b3da879": {
          "model_module": "@jupyter-widgets/controls",
          "model_name": "FloatProgressModel",
          "model_module_version": "1.5.0",
          "state": {
            "_dom_classes": [],
            "_model_module": "@jupyter-widgets/controls",
            "_model_module_version": "1.5.0",
            "_model_name": "FloatProgressModel",
            "_view_count": null,
            "_view_module": "@jupyter-widgets/controls",
            "_view_module_version": "1.5.0",
            "_view_name": "ProgressView",
            "bar_style": "success",
            "description": "",
            "description_tooltip": null,
            "layout": "IPY_MODEL_43ea8ba66439489a9aff11306007901b",
            "max": 700000,
            "min": 0,
            "orientation": "horizontal",
            "style": "IPY_MODEL_a5a42654373149c8b5cfcffcffa168a3",
            "value": 700000
          }
        },
        "b21117a4942048c6812c1fe0711594ac": {
          "model_module": "@jupyter-widgets/controls",
          "model_name": "HTMLModel",
          "model_module_version": "1.5.0",
          "state": {
            "_dom_classes": [],
            "_model_module": "@jupyter-widgets/controls",
            "_model_module_version": "1.5.0",
            "_model_name": "HTMLModel",
            "_view_count": null,
            "_view_module": "@jupyter-widgets/controls",
            "_view_module_version": "1.5.0",
            "_view_name": "HTMLView",
            "description": "",
            "description_tooltip": null,
            "layout": "IPY_MODEL_b06111cb251c44ba809334e136f28aeb",
            "placeholder": "​",
            "style": "IPY_MODEL_a059bb56361747df99f1a3d7e94ea198",
            "value": " 700000/700000 [02:40&lt;00:00, 5954.07 examples/s]"
          }
        },
        "dc4eda5d6c48414d9985024394238d1f": {
          "model_module": "@jupyter-widgets/base",
          "model_name": "LayoutModel",
          "model_module_version": "1.2.0",
          "state": {
            "_model_module": "@jupyter-widgets/base",
            "_model_module_version": "1.2.0",
            "_model_name": "LayoutModel",
            "_view_count": null,
            "_view_module": "@jupyter-widgets/base",
            "_view_module_version": "1.2.0",
            "_view_name": "LayoutView",
            "align_content": null,
            "align_items": null,
            "align_self": null,
            "border": null,
            "bottom": null,
            "display": null,
            "flex": null,
            "flex_flow": null,
            "grid_area": null,
            "grid_auto_columns": null,
            "grid_auto_flow": null,
            "grid_auto_rows": null,
            "grid_column": null,
            "grid_gap": null,
            "grid_row": null,
            "grid_template_areas": null,
            "grid_template_columns": null,
            "grid_template_rows": null,
            "height": null,
            "justify_content": null,
            "justify_items": null,
            "left": null,
            "margin": null,
            "max_height": null,
            "max_width": null,
            "min_height": null,
            "min_width": null,
            "object_fit": null,
            "object_position": null,
            "order": null,
            "overflow": null,
            "overflow_x": null,
            "overflow_y": null,
            "padding": null,
            "right": null,
            "top": null,
            "visibility": null,
            "width": null
          }
        },
        "1dc882b6e9944188b85f56c0bc485988": {
          "model_module": "@jupyter-widgets/base",
          "model_name": "LayoutModel",
          "model_module_version": "1.2.0",
          "state": {
            "_model_module": "@jupyter-widgets/base",
            "_model_module_version": "1.2.0",
            "_model_name": "LayoutModel",
            "_view_count": null,
            "_view_module": "@jupyter-widgets/base",
            "_view_module_version": "1.2.0",
            "_view_name": "LayoutView",
            "align_content": null,
            "align_items": null,
            "align_self": null,
            "border": null,
            "bottom": null,
            "display": null,
            "flex": null,
            "flex_flow": null,
            "grid_area": null,
            "grid_auto_columns": null,
            "grid_auto_flow": null,
            "grid_auto_rows": null,
            "grid_column": null,
            "grid_gap": null,
            "grid_row": null,
            "grid_template_areas": null,
            "grid_template_columns": null,
            "grid_template_rows": null,
            "height": null,
            "justify_content": null,
            "justify_items": null,
            "left": null,
            "margin": null,
            "max_height": null,
            "max_width": null,
            "min_height": null,
            "min_width": null,
            "object_fit": null,
            "object_position": null,
            "order": null,
            "overflow": null,
            "overflow_x": null,
            "overflow_y": null,
            "padding": null,
            "right": null,
            "top": null,
            "visibility": null,
            "width": null
          }
        },
        "92d0e40ba6844ef78db3c20ad56a5d98": {
          "model_module": "@jupyter-widgets/controls",
          "model_name": "DescriptionStyleModel",
          "model_module_version": "1.5.0",
          "state": {
            "_model_module": "@jupyter-widgets/controls",
            "_model_module_version": "1.5.0",
            "_model_name": "DescriptionStyleModel",
            "_view_count": null,
            "_view_module": "@jupyter-widgets/base",
            "_view_module_version": "1.2.0",
            "_view_name": "StyleView",
            "description_width": ""
          }
        },
        "43ea8ba66439489a9aff11306007901b": {
          "model_module": "@jupyter-widgets/base",
          "model_name": "LayoutModel",
          "model_module_version": "1.2.0",
          "state": {
            "_model_module": "@jupyter-widgets/base",
            "_model_module_version": "1.2.0",
            "_model_name": "LayoutModel",
            "_view_count": null,
            "_view_module": "@jupyter-widgets/base",
            "_view_module_version": "1.2.0",
            "_view_name": "LayoutView",
            "align_content": null,
            "align_items": null,
            "align_self": null,
            "border": null,
            "bottom": null,
            "display": null,
            "flex": null,
            "flex_flow": null,
            "grid_area": null,
            "grid_auto_columns": null,
            "grid_auto_flow": null,
            "grid_auto_rows": null,
            "grid_column": null,
            "grid_gap": null,
            "grid_row": null,
            "grid_template_areas": null,
            "grid_template_columns": null,
            "grid_template_rows": null,
            "height": null,
            "justify_content": null,
            "justify_items": null,
            "left": null,
            "margin": null,
            "max_height": null,
            "max_width": null,
            "min_height": null,
            "min_width": null,
            "object_fit": null,
            "object_position": null,
            "order": null,
            "overflow": null,
            "overflow_x": null,
            "overflow_y": null,
            "padding": null,
            "right": null,
            "top": null,
            "visibility": null,
            "width": null
          }
        },
        "a5a42654373149c8b5cfcffcffa168a3": {
          "model_module": "@jupyter-widgets/controls",
          "model_name": "ProgressStyleModel",
          "model_module_version": "1.5.0",
          "state": {
            "_model_module": "@jupyter-widgets/controls",
            "_model_module_version": "1.5.0",
            "_model_name": "ProgressStyleModel",
            "_view_count": null,
            "_view_module": "@jupyter-widgets/base",
            "_view_module_version": "1.2.0",
            "_view_name": "StyleView",
            "bar_color": null,
            "description_width": ""
          }
        },
        "b06111cb251c44ba809334e136f28aeb": {
          "model_module": "@jupyter-widgets/base",
          "model_name": "LayoutModel",
          "model_module_version": "1.2.0",
          "state": {
            "_model_module": "@jupyter-widgets/base",
            "_model_module_version": "1.2.0",
            "_model_name": "LayoutModel",
            "_view_count": null,
            "_view_module": "@jupyter-widgets/base",
            "_view_module_version": "1.2.0",
            "_view_name": "LayoutView",
            "align_content": null,
            "align_items": null,
            "align_self": null,
            "border": null,
            "bottom": null,
            "display": null,
            "flex": null,
            "flex_flow": null,
            "grid_area": null,
            "grid_auto_columns": null,
            "grid_auto_flow": null,
            "grid_auto_rows": null,
            "grid_column": null,
            "grid_gap": null,
            "grid_row": null,
            "grid_template_areas": null,
            "grid_template_columns": null,
            "grid_template_rows": null,
            "height": null,
            "justify_content": null,
            "justify_items": null,
            "left": null,
            "margin": null,
            "max_height": null,
            "max_width": null,
            "min_height": null,
            "min_width": null,
            "object_fit": null,
            "object_position": null,
            "order": null,
            "overflow": null,
            "overflow_x": null,
            "overflow_y": null,
            "padding": null,
            "right": null,
            "top": null,
            "visibility": null,
            "width": null
          }
        },
        "a059bb56361747df99f1a3d7e94ea198": {
          "model_module": "@jupyter-widgets/controls",
          "model_name": "DescriptionStyleModel",
          "model_module_version": "1.5.0",
          "state": {
            "_model_module": "@jupyter-widgets/controls",
            "_model_module_version": "1.5.0",
            "_model_name": "DescriptionStyleModel",
            "_view_count": null,
            "_view_module": "@jupyter-widgets/base",
            "_view_module_version": "1.2.0",
            "_view_name": "StyleView",
            "description_width": ""
          }
        }
      }
    },
    "accelerator": "GPU"
  },
  "nbformat": 4,
  "nbformat_minor": 0
}